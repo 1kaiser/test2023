{
  "nbformat": 4,
  "nbformat_minor": 0,
  "metadata": {
    "colab": {
      "provenance": [],
      "authorship_tag": "ABX9TyNLEg1gIochKq7rcmDrpCPD",
      "include_colab_link": true
    },
    "kernelspec": {
      "name": "python3",
      "display_name": "Python 3"
    },
    "language_info": {
      "name": "python"
    }
  },
  "cells": [
    {
      "cell_type": "markdown",
      "metadata": {
        "id": "view-in-github",
        "colab_type": "text"
      },
      "source": [
        "<a href=\"https://colab.research.google.com/github/1kaiser/test2023/blob/main/Direct_GDrive_Upload.ipynb\" target=\"_parent\"><img src=\"https://colab.research.google.com/assets/colab-badge.svg\" alt=\"Open In Colab\"/></a>"
      ]
    },
    {
      "cell_type": "code",
      "source": [
        "!python -m pip install PyDrive2"
      ],
      "metadata": {
        "colab": {
          "base_uri": "https://localhost:8080/"
        },
        "id": "oJG8ZvsG2gM-",
        "outputId": "c8a210bc-f2f6-4929-8d46-34b5589eaadb"
      },
      "execution_count": 1,
      "outputs": [
        {
          "output_type": "stream",
          "name": "stdout",
          "text": [
            "Looking in indexes: https://pypi.org/simple, https://us-python.pkg.dev/colab-wheels/public/simple/\n",
            "Collecting PyDrive2\n",
            "  Downloading PyDrive2-1.15.0-py3-none-any.whl (44 kB)\n",
            "\u001b[2K     \u001b[90m━━━━━━━━━━━━━━━━━━━━━━━━━━━━━━━━━━━━━━━━\u001b[0m \u001b[32m44.6/44.6 KB\u001b[0m \u001b[31m2.4 MB/s\u001b[0m eta \u001b[36m0:00:00\u001b[0m\n",
            "\u001b[?25hRequirement already satisfied: PyYAML>=3.0 in /usr/local/lib/python3.8/dist-packages (from PyDrive2) (6.0)\n",
            "Requirement already satisfied: google-api-python-client>=1.12.5 in /usr/local/lib/python3.8/dist-packages (from PyDrive2) (2.70.0)\n",
            "Requirement already satisfied: oauth2client>=4.0.0 in /usr/local/lib/python3.8/dist-packages (from PyDrive2) (4.1.3)\n",
            "Collecting pyOpenSSL>=19.1.0\n",
            "  Downloading pyOpenSSL-23.0.0-py3-none-any.whl (57 kB)\n",
            "\u001b[2K     \u001b[90m━━━━━━━━━━━━━━━━━━━━━━━━━━━━━━━━━━━━━━━━\u001b[0m \u001b[32m57.3/57.3 KB\u001b[0m \u001b[31m3.7 MB/s\u001b[0m eta \u001b[36m0:00:00\u001b[0m\n",
            "\u001b[?25hRequirement already satisfied: google-auth-httplib2>=0.1.0 in /usr/local/lib/python3.8/dist-packages (from google-api-python-client>=1.12.5->PyDrive2) (0.1.0)\n",
            "Requirement already satisfied: google-api-core!=2.0.*,!=2.1.*,!=2.2.*,!=2.3.0,<3.0.0dev,>=1.31.5 in /usr/local/lib/python3.8/dist-packages (from google-api-python-client>=1.12.5->PyDrive2) (2.11.0)\n",
            "Requirement already satisfied: httplib2<1dev,>=0.15.0 in /usr/local/lib/python3.8/dist-packages (from google-api-python-client>=1.12.5->PyDrive2) (0.17.4)\n",
            "Requirement already satisfied: google-auth<3.0.0dev,>=1.19.0 in /usr/local/lib/python3.8/dist-packages (from google-api-python-client>=1.12.5->PyDrive2) (2.16.0)\n",
            "Requirement already satisfied: uritemplate<5,>=3.0.1 in /usr/local/lib/python3.8/dist-packages (from google-api-python-client>=1.12.5->PyDrive2) (4.1.1)\n",
            "Requirement already satisfied: pyasn1-modules>=0.0.5 in /usr/local/lib/python3.8/dist-packages (from oauth2client>=4.0.0->PyDrive2) (0.2.8)\n",
            "Requirement already satisfied: six>=1.6.1 in /usr/local/lib/python3.8/dist-packages (from oauth2client>=4.0.0->PyDrive2) (1.15.0)\n",
            "Requirement already satisfied: pyasn1>=0.1.7 in /usr/local/lib/python3.8/dist-packages (from oauth2client>=4.0.0->PyDrive2) (0.4.8)\n",
            "Requirement already satisfied: rsa>=3.1.4 in /usr/local/lib/python3.8/dist-packages (from oauth2client>=4.0.0->PyDrive2) (4.9)\n",
            "Collecting cryptography<40,>=38.0.0\n",
            "  Downloading cryptography-39.0.0-cp36-abi3-manylinux_2_28_x86_64.whl (4.2 MB)\n",
            "\u001b[2K     \u001b[90m━━━━━━━━━━━━━━━━━━━━━━━━━━━━━━━━━━━━━━━━\u001b[0m \u001b[32m4.2/4.2 MB\u001b[0m \u001b[31m41.5 MB/s\u001b[0m eta \u001b[36m0:00:00\u001b[0m\n",
            "\u001b[?25hRequirement already satisfied: cffi>=1.12 in /usr/local/lib/python3.8/dist-packages (from cryptography<40,>=38.0.0->pyOpenSSL>=19.1.0->PyDrive2) (1.15.1)\n",
            "Requirement already satisfied: googleapis-common-protos<2.0dev,>=1.56.2 in /usr/local/lib/python3.8/dist-packages (from google-api-core!=2.0.*,!=2.1.*,!=2.2.*,!=2.3.0,<3.0.0dev,>=1.31.5->google-api-python-client>=1.12.5->PyDrive2) (1.58.0)\n",
            "Requirement already satisfied: protobuf!=3.20.0,!=3.20.1,!=4.21.0,!=4.21.1,!=4.21.2,!=4.21.3,!=4.21.4,!=4.21.5,<5.0.0dev,>=3.19.5 in /usr/local/lib/python3.8/dist-packages (from google-api-core!=2.0.*,!=2.1.*,!=2.2.*,!=2.3.0,<3.0.0dev,>=1.31.5->google-api-python-client>=1.12.5->PyDrive2) (3.19.6)\n",
            "Requirement already satisfied: requests<3.0.0dev,>=2.18.0 in /usr/local/lib/python3.8/dist-packages (from google-api-core!=2.0.*,!=2.1.*,!=2.2.*,!=2.3.0,<3.0.0dev,>=1.31.5->google-api-python-client>=1.12.5->PyDrive2) (2.25.1)\n",
            "Requirement already satisfied: cachetools<6.0,>=2.0.0 in /usr/local/lib/python3.8/dist-packages (from google-auth<3.0.0dev,>=1.19.0->google-api-python-client>=1.12.5->PyDrive2) (5.2.1)\n",
            "Requirement already satisfied: pycparser in /usr/local/lib/python3.8/dist-packages (from cffi>=1.12->cryptography<40,>=38.0.0->pyOpenSSL>=19.1.0->PyDrive2) (2.21)\n",
            "Requirement already satisfied: chardet<5,>=3.0.2 in /usr/local/lib/python3.8/dist-packages (from requests<3.0.0dev,>=2.18.0->google-api-core!=2.0.*,!=2.1.*,!=2.2.*,!=2.3.0,<3.0.0dev,>=1.31.5->google-api-python-client>=1.12.5->PyDrive2) (4.0.0)\n",
            "Requirement already satisfied: idna<3,>=2.5 in /usr/local/lib/python3.8/dist-packages (from requests<3.0.0dev,>=2.18.0->google-api-core!=2.0.*,!=2.1.*,!=2.2.*,!=2.3.0,<3.0.0dev,>=1.31.5->google-api-python-client>=1.12.5->PyDrive2) (2.10)\n",
            "Requirement already satisfied: urllib3<1.27,>=1.21.1 in /usr/local/lib/python3.8/dist-packages (from requests<3.0.0dev,>=2.18.0->google-api-core!=2.0.*,!=2.1.*,!=2.2.*,!=2.3.0,<3.0.0dev,>=1.31.5->google-api-python-client>=1.12.5->PyDrive2) (1.24.3)\n",
            "Requirement already satisfied: certifi>=2017.4.17 in /usr/local/lib/python3.8/dist-packages (from requests<3.0.0dev,>=2.18.0->google-api-core!=2.0.*,!=2.1.*,!=2.2.*,!=2.3.0,<3.0.0dev,>=1.31.5->google-api-python-client>=1.12.5->PyDrive2) (2022.12.7)\n",
            "Installing collected packages: cryptography, pyOpenSSL, PyDrive2\n",
            "Successfully installed PyDrive2-1.15.0 cryptography-39.0.0 pyOpenSSL-23.0.0\n"
          ]
        }
      ]
    },
    {
      "cell_type": "code",
      "execution_count": 2,
      "metadata": {
        "colab": {
          "base_uri": "https://localhost:8080/"
        },
        "id": "MCu4Rwct2Ca8",
        "outputId": "e56541bb-d335-4123-8a3c-8517877754e1"
      },
      "outputs": [
        {
          "output_type": "stream",
          "name": "stdout",
          "text": [
            "Writing settings.yaml\n"
          ]
        }
      ],
      "source": [
        "%%writefile settings.yaml\n",
        "\n",
        "client_config_backend: settings\n",
        "client_config:\n",
        "  client_id: 49621581740-a3fm39vtadtnmhrfmumoijj6jk9i4ij0.apps.googleusercontent.com\n",
        "  client_secret: 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\n",
        "\n",
        "save_credentials: True\n",
        "save_credentials_backend: file\n",
        "save_credentials_file: credentials.json\n",
        "\n",
        "get_refresh_token: True\n",
        "\n",
        "oauth_scope:\n",
        "  - https://www.googleapis.com/auth/drive.file\n",
        "  - https://www.googleapis.com/auth/drive.install"
      ]
    },
    {
      "cell_type": "code",
      "source": [
        "%%writefile upload.py\n",
        "\n",
        "\n",
        "# Original author: Evren Yurtesen - https://github.com/yurtesen/\n",
        "\n",
        "\"\"\"\n",
        "Uploads a file to a specific folder in Google Drive and converts it to a\n",
        "Google Doc/Sheet/etc. if possible.\n",
        "\n",
        "usage: upload.py <Google Drive folder ID> <local file path>\n",
        "example usage: upload.py 0B5XXXXY9KddXXXXXXXA2c3ZXXXX /path/to/my/file\n",
        "\"\"\"\n",
        "import sys\n",
        "from os import path\n",
        "from pydrive2.auth import GoogleAuth\n",
        "from pydrive2.drive import GoogleDrive\n",
        "from pydrive2.settings import LoadSettingsFile\n",
        "\n",
        "gauth = GoogleAuth()\n",
        "gauth.CommandLineAuth()\n",
        "drive = GoogleDrive(gauth)\n",
        "\n",
        "# If provided arguments incorrect, print usage instructions and exit.\n",
        "if len(sys.argv) < 2:\n",
        "    print(\"usage: upload.py <Google Drive folder ID> <local file path>\")\n",
        "    exit(1)  # Exit program as incorrect parameters provided.\n",
        "\n",
        "parentId = sys.argv[1]\n",
        "myFilePath = sys.argv[2]\n",
        "myFileName = path.basename(sys.argv[2])\n",
        "\n",
        "# Check if file name already exists in folder.\n",
        "file_list = drive.ListFile(\n",
        "    {\n",
        "        \"q\": '\"{}\" in parents and title=\"{}\" and trashed=false'.format(\n",
        "            parentId, myFileName\n",
        "        )\n",
        "    }\n",
        ").GetList()\n",
        "\n",
        "# If file is found, update it, otherwise create new file.\n",
        "if len(file_list) == 1:\n",
        "    myFile = file_list[0]\n",
        "else:\n",
        "    myFile = drive.CreateFile(\n",
        "        {\"parents\": [{\"kind\": \"drive#fileLink\", \"id\": parentId}]}\n",
        "    )\n",
        "\n",
        "# Upload new file content.\n",
        "myFile.SetContentFile(myFilePath)\n",
        "myFile[\"title\"] = myFileName\n",
        "# The `convert` flag indicates to Google Drive whether to convert the\n",
        "# uploaded file into a Google Drive native format, i.e. Google Sheet for\n",
        "# CSV or Google Document for DOCX.\n",
        "print(\"uploading >>>\")\n",
        "myFile.Upload()"
      ],
      "metadata": {
        "colab": {
          "base_uri": "https://localhost:8080/"
        },
        "id": "-peaYB6Z2PBV",
        "outputId": "0b3a6242-ed8d-430f-f546-11aca65feee2"
      },
      "execution_count": 3,
      "outputs": [
        {
          "output_type": "stream",
          "name": "stdout",
          "text": [
            "Writing upload.py\n"
          ]
        }
      ]
    },
    {
      "cell_type": "code",
      "source": [
        "!python upload.py '1adeXlEvClGh85JYdP1aCPmdvDbbzP7YL' a.zip"
      ],
      "metadata": {
        "colab": {
          "base_uri": "https://localhost:8080/"
        },
        "id": "ynSUc5kE2T4o",
        "outputId": "bc4fc352-baed-4e94-a867-f9a016a52180"
      },
      "execution_count": 4,
      "outputs": [
        {
          "output_type": "stream",
          "name": "stdout",
          "text": [
            "/usr/local/lib/python3.8/dist-packages/oauth2client/_helpers.py:255: UserWarning: Cannot access credentials.json: No such file or directory\n",
            "  warnings.warn(_MISSING_FILE_MESSAGE.format(filename))\n",
            "Go to the following link in your browser:\n",
            "\n",
            "    https://accounts.google.com/o/oauth2/auth?client_id=49621581740-a3fm39vtadtnmhrfmumoijj6jk9i4ij0.apps.googleusercontent.com&redirect_uri=urn%3Aietf%3Awg%3Aoauth%3A2.0%3Aoob&scope=https%3A%2F%2Fwww.googleapis.com%2Fauth%2Fdrive.file+https%3A%2F%2Fwww.googleapis.com%2Fauth%2Fdrive.install&access_type=offline&response_type=code&approval_prompt=force\n",
            "\n",
            "Enter verification code: 4/1AWtgzh7gzpNXdThvAc9Bw8IOe9ghLLp5By7TAJlc9ZgIwrvFNd9hH0YZGa0\n",
            "Authentication successful.\n",
            "uploading >>>\n"
          ]
        }
      ]
    }
  ]
}