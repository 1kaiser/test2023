{
  "nbformat": 4,
  "nbformat_minor": 0,
  "metadata": {
    "colab": {
      "provenance": [],
      "authorship_tag": "ABX9TyPHyav1fk6DB4uO+shxxQUR",
      "include_colab_link": true
    },
    "kernelspec": {
      "name": "python3",
      "display_name": "Python 3"
    },
    "language_info": {
      "name": "python"
    }
  },
  "cells": [
    {
      "cell_type": "markdown",
      "metadata": {
        "id": "view-in-github",
        "colab_type": "text"
      },
      "source": [
        "<a href=\"https://colab.research.google.com/github/1kaiser/test2023/blob/main/Direct_GDrive_Upload.ipynb\" target=\"_parent\"><img src=\"https://colab.research.google.com/assets/colab-badge.svg\" alt=\"Open In Colab\"/></a>"
      ]
    },
    {
      "cell_type": "code",
      "source": [
        "!python -m pip install PyDrive2"
      ],
      "metadata": {
        "id": "oJG8ZvsG2gM-"
      },
      "execution_count": null,
      "outputs": []
    },
    {
      "cell_type": "code",
      "execution_count": null,
      "metadata": {
        "id": "MCu4Rwct2Ca8"
      },
      "outputs": [],
      "source": [
        "%%writefile settings.yaml\n",
        "\n",
        "client_config_backend: settings\n",
        "client_config:\n",
        "  client_id: 49621581740-a3fm39vtadtnmhrfmumoijj6jk9i4ij0.apps.googleusercontent.com\n",
        "  client_secret: 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\n",
        "\n",
        "save_credentials: True\n",
        "save_credentials_backend: file\n",
        "save_credentials_file: credentials.json\n",
        "\n",
        "get_refresh_token: True\n",
        "\n",
        "oauth_scope:\n",
        "  - https://www.googleapis.com/auth/drive.file\n",
        "  - https://www.googleapis.com/auth/drive.install"
      ]
    },
    {
      "cell_type": "code",
      "source": [
        "%%writefile upload.py\n",
        "\n",
        "\n",
        "# Original author: Evren Yurtesen - https://github.com/yurtesen/\n",
        "\n",
        "\"\"\"\n",
        "Uploads a file to a specific folder in Google Drive and converts it to a\n",
        "Google Doc/Sheet/etc. if possible.\n",
        "\n",
        "usage: upload.py <Google Drive folder ID> <local file path>\n",
        "example usage: upload.py 0B5XXXXY9KddXXXXXXXA2c3ZXXXX /path/to/my/file\n",
        "\"\"\"\n",
        "import sys\n",
        "from os import path\n",
        "from pydrive2.auth import GoogleAuth\n",
        "from pydrive2.drive import GoogleDrive\n",
        "from pydrive2.settings import LoadSettingsFile\n",
        "\n",
        "gauth = GoogleAuth()\n",
        "gauth.settings = LoadSettingsFile(filename='settings.yaml')\n",
        "gauth.CommandLineAuth()\n",
        "drive = GoogleDrive(gauth)\n",
        "\n",
        "# If provided arguments incorrect, print usage instructions and exit.\n",
        "if len(sys.argv) < 2:\n",
        "    print(\"usage: upload.py <Google Drive folder ID> <local file path>\")\n",
        "    exit(1)  # Exit program as incorrect parameters provided.\n",
        "\n",
        "parentId = sys.argv[1]\n",
        "myFilePath = sys.argv[2]\n",
        "myFileName = path.basename(sys.argv[2])\n",
        "\n",
        "# Check if file name already exists in folder.\n",
        "file_list = drive.ListFile(\n",
        "    {\n",
        "        \"q\": '\"{}\" in parents and title=\"{}\" and trashed=false'.format(\n",
        "            parentId, myFileName\n",
        "        )\n",
        "    }\n",
        ").GetList()\n",
        "\n",
        "# If file is found, update it, otherwise create new file.\n",
        "if len(file_list) == 1:\n",
        "    myFile = file_list[0]\n",
        "else:\n",
        "    myFile = drive.CreateFile(\n",
        "        {\"parents\": [{\"kind\": \"drive#fileLink\", \"id\": parentId}]}\n",
        "    )\n",
        "\n",
        "# Upload new file content.\n",
        "myFile.SetContentFile(myFilePath)\n",
        "myFile[\"title\"] = myFileName\n",
        "# The `convert` flag indicates to Google Drive whether to convert the\n",
        "# uploaded file into a Google Drive native format, i.e. Google Sheet for\n",
        "# CSV or Google Document for DOCX.\n",
        "myFile.Upload()"
      ],
      "metadata": {
        "id": "-peaYB6Z2PBV"
      },
      "execution_count": null,
      "outputs": []
    },
    {
      "cell_type": "code",
      "source": [
        "!python upload.py '1adeXlEvClGh85JYdP1aCPmdvDbbzP7YL' Data_siliguri.zip"
      ],
      "metadata": {
        "id": "ynSUc5kE2T4o"
      },
      "execution_count": null,
      "outputs": []
    }
  ]
}