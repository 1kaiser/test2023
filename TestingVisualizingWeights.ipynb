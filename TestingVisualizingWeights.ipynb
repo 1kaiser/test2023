{
  "nbformat": 4,
  "nbformat_minor": 0,
  "metadata": {
    "colab": {
      "provenance": [],
      "authorship_tag": "ABX9TyNOcBGjjtLCoAkGLE4TgYQf",
      "include_colab_link": true
    },
    "kernelspec": {
      "name": "python3",
      "display_name": "Python 3"
    },
    "language_info": {
      "name": "python"
    }
  },
  "cells": [
    {
      "cell_type": "markdown",
      "metadata": {
        "id": "view-in-github",
        "colab_type": "text"
      },
      "source": [
        "<a href=\"https://colab.research.google.com/github/1kaiser/test2023/blob/main/TestingVisualizingWeights.ipynb\" target=\"_parent\"><img src=\"https://colab.research.google.com/assets/colab-badge.svg\" alt=\"Open In Colab\"/></a>"
      ]
    },
    {
      "cell_type": "code",
      "execution_count": 1,
      "metadata": {
        "id": "rxbAb5VaibGM",
        "colab": {
          "base_uri": "https://localhost:8080/"
        },
        "outputId": "e4ade216-5abc-4c56-d438-1860d5abd1f0"
      },
      "outputs": [
        {
          "output_type": "stream",
          "name": "stdout",
          "text": [
            "Downloading data from https://github.com/1kaiser/Snow-cover-area-estimation/releases/download/v1/imagesfolder.zip\n",
            "1116364563/1116364563 [==============================] - 107s 0us/step\n"
          ]
        }
      ],
      "source": [
        "import tensorflow as tf\n",
        "import pathlib\n",
        "dir='/content/files'\n",
        "urls = 'https://github.com/1kaiser/Snow-cover-area-estimation/releases/download/v1/imagesfolder.zip'\n",
        "data_dir = tf.keras.utils.get_file(origin=urls,\n",
        "                                   fname='s',\n",
        "                                   cache_subdir= dir,\n",
        "                                   archive_format='auto',\n",
        "                                   untar=False,\n",
        "                                   extract=True)\n",
        "!rm -r {dir}/s\n",
        "data_dir = pathlib.Path(data_dir)"
      ]
    },
    {
      "cell_type": "code",
      "source": [
        "import numpy as np\n",
        "import matplotlib.pyplot as plt\n",
        "import pandas as pd\n",
        "import os.path\n",
        "import re\n",
        "\n",
        "from osgeo import gdal\n",
        "\n",
        "def tif2array(input_file, calc_gain=True):\n",
        "\n",
        "    dataset = gdal.Open(input_file, gdal.GA_ReadOnly)\n",
        "    image_datatype = dataset.GetRasterBand(1).DataType\n",
        "    image = np.zeros((dataset.RasterYSize, dataset.RasterXSize, dataset.RasterCount), dtype=float)\n",
        "\n",
        "    return image, dataset\n"
      ],
      "metadata": {
        "id": "JAarwl2xij8I"
      },
      "execution_count": 2,
      "outputs": []
    },
    {
      "cell_type": "code",
      "source": [
        "image_dir = r'/content/files/'\n",
        "\n",
        "#############################################################################\n",
        "prefix = \"sur_refl_\"\n",
        "end = [\"b01\", \"b02\", \"b03\", \"b04\", \"b05\", \"b06\", \"b07\", \"day_of_year\", \"qc_500m\", \"raz\", \"state_500m\", \"szen\", \"vzen\"]\n",
        "DayOY = \"_doy\\[0-9]+_aid0001\"\n",
        "fileExt = r'.tif'\n",
        "expression_b1 = prefix+end[0]\n",
        "expression_b2 = prefix+end[1]\n",
        "expression_b3 = prefix+end[2]\n",
        "expression_b4 = prefix+end[3]\n",
        "expression_b5 = prefix+end[4]\n",
        "expression_b6 = prefix+end[5]\n",
        "expression_b7 = prefix+end[6]\n",
        "\n",
        "\n",
        "imgs_list_b1 = [f for f in os.listdir(image_dir) if f.__contains__(expression_b1)]\n",
        "\n",
        "imgs_list_b1.sort(reverse=True)       "
      ],
      "metadata": {
        "id": "18V2j8zai4Qj"
      },
      "execution_count": 3,
      "outputs": []
    },
    {
      "cell_type": "code",
      "source": [
        "from google.colab import output\n",
        "temp_dir = r'/content/'\n",
        "\n",
        "def ybatchedimages(images_path, image_list, batch_idx):\n",
        "  images = []\n",
        "  path = os.path.join(images_path, image_list[batch_idx])\n",
        "  pathb2 = path.replace(expression_b1, expression_b2)\n",
        "  pathb4 = path.replace(expression_b1, expression_b4)\n",
        "  pathb6 = path.replace(expression_b1, expression_b6)\n",
        "\n",
        "  #creating file NDSI\n",
        "  !gdal_calc.py \\\n",
        "    --overwrite \\\n",
        "    --type=Float32 \\\n",
        "    --NoDataValue=0 \\\n",
        "    -A {pathb4} \\\n",
        "    --A_band 1 \\\n",
        "    -B {pathb6} \\\n",
        "    --B_band 1 \\\n",
        "    -C {pathb2} \\\n",
        "    --C_band 1 \\\n",
        "    --outfile={temp_dir}\"BothCheck_result_final.tif\" \\\n",
        "    --calc=\"(((A.astype(float) - B)/(A.astype(float) + B))>=0.4)*(C.astype(float)/10000>0.11)\"\n",
        "\n",
        "  pathout = temp_dir+str('BothCheck_result_final.tif')\n",
        "  images.append(tif2array(pathout, 0)[0])\n",
        "\n",
        "  !rm -r {temp_dir}\"BothCheck_result_final.tif\"\n",
        "  output.clear()\n",
        "  return images\n",
        "\n",
        "\n",
        "import jax.numpy as jnp\n",
        "def xbatchedimages(images_path, image_list, batch_idx):\n",
        "  images = []\n",
        "  path = os.path.join(images_path, image_list[batch_idx])\n",
        "  v1 = tif2array(path.replace(expression_b1, expression_b1),0)[0]\n",
        "  v2 = jnp.append(v1, tif2array(path.replace(expression_b1, expression_b2),0)[0] , axis =2)\n",
        "  v3 = jnp.append(v2, tif2array(path.replace(expression_b1, expression_b3),0)[0] , axis =2)\n",
        "  v4 = jnp.append(v3, tif2array(path.replace(expression_b1, expression_b4),0)[0] , axis =2)\n",
        "  v5 = jnp.append(v4, tif2array(path.replace(expression_b1, expression_b5),0)[0] , axis =2)\n",
        "  v6 = jnp.append(v5, tif2array(path.replace(expression_b1, expression_b6),0)[0] , axis =2)\n",
        "  v7 = jnp.append(v6, tif2array(path.replace(expression_b1, expression_b7),0)[0] , axis =2)\n",
        "  images.append(v7)\n",
        "  w1 = tif2array(path.replace(expression_b1, expression_b1),0)[0]\n",
        "  w2 = tif2array(path.replace(expression_b1, expression_b2),0)[0]\n",
        "  w3 = tif2array(path.replace(expression_b1, expression_b3),0)[0]\n",
        "  w4 = tif2array(path.replace(expression_b1, expression_b4),0)[0]\n",
        "  w5 = tif2array(path.replace(expression_b1, expression_b5),0)[0]\n",
        "  w6 = tif2array(path.replace(expression_b1, expression_b6),0)[0]\n",
        "  w7 = tif2array(path.replace(expression_b1, expression_b7),0)[0]\n",
        "  return images\n",
        "\n",
        "import jax.random as random\n",
        "import jax.numpy as jnp\n",
        "batch_size = 1\n",
        "no_of_batches = int(len(imgs_list_b1)/batch_size)\n",
        "def data_stream(i, no_of_batches):\n",
        "  return jnp.asarray(xbatchedimages(image_dir, imgs_list_b1, i)), jnp.asarray(ybatchedimages(image_dir, imgs_list_b1, i))"
      ],
      "metadata": {
        "id": "2OwS8RhHi_QD"
      },
      "execution_count": 4,
      "outputs": []
    },
    {
      "cell_type": "code",
      "source": [
        "#✅\n",
        "import jax\n",
        "import jax.numpy as jnp\n",
        "\n",
        "import cv2\n",
        "from google.colab.patches import cv2_imshow\n",
        "import numpy as np \n",
        "\n",
        "\n",
        "def batch_encoded(args):\n",
        "    img_list = []\n",
        "    for i in range(args.shape[0]):\n",
        "        c = args[i]\n",
        "        c = c.reshape(-1, c.shape[2])\n",
        "        p = positional_encoding(c)\n",
        "        img_list.append(p.reshape(args.shape[1],args.shape[2],p.shape[1]))\n",
        "        x = jnp.array(img_list)\n",
        "    return x\n",
        "\n",
        "#✅\n",
        "!python -m pip install -qq -U flax orbax\n",
        "# Orbax needs to enable asyncio in a Colab environment.\n",
        "!python -m pip install -qq nest_asyncio\n",
        "\n",
        "\n",
        "import jax\n",
        "import jax.numpy as jnp\n",
        "\n",
        "import flax\n",
        "import optax\n",
        "from typing import Any\n",
        "\n",
        "from jax import lax\n",
        "import flax.linen as nn\n",
        "from flax.training import train_state, common_utils\n",
        "\n",
        "apply_positional_encoding = True # Apply posittional encoding to the input or not\n",
        "ndl = 8 # num_dense_layers Number of dense layers in MLP\n",
        "dlw = 256 # dense_layer_width Dimentionality of dense layers' output space \n",
        "\n",
        "##########################################<< MLP MODEL >>#########################################\n",
        "class MLPModel(nn.Module):\n",
        "    dtype: Any = jnp.float32\n",
        "    precision: Any = lax.Precision.DEFAULT\n",
        "    apply_positional_encoding: bool = apply_positional_encoding\n",
        "    @nn.compact\n",
        "    def __call__(self, input_points):\n",
        "      x = batch_encoded(input_points) if self.apply_positional_encoding else input_points\n",
        "      for i in range(ndl):\n",
        "          x = nn.Dense(dlw,dtype=self.dtype,precision=self.precision)(x)\n",
        "          x = nn.relu(x)\n",
        "          x = jnp.concatenate([x, input_points], axis=-1) if i == 4 else x\n",
        "      x = nn.Dense(1, dtype=self.dtype, precision=self.precision)(x)\n",
        "      return x\n",
        "##########################################<< MLP MODEL >>#########################################\n",
        "\n",
        "#✅\n",
        "!python -m pip install -q -U flax\n",
        "import optax\n",
        "from flax.training import train_state\n",
        "import jax.numpy as jnp\n",
        "import jax\n",
        "\n",
        "\n",
        "def Create_train_state(r_key, model, shape, learning_rate ) -> train_state.TrainState:\n",
        "    variables = model.init(r_key, jnp.ones(shape)) \n",
        "    optimizer = optax.adam(learning_rate) \n",
        "    return train_state.TrainState.create(\n",
        "        apply_fn = model.apply,\n",
        "        tx=optimizer,\n",
        "        params=variables['params']\n",
        "    )\n",
        "\n",
        "learning_rate = 1e-4\n",
        "model = MLPModel() # Instantiate the Model"
      ],
      "metadata": {
        "id": "YBNJMt_jjFte",
        "colab": {
          "base_uri": "https://localhost:8080/"
        },
        "outputId": "a5e83948-33ef-4345-c635-b2c4f3c33ac1"
      },
      "execution_count": 5,
      "outputs": [
        {
          "output_type": "stream",
          "name": "stdout",
          "text": [
            "\u001b[?25l     \u001b[90m━━━━━━━━━━━━━━━━━━━━━━━━━━━━━━━━━━━━━━━━\u001b[0m \u001b[32m0.0/197.4 KB\u001b[0m \u001b[31m?\u001b[0m eta \u001b[36m-:--:--\u001b[0m\r\u001b[2K     \u001b[90m━━━━━━━━━━━━━━━━━━━━━━━━━━━━━━━━━━━━━━━\u001b[0m \u001b[32m197.4/197.4 KB\u001b[0m \u001b[31m8.5 MB/s\u001b[0m eta \u001b[36m0:00:00\u001b[0m\n",
            "\u001b[2K     \u001b[90m━━━━━━━━━━━━━━━━━━━━━━━━━━━━━━━━━━━━━━━━\u001b[0m \u001b[32m67.0/67.0 KB\u001b[0m \u001b[31m7.7 MB/s\u001b[0m eta \u001b[36m0:00:00\u001b[0m\n",
            "\u001b[2K     \u001b[90m━━━━━━━━━━━━━━━━━━━━━━━━━━━━━━━━━━━━━━\u001b[0m \u001b[32m154.9/154.9 KB\u001b[0m \u001b[31m19.4 MB/s\u001b[0m eta \u001b[36m0:00:00\u001b[0m\n",
            "\u001b[2K     \u001b[90m━━━━━━━━━━━━━━━━━━━━━━━━━━━━━━━━━━━━━━\u001b[0m \u001b[32m238.4/238.4 KB\u001b[0m \u001b[31m23.7 MB/s\u001b[0m eta \u001b[36m0:00:00\u001b[0m\n",
            "\u001b[2K     \u001b[90m━━━━━━━━━━━━━━━━━━━━━━━━━━━━━━━━━━━━━━━━\u001b[0m \u001b[32m8.3/8.3 MB\u001b[0m \u001b[31m114.0 MB/s\u001b[0m eta \u001b[36m0:00:00\u001b[0m\n",
            "\u001b[2K     \u001b[90m━━━━━━━━━━━━━━━━━━━━━━━━━━━━━━━━━━━━━━━━\u001b[0m \u001b[32m51.1/51.1 KB\u001b[0m \u001b[31m7.0 MB/s\u001b[0m eta \u001b[36m0:00:00\u001b[0m\n",
            "\u001b[2K     \u001b[90m━━━━━━━━━━━━━━━━━━━━━━━━━━━━━━━━━━━━━━━━\u001b[0m \u001b[32m85.3/85.3 KB\u001b[0m \u001b[31m11.3 MB/s\u001b[0m eta \u001b[36m0:00:00\u001b[0m\n",
            "\u001b[?25h"
          ]
        }
      ]
    },
    {
      "cell_type": "code",
      "source": [
        "b = data_stream(110, no_of_batches)[0]\n",
        "# print(b)\n",
        "print(b.shape)\n",
        "print(jnp.max(b[1]))\n",
        "\n",
        "rangex = b.shape[3]\n",
        "params = cv2.split(np.array(b[0],  dtype=np.uint8)*255)\n",
        "fig, ax = plt.subplots(2, int(rangex/2)+1, figsize=(8,8))\n",
        "print(ax.shape)\n",
        "images = [params[i] for i in range(len(params))]\n",
        "for i, ax in enumerate(ax.flatten()):\n",
        "    if i < len(images):\n",
        "        ax.imshow(images[i], cmap='ocean')\n",
        "    else:\n",
        "        ax.remove()\n",
        "  # plt.imshow([0] , cmap = 'magma' )\n",
        "  # plt.colorbar()\n",
        "plt.tight_layout() \n",
        "plt.show()\n"
      ],
      "metadata": {
        "colab": {
          "base_uri": "https://localhost:8080/",
          "height": 730
        },
        "id": "Rj9KT7-HNBXe",
        "outputId": "3defb6c8-c727-4918-abad-b57669e4b2fe"
      },
      "execution_count": 68,
      "outputs": [
        {
          "output_type": "stream",
          "name": "stdout",
          "text": [
            "(1, 233, 454, 7)\n",
            "0.0\n",
            "(2, 4)\n"
          ]
        },
        {
          "output_type": "error",
          "ename": "RuntimeError",
          "evalue": "ignored",
          "traceback": [
            "\u001b[0;31m---------------------------------------------------------------------------\u001b[0m",
            "\u001b[0;31mRuntimeError\u001b[0m                              Traceback (most recent call last)",
            "\u001b[0;32m<ipython-input-68-899c45c00248>\u001b[0m in \u001b[0;36m<module>\u001b[0;34m\u001b[0m\n\u001b[1;32m     15\u001b[0m         \u001b[0max\u001b[0m\u001b[0;34m.\u001b[0m\u001b[0mremove\u001b[0m\u001b[0;34m(\u001b[0m\u001b[0;34m)\u001b[0m\u001b[0;34m\u001b[0m\u001b[0;34m\u001b[0m\u001b[0m\n\u001b[1;32m     16\u001b[0m   \u001b[0;31m# plt.imshow([0] , cmap = 'magma' )\u001b[0m\u001b[0;34m\u001b[0m\u001b[0;34m\u001b[0m\u001b[0;34m\u001b[0m\u001b[0m\n\u001b[0;32m---> 17\u001b[0;31m \u001b[0mplt\u001b[0m\u001b[0;34m.\u001b[0m\u001b[0mcolorbar\u001b[0m\u001b[0;34m(\u001b[0m\u001b[0;34m)\u001b[0m\u001b[0;34m\u001b[0m\u001b[0;34m\u001b[0m\u001b[0m\n\u001b[0m\u001b[1;32m     18\u001b[0m \u001b[0mplt\u001b[0m\u001b[0;34m.\u001b[0m\u001b[0mtight_layout\u001b[0m\u001b[0;34m(\u001b[0m\u001b[0;34m)\u001b[0m\u001b[0;34m\u001b[0m\u001b[0;34m\u001b[0m\u001b[0m\n\u001b[1;32m     19\u001b[0m \u001b[0mplt\u001b[0m\u001b[0;34m.\u001b[0m\u001b[0mshow\u001b[0m\u001b[0;34m(\u001b[0m\u001b[0;34m)\u001b[0m\u001b[0;34m\u001b[0m\u001b[0;34m\u001b[0m\u001b[0m\n",
            "\u001b[0;32m/usr/local/lib/python3.8/dist-packages/matplotlib/pyplot.py\u001b[0m in \u001b[0;36mcolorbar\u001b[0;34m(mappable, cax, ax, **kw)\u001b[0m\n\u001b[1;32m   2001\u001b[0m         \u001b[0mmappable\u001b[0m \u001b[0;34m=\u001b[0m \u001b[0mgci\u001b[0m\u001b[0;34m(\u001b[0m\u001b[0;34m)\u001b[0m\u001b[0;34m\u001b[0m\u001b[0;34m\u001b[0m\u001b[0m\n\u001b[1;32m   2002\u001b[0m         \u001b[0;32mif\u001b[0m \u001b[0mmappable\u001b[0m \u001b[0;32mis\u001b[0m \u001b[0;32mNone\u001b[0m\u001b[0;34m:\u001b[0m\u001b[0;34m\u001b[0m\u001b[0;34m\u001b[0m\u001b[0m\n\u001b[0;32m-> 2003\u001b[0;31m             raise RuntimeError('No mappable was found to use for colorbar '\n\u001b[0m\u001b[1;32m   2004\u001b[0m                                \u001b[0;34m'creation. First define a mappable such as '\u001b[0m\u001b[0;34m\u001b[0m\u001b[0;34m\u001b[0m\u001b[0m\n\u001b[1;32m   2005\u001b[0m                                \u001b[0;34m'an image (with imshow) or a contour set ('\u001b[0m\u001b[0;34m\u001b[0m\u001b[0;34m\u001b[0m\u001b[0m\n",
            "\u001b[0;31mRuntimeError\u001b[0m: No mappable was found to use for colorbar creation. First define a mappable such as an image (with imshow) or a contour set (with contourf)."
          ]
        },
        {
          "output_type": "display_data",
          "data": {
            "text/plain": [
              "<Figure size 576x576 with 7 Axes>"
            ],
            "image/png": "[encoded data removed]"
          },
          "metadata": {
            "needs_background": "light"
          }
        }
      ]
    },
    {
      "cell_type": "code",
      "source": [
        "a = jnp.ones((1, 105782, 7))\n",
        "print(a.shape)\n",
        "a = jax.vmap(lambda x: a[0] * 2.0 ** x)(jnp.arange(6))\n",
        "print(a.shape)\n",
        "print(a)\n",
        "a = np.array(a[5].reshape((233, 454, a.shape[2]))[:,:,2],  dtype=np.uint8)\n",
        "print(a.shape)\n",
        "print(a)\n",
        "plt.imshow(a , cmap = 'magma' )\n",
        "\n",
        "# plt.imshow(cv2.split(np.array(a[0].reshape((233, 454, a.shape[2])),  dtype=np.uint8))[0] , cmap = 'magma' )\n",
        "plt.colorbar()"
      ],
      "metadata": {
        "colab": {
          "base_uri": "https://localhost:8080/",
          "height": 1000
        },
        "id": "n6rILGiNOFPa",
        "outputId": "3908784d-f141-4c78-d001-9d5ef834d7e7"
      },
      "execution_count": 52,
      "outputs": [
        {
          "output_type": "stream",
          "name": "stdout",
          "text": [
            "(1, 105782, 7)\n",
            "(6, 105782, 7)\n",
            "[[[ 1.  1.  1. ...  1.  1.  1.]\n",
            "  [ 1.  1.  1. ...  1.  1.  1.]\n",
            "  [ 1.  1.  1. ...  1.  1.  1.]\n",
            "  ...\n",
            "  [ 1.  1.  1. ...  1.  1.  1.]\n",
            "  [ 1.  1.  1. ...  1.  1.  1.]\n",
            "  [ 1.  1.  1. ...  1.  1.  1.]]\n",
            "\n",
            " [[ 2.  2.  2. ...  2.  2.  2.]\n",
            "  [ 2.  2.  2. ...  2.  2.  2.]\n",
            "  [ 2.  2.  2. ...  2.  2.  2.]\n",
            "  ...\n",
            "  [ 2.  2.  2. ...  2.  2.  2.]\n",
            "  [ 2.  2.  2. ...  2.  2.  2.]\n",
            "  [ 2.  2.  2. ...  2.  2.  2.]]\n",
            "\n",
            " [[ 4.  4.  4. ...  4.  4.  4.]\n",
            "  [ 4.  4.  4. ...  4.  4.  4.]\n",
            "  [ 4.  4.  4. ...  4.  4.  4.]\n",
            "  ...\n",
            "  [ 4.  4.  4. ...  4.  4.  4.]\n",
            "  [ 4.  4.  4. ...  4.  4.  4.]\n",
            "  [ 4.  4.  4. ...  4.  4.  4.]]\n",
            "\n",
            " [[ 8.  8.  8. ...  8.  8.  8.]\n",
            "  [ 8.  8.  8. ...  8.  8.  8.]\n",
            "  [ 8.  8.  8. ...  8.  8.  8.]\n",
            "  ...\n",
            "  [ 8.  8.  8. ...  8.  8.  8.]\n",
            "  [ 8.  8.  8. ...  8.  8.  8.]\n",
            "  [ 8.  8.  8. ...  8.  8.  8.]]\n",
            "\n",
            " [[16. 16. 16. ... 16. 16. 16.]\n",
            "  [16. 16. 16. ... 16. 16. 16.]\n",
            "  [16. 16. 16. ... 16. 16. 16.]\n",
            "  ...\n",
            "  [16. 16. 16. ... 16. 16. 16.]\n",
            "  [16. 16. 16. ... 16. 16. 16.]\n",
            "  [16. 16. 16. ... 16. 16. 16.]]\n",
            "\n",
            " [[32. 32. 32. ... 32. 32. 32.]\n",
            "  [32. 32. 32. ... 32. 32. 32.]\n",
            "  [32. 32. 32. ... 32. 32. 32.]\n",
            "  ...\n",
            "  [32. 32. 32. ... 32. 32. 32.]\n",
            "  [32. 32. 32. ... 32. 32. 32.]\n",
            "  [32. 32. 32. ... 32. 32. 32.]]]\n",
            "(233, 454)\n",
            "[[32 32 32 ... 32 32 32]\n",
            " [32 32 32 ... 32 32 32]\n",
            " [32 32 32 ... 32 32 32]\n",
            " ...\n",
            " [32 32 32 ... 32 32 32]\n",
            " [32 32 32 ... 32 32 32]\n",
            " [32 32 32 ... 32 32 32]]\n"
          ]
        },
        {
          "output_type": "execute_result",
          "data": {
            "text/plain": [
              "<matplotlib.colorbar.Colorbar at 0x7f71a050cd30>"
            ]
          },
          "metadata": {},
          "execution_count": 52
        },
        {
          "output_type": "display_data",
          "data": {
            "text/plain": [
              "<Figure size 432x288 with 2 Axes>"
            ],
            "image/png": "[encoded data removed]"
          },
          "metadata": {
            "needs_background": "light"
          }
        }
      ]
    },
    {
      "cell_type": "code",
      "source": [
        "b = data_stream(100, no_of_batches)[0]\n",
        "print(b.shape)\n",
        "a = jnp.ones((6, 105782, 7))\n",
        "print(a.shape)\n",
        "a = jax.vmap(lambda x: a[0] * 2.0 ** x)(jnp.arange(6))\n",
        "print(a.shape)\n",
        "a = plotter(a)\n",
        "print(a.shape)\n",
        "b = plotter(b)\n",
        "print(b.shape)\n",
        "plt.imshow(np.array(b,  dtype=np.uint8) , cmap = 'magma' )\n",
        "\n",
        "# plt.imshow(cv2.split(np.array(a[0].reshape((233, 454, a.shape[2])),  dtype=np.uint8))[0] , cmap = 'magma' )\n",
        "plt.colorbar()"
      ],
      "metadata": {
        "colab": {
          "base_uri": "https://localhost:8080/",
          "height": 373
        },
        "id": "Bi-Lkem6K5VE",
        "outputId": "b12ffe25-c74b-47d8-82f7-002df0ee4544"
      },
      "execution_count": 27,
      "outputs": [
        {
          "output_type": "stream",
          "name": "stdout",
          "text": [
            "(1, 233, 454, 7)\n",
            "(6, 105782, 7)\n",
            "(6, 105782, 7)\n",
            "(1631, 2724)\n",
            "(1631, 454)\n"
          ]
        },
        {
          "output_type": "execute_result",
          "data": {
            "text/plain": [
              "<matplotlib.colorbar.Colorbar at 0x7f71a0a83cd0>"
            ]
          },
          "metadata": {},
          "execution_count": 27
        },
        {
          "output_type": "display_data",
          "data": {
            "text/plain": [
              "<Figure size 432x288 with 2 Axes>"
            ],
            "image/png": "[encoded data removed]"
          },
          "metadata": {
            "needs_background": "light"
          }
        }
      ]
    },
    {
      "cell_type": "code",
      "source": [
        "positional_encoding_dims = 9  # Number of positional encodings applied\n",
        "import matplotlib.pyplot as plt\n",
        "\n",
        "def positional_encoding(args):\n",
        "    image_height_x_image_width, cha = args.shape\n",
        "    inputs_freq = jax.vmap(lambda x: args * 2.0 ** x)(jnp.arange(positional_encoding_dims)); print(inputs_freq.shape)\n",
        "    a = inputs_freq\n",
        "    z1 = plotter(a)\n",
        "\n",
        "    x = jnp.stack([jnp.sin(inputs_freq), jnp.cos(inputs_freq)]);                print(x.shape)\n",
        "    a = x[0]\n",
        "    z2 = plotter(a)\n",
        "\n",
        "    a = x[1]\n",
        "    z3 = plotter(a)\n",
        "\n",
        "    x = x.swapaxes(0, 2);                                                       print(x.shape)\n",
        "    x = x.reshape([image_height_x_image_width, -1]);                            print(x.shape)\n",
        "    x = jnp.concatenate([args, x], axis=-1);                                    print(x.shape)\n",
        "\n",
        "    xxx = cv2.split(np.array(x.reshape((233, 454, x.shape[1])),  dtype=np.uint8))\n",
        "    aaa =[]\n",
        "    for j in range(10):\n",
        "      if (j==0):\n",
        "        aaa = xxx[j]\n",
        "      else:\n",
        "        aaa = np.append(aaa, xxx[j], 0)\n",
        "    print(aaa.shape)\n",
        "    rangex = 4\n",
        "    fig, axes = plt.subplots(int(rangex/2), int(rangex/2)+1, figsize=(20, 20))\n",
        "    plt.axis('off')\n",
        "    im_1 = axes[0,0].imshow(z1, cmap='magma')\n",
        "    plt.axis('off')\n",
        "    im_2 = axes[0,1].imshow(z2, cmap='cividis')\n",
        "    plt.axis('off')\n",
        "    im_3 = axes[0,2].imshow(z3, cmap='cividis')\n",
        "    plt.axis('off')\n",
        "    im_4 = axes[1,0].pcolormesh(aaa, cmap='plasma')\n",
        "    print(args.shape)\n",
        "    a = cv2.split(np.array(args.reshape((233, 454, cha))*255,  dtype=np.uint8))\n",
        "    plt.axis('off')\n",
        "    im_5 = axes[1,1].imshow(a[0], cmap='plasma')\n",
        "\n",
        "    plt.tight_layout() \n",
        "    plt.axis('off')\n",
        "    plt.show()\n",
        "\n",
        "    return x\n"
      ],
      "metadata": {
        "id": "d5NKCP8cTVQz"
      },
      "execution_count": 6,
      "outputs": []
    },
    {
      "cell_type": "code",
      "source": [
        "a = jnp.ones((6, 105782, 7))\n",
        "a.shape\n",
        "plt.imshow(cv2.split(np.array(a[0].reshape((233, 454, a.shape[2]))*20,  dtype=np.uint8))[0] , cmap = 'magma' )\n",
        "plt.colorbar()"
      ],
      "metadata": {
        "id": "5csf3XW8OVOP",
        "colab": {
          "base_uri": "https://localhost:8080/",
          "height": 275
        },
        "outputId": "b63b49a3-edd4-410e-e404-27a61b9b3394"
      },
      "execution_count": 12,
      "outputs": [
        {
          "output_type": "execute_result",
          "data": {
            "text/plain": [
              "<matplotlib.colorbar.Colorbar at 0x7f71a6f3e100>"
            ]
          },
          "metadata": {},
          "execution_count": 12
        },
        {
          "output_type": "display_data",
          "data": {
            "text/plain": [
              "<Figure size 432x288 with 2 Axes>"
            ],
            "image/png": "[encoded data removed]"
          },
          "metadata": {
            "needs_background": "light"
          }
        }
      ]
    },
    {
      "cell_type": "code",
      "source": [
        "import matplotlib.pyplot as plt\n",
        "import numpy as np\n",
        "a = np.random.uniform(0,256,(9, 105782, 7))\n",
        "\n",
        "def plotter(a):\n",
        "  a1 = []\n",
        "  for i in range(a.shape[0]):\n",
        "    xxx = cv2.split(np.array(a[i].reshape((233, 454, 7))))\n",
        "    # print(xxx[i].shape)\n",
        "    for j in range(len(xxx)):\n",
        "      if (j==0):\n",
        "        a1 = xxx[j]\n",
        "      else:\n",
        "        a1 = np.append(a1, xxx[j], 0)\n",
        "\n",
        "    if (i==0):\n",
        "      b1 = a1\n",
        "    else:\n",
        "      b1 = np.append(b1, a1, 1)\n",
        "  return b1\n",
        "  # plt.axis('off')\n",
        "  # plt.imshow( b1, cmap = 'magma' )  \n",
        "\n",
        "plotter(a)\n",
        "    # ss = [xxx[0],xxx[1],xxx[2],xxx[3],xxx[4],xxx[5],xxx[6]]\n",
        "    # plt.pcolormesh( ss , cmap = 'magma' )\n",
        "    # if (i==0):\n",
        "    #   a1 = cv2.hconcat(ss)\n",
        "    # a1 = cv2.vconcat([a1,cv2.hconcat(ss)])\n",
        "\n",
        "\n"
      ],
      "metadata": {
        "id": "OTmAa_aJOeFw",
        "colab": {
          "base_uri": "https://localhost:8080/"
        },
        "outputId": "ddc1d540-bf15-45cc-8cc2-f1ef1ddb5d6d"
      },
      "execution_count": 20,
      "outputs": [
        {
          "output_type": "execute_result",
          "data": {
            "text/plain": [
              "array([[192.3664156 ,  48.18070885, 142.86187789, ..., 232.55049624,\n",
              "         20.8898381 , 224.54947397],\n",
              "       [202.2379646 , 168.93983578,  23.53029009, ..., 222.91228009,\n",
              "         48.45945285, 130.37749135],\n",
              "       [230.30668565, 149.7200185 , 109.89705139, ...,  12.41392738,\n",
              "        182.8425765 , 199.8753727 ],\n",
              "       ...,\n",
              "       [158.19887269, 102.5753301 ,  84.04453331, ..., 178.77261653,\n",
              "        173.82982867, 248.33963536],\n",
              "       [233.08140699, 170.51549744, 241.56351175, ...,  55.37607198,\n",
              "          7.46842415, 170.98302494],\n",
              "       [ 98.90468109, 124.87951373, 255.39786079, ..., 165.5877263 ,\n",
              "        236.12267527, 212.05066066]])"
            ]
          },
          "metadata": {},
          "execution_count": 20
        }
      ]
    },
    {
      "cell_type": "code",
      "source": [
        "for i in range(0,6,1):\n",
        "  batches = data_stream(i, no_of_batches)\n",
        "  BATCH, H, W, Channels = batches[0].shape\n",
        "  rng = jax.random.PRNGKey(0)\n",
        "\n",
        "  state = Create_train_state( rng, model, (BATCH, H, W, Channels ), learning_rate ) "
      ],
      "metadata": {
        "id": "yBTE3WTmHoWO",
        "outputId": "8f15fc58-65fb-41f2-eec5-ebf354e2aacc",
        "colab": {
          "base_uri": "https://localhost:8080/",
          "height": 1000
        }
      },
      "execution_count": 14,
      "outputs": [
        {
          "output_type": "stream",
          "name": "stdout",
          "text": [
            "(9, 105782, 7)\n",
            "(2, 9, 105782, 7)\n",
            "(105782, 9, 2, 7)\n",
            "(105782, 126)\n",
            "(105782, 133)\n",
            "(2330, 454)\n",
            "(105782, 7)\n"
          ]
        },
        {
          "output_type": "display_data",
          "data": {
            "text/plain": [
              "<Figure size 1440x1440 with 6 Axes>"
            ],
            "image/png": "[encoded data removed]"
          },
          "metadata": {
            "needs_background": "light"
          }
        }
      ]
    },
    {
      "cell_type": "markdown",
      "source": [
        "#test"
      ],
      "metadata": {
        "id": "zqTyS2P3HlbG"
      }
    },
    {
      "cell_type": "code",
      "source": [
        "#cpu serial\n",
        "import jax\n",
        "\n",
        "def train_step(state: train_state.TrainState, batch: jnp.asarray, rng):\n",
        "    image, label = batch  \n",
        "    def loss_fn(params):\n",
        "        logits = state.apply_fn({'params': params}, image);\n",
        "        loss =  image_difference_loss(logits, label);\n",
        "        return loss, logits\n",
        "\n",
        "    gradient_fn = jax.value_and_grad(loss_fn, has_aux=True)\n",
        "    (_, logits), grads = gradient_fn(state.params)\n",
        "    new_state = state.apply_gradients(grads=grads)\n",
        "    logs = compute_metrics(logits=logits, labels=label)\n",
        "    return new_state, logs\n",
        "\n",
        "import jax\n",
        "@jax.jit\n",
        "def eval_step(state, image):\n",
        "    logits = state.apply_fn({'params': state.params}, image)\n",
        "    return compute_metrics(logits=logits, labels=image)\n",
        "\n",
        "\n",
        "#serial\n",
        "def image_difference_loss(logits, labels):\n",
        "    loss =  0.5 * jnp.mean((logits - labels) ** 2) \n",
        "    return loss\n",
        "    \n",
        "def compute_metrics(*, logits, labels):\n",
        "  loss = image_difference_loss(logits, labels)\n",
        "  metrics = {\n",
        "      'loss': loss,     #LOSS\n",
        "      'logits': logits, #PREDICTED IMAGE\n",
        "      'labels': labels  #ACTUAL IMAGE\n",
        "  }\n",
        "  return metrics\n",
        "\n",
        "import cv2\n",
        "from google.colab.patches import cv2_imshow\n",
        "import numpy as np \n",
        "\n",
        "def show_image(pimage, oimage, newsize):\n",
        "  L1 = pimage[0]\n",
        "  predicted_image = np.array(pimage[0]*255,  dtype=np.uint8).reshape(newsize) # This would be your image array\n",
        "  original_image = np.array(oimage[0]*255,  dtype=np.uint8).reshape(newsize) # This would be your image array\n",
        "  a = cv2.vconcat([predicted_image, original_image])\n",
        "\n",
        "  # for i in range(0,pimage.shape[0]):\n",
        "  #   predicted_image = np.array(pimage[i]*255,  dtype=np.uint8).reshape(newsize)\n",
        "  #   original_image = np.array(oimage[i]*255,  dtype=np.uint8).reshape(newsize) # This would be your image array\n",
        " \n",
        "  #   a = cv2.hconcat([a, cv2.vconcat([predicted_image, original_image]))\n",
        "  cv2_imshow(a)"
      ],
      "metadata": {
        "id": "PkOUFP6-YVUb"
      },
      "execution_count": null,
      "outputs": []
    },
    {
      "cell_type": "code",
      "source": [
        "#@title # **👠HIGH HEELS RUN >>>>>>>>>>>** { vertical-output: true }\n",
        "newsize = (233, 454) #(260, 260) # /.... 233 * 454\n",
        "\n",
        "import jax\n",
        "from jax import random\n",
        "from tqdm import tqdm\n",
        "import re\n",
        "from google.colab import output\n",
        "import orbax.checkpoint as orbax\n",
        "from flax.training import checkpoints\n",
        "\n",
        "import optax\n",
        "import nest_asyncio\n",
        "nest_asyncio.apply()\n",
        "\n",
        "rng = jax.random.PRNGKey(0)\n",
        "CKPT_DIR = 'ckpts'\n",
        "\n",
        "######################<<<< initiating train state\n",
        "count = 0\n",
        "if count == 0 :\n",
        "  batches = data_stream(1, no_of_batches)\n",
        "  BATCH, H, W, Channels = batches[0].shape\n",
        "  state = Create_train_state( rng, model, (BATCH, H, W, Channels ), learning_rate ) \n",
        "  count = 1\n",
        "#✅✅🔻 state = flax.jax_utils.replicate(state)  # FLAX will replicate the state to every device so that updating can be made easy\n",
        "\n",
        "###################### \n",
        "checkpoint_available = 0\n",
        "pattern = re.compile(\"checkpoint_\\d+\")   # to search for \"checkpoint_*munerical value*\" numerical value of any length is denoted by regular expression \"\\d+\"\n",
        "dir = \"/content/ckpts/\"\n",
        "isFile = os.path.isdir(dir)\n",
        "if isFile:\n",
        "  for filepath in os.listdir(dir):\n",
        "      if pattern.match(filepath):\n",
        "          checkpoint_available = 1\n",
        "\n",
        "total_epochs = 150\n",
        "for epochs in tqdm(range(total_epochs)):  \n",
        "\n",
        "  if checkpoint_available:\n",
        "    state = checkpoints.restore_checkpoint(ckpt_dir=CKPT_DIR, target=state)\n",
        "    checkpoint_available = 0 # << Flag updated >>> to stop loading the same checkpoint in the next iteration then remove the checkpoint directory\n",
        "    !rm -r {dir}\n",
        "\n",
        "\n",
        "  for Aimage in tqdm(range(no_of_batches-5)):\n",
        "    input_data = data_stream(Aimage, no_of_batches)\n",
        "    state, metrics = train_step(state, input_data, rng)\n",
        "    show_image(metrics['logits'], metrics['labels'], newsize)\n",
        "\n",
        "    # output.clear()\n",
        "    print(\"loss: \",metrics['loss'],\" <<< \") # naming of the checkpoint is \"checkpoint_*\"  where \"*\" => value of the steps variable, i.e. 'epochs'\n",
        "    # if (Aimage == total_epochs-1) :\n",
        "    #   VisualizeKernel(state.params, epochs)\n",
        "\n",
        "  orbax_checkpointer = orbax.Checkpointer(orbax.PyTreeCheckpointHandler())\n",
        "  checkpoints.save_checkpoint(ckpt_dir=CKPT_DIR, target=state, step=epochs, prefix='checkpoint_', keep=1, overwrite=False, orbax_checkpointer=orbax_checkpointer)\n",
        "  # restored_state = checkpoints.restore_checkpoint(ckpt_dir=CKPT_DIR, target=state) # using to get the checkpoint loaded , it can be latest one , or if already available as checkpoint in the \"CKPT_DIR\" directory then take the file from directory then save in >> restored_checkpoints\n",
        "  ##################################################\n",
        "\n"
      ],
      "metadata": {
        "colab": {
          "base_uri": "https://localhost:8080/",
          "height": 707
        },
        "id": "yPArjH5IYMrl",
        "outputId": "cde64670-fce6-48aa-e9e5-cf766ff3453b"
      },
      "execution_count": null,
      "outputs": [
        {
          "output_type": "stream",
          "name": "stdout",
          "text": [
            "(9, 105782, 7)\n",
            "(2, 9, 105782, 7)\n",
            "(105782, 9, 2, 7)\n",
            "(105782, 126)\n",
            "(105782, 133)\n",
            "(2330, 454)\n",
            "(105782, 7)\n"
          ]
        },
        {
          "output_type": "display_data",
          "data": {
            "text/plain": [
              "<Figure size 1440x1440 with 6 Axes>"
            ],
            "image/png": "[encoded data removed]"
          },
          "metadata": {
            "needs_background": "light"
          }
        }
      ]
    },
    {
      "cell_type": "code",
      "source": [
        "batches = data_stream(1, no_of_batches)\n",
        "BATCH, H, W, Channels = batches[0].shape\n",
        "rng = jax.random.PRNGKey(0)\n",
        "\n",
        "state = Create_train_state( rng, model, (BATCH, H, W, Channels ), learning_rate ) \n"
      ],
      "metadata": {
        "id": "dgTpr6N3kFBA"
      },
      "execution_count": null,
      "outputs": []
    },
    {
      "cell_type": "code",
      "source": [
        "a = jnp.ones((6, 105782, 7))\n",
        "newsize = (233, 454)"
      ],
      "metadata": {
        "id": "0vTiF6WSVV_R"
      },
      "execution_count": null,
      "outputs": []
    },
    {
      "cell_type": "code",
      "source": [
        "import cv2\n",
        "a = jnp.ones((105782, 91))\n",
        "newsize = (233, 454)\n",
        "xxx = cv2.split(np.array(a.reshape((233, 454, a.shape[1])),  dtype=np.uint8))\n",
        "xxx[0].shape"
      ],
      "metadata": {
        "id": "4n07xdlbr-Id"
      },
      "execution_count": null,
      "outputs": []
    },
    {
      "cell_type": "code",
      "source": [
        "for i in range(a.shape[0]):\n",
        "  xxx = cv2.split(np.array(a[i].reshape((233, 454, 7)),  dtype=np.uint8))\n",
        "  ss = [xxx[0],xxx[1],xxx[2],xxx[3],xxx[4],xxx[5],xxx[6]]\n",
        "  if (i==0):\n",
        "    a1 = cv2.hconcat(ss)\n",
        "  a1 = cv2.vconcat([a1,cv2.hconcat(ss)])\n",
        "\n",
        "\n",
        "cv2_imshow(a1)"
      ],
      "metadata": {
        "id": "Soj-PpZmshzf"
      },
      "execution_count": null,
      "outputs": []
    },
    {
      "cell_type": "code",
      "source": [
        "import matplotlib.pyplot as plt\n",
        "import numpy as np\n",
        "\n",
        "data1 = np.random.random([6, 50])\n",
        "\n",
        "colors1 = ['C{}'.format(i) for i in range(6)]\n",
        "\n",
        "lineoffsets1 = [-15, -3, 1, -10, 6, 10]\n",
        "linelengths1 = [5, 2, 1, 1, 3, 1.5]\n",
        "\n",
        "plt.eventplot(data1, colors=colors1, lineoffsets=lineoffsets1,\n",
        "                    linelengths=linelengths1)\n",
        "plt.title('Event Plot')\n",
        "plt.xlabel('Time(s)')\n",
        "plt.ylabel('Signal')"
      ],
      "metadata": {
        "id": "vH5Y68PjIXU2"
      },
      "execution_count": null,
      "outputs": []
    }
  ]
}