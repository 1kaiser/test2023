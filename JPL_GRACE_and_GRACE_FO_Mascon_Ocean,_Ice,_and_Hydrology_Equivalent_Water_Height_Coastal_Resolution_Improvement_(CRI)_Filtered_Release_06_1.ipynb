{
  "nbformat": 4,
  "nbformat_minor": 0,
  "metadata": {
    "colab": {
      "provenance": [],
      "include_colab_link": true
    },
    "kernelspec": {
      "name": "python3",
      "display_name": "Python 3"
    },
    "language_info": {
      "name": "python"
    }
  },
  "cells": [
    {
      "cell_type": "markdown",
      "metadata": {
        "id": "view-in-github",
        "colab_type": "text"
      },
      "source": [
        "<a href=\"https://colab.research.google.com/github/1kaiser/test2023/blob/main/JPL_GRACE_and_GRACE_FO_Mascon_Ocean%2C_Ice%2C_and_Hydrology_Equivalent_Water_Height_Coastal_Resolution_Improvement_(CRI)_Filtered_Release_06_1.ipynb\" target=\"_parent\"><img src=\"https://colab.research.google.com/assets/colab-badge.svg\" alt=\"Open In Colab\"/></a>"
      ]
    },
    {
      "cell_type": "markdown",
      "source": [
        "[download lonk](https://podaac.jpl.nasa.gov/dataset/TELLUS_GRAC-GRFO_MASCON_CRI_GRID_RL06.1_V3#capability-modal-download)"
      ],
      "metadata": {
        "id": "tZLLEsnOBaMZ"
      }
    },
    {
      "cell_type": "code",
      "execution_count": null,
      "metadata": {
        "colab": {
          "base_uri": "https://localhost:8080/"
        },
        "id": "QL1IgBFG8dk6",
        "outputId": "13eb55d6-4a9d-46f9-d584-57dd7349dc12"
      },
      "outputs": [
        {
          "output_type": "stream",
          "name": "stdout",
          "text": [
            "Collecting podaac-data-subscriber\n",
            "  Downloading podaac_data_subscriber-1.14.0-py3-none-any.whl (25 kB)\n",
            "Requirement already satisfied: packaging<24.0,>=23.0 in /usr/local/lib/python3.10/dist-packages (from podaac-data-subscriber) (23.1)\n",
            "Requirement already satisfied: requests<3.0.0,>=2.27.1 in /usr/local/lib/python3.10/dist-packages (from podaac-data-subscriber) (2.31.0)\n",
            "Requirement already satisfied: tenacity<9.0.0,>=8.0.1 in /usr/local/lib/python3.10/dist-packages (from podaac-data-subscriber) (8.2.3)\n",
            "Requirement already satisfied: charset-normalizer<4,>=2 in /usr/local/lib/python3.10/dist-packages (from requests<3.0.0,>=2.27.1->podaac-data-subscriber) (3.2.0)\n",
            "Requirement already satisfied: idna<4,>=2.5 in /usr/local/lib/python3.10/dist-packages (from requests<3.0.0,>=2.27.1->podaac-data-subscriber) (3.4)\n",
            "Requirement already satisfied: urllib3<3,>=1.21.1 in /usr/local/lib/python3.10/dist-packages (from requests<3.0.0,>=2.27.1->podaac-data-subscriber) (2.0.4)\n",
            "Requirement already satisfied: certifi>=2017.4.17 in /usr/local/lib/python3.10/dist-packages (from requests<3.0.0,>=2.27.1->podaac-data-subscriber) (2023.7.22)\n"
          ]
        }
      ],
      "source": [
        "pip install podaac-data-subscriber"
      ]
    },
    {
      "cell_type": "markdown",
      "source": [
        "### creating credentials and saving the credentials as .netrc file"
      ],
      "metadata": {
        "id": "cmBafrI5BYfW"
      }
    },
    {
      "cell_type": "code",
      "source": [
        "!echo $HOME"
      ],
      "metadata": {
        "colab": {
          "base_uri": "https://localhost:8080/"
        },
        "id": "wTfjrQlO9CuQ",
        "outputId": "14e1ba1a-8fd4-437f-af0b-90981532813c"
      },
      "execution_count": null,
      "outputs": [
        {
          "output_type": "stream",
          "name": "stdout",
          "text": [
            "/root\n"
          ]
        }
      ]
    },
    {
      "cell_type": "code",
      "source": [
        "%%writefile ~/.netrc\n",
        "machine urs.earthdata.nasa.gov\n",
        "    login kroy0001\n",
        "    password /#j%kWrPA,8.HRe"
      ],
      "metadata": {
        "colab": {
          "base_uri": "https://localhost:8080/"
        },
        "id": "HYzQRkiv9Te4",
        "outputId": "668d68a3-e128-404b-880b-70c2129b4e3b"
      },
      "execution_count": null,
      "outputs": [
        {
          "output_type": "stream",
          "name": "stdout",
          "text": [
            "Writing /root/.netrc\n"
          ]
        }
      ]
    },
    {
      "cell_type": "code",
      "source": [
        "!chmod 600 ~/.netrc\n"
      ],
      "metadata": {
        "id": "tf_eDDN8-UiK"
      },
      "execution_count": null,
      "outputs": []
    },
    {
      "cell_type": "markdown",
      "source": [
        "# **Run all of the above steps first**"
      ],
      "metadata": {
        "id": "rzXEaldtLt_S"
      }
    },
    {
      "cell_type": "markdown",
      "source": [
        "### downloading of the GRACE FO data"
      ],
      "metadata": {
        "id": "4IMnTGtdDSL_"
      }
    },
    {
      "cell_type": "markdown",
      "source": [
        "\n",
        "```\n",
        "--start-date 2002-04-04T00:00:00Z\n",
        "--end-date 2002-10-11T00:00:00Z\n",
        "-b=\"-180,-90,180,90\"\n",
        "```\n",
        "**start date**\n",
        "\n",
        "**end date**\n",
        "\n",
        "**location**\n",
        "\n"
      ],
      "metadata": {
        "id": "fpQFq9dpL2Ae"
      }
    },
    {
      "cell_type": "code",
      "source": [
        "!podaac-data-downloader -c TELLUS_GRAC-GRFO_MASCON_CRI_GRID_RL06.1_V3 -d ./data --start-date 2002-04-04T00:00:00Z --end-date 2002-10-11T00:00:00Z -b=\"-180,-90,180,90\""
      ],
      "metadata": {
        "colab": {
          "base_uri": "https://localhost:8080/"
        },
        "id": "9THSe0NK81AL",
        "outputId": "897bbdca-d551-496b-ee6b-41015f14c1e6"
      },
      "execution_count": null,
      "outputs": [
        {
          "output_type": "stream",
          "name": "stdout",
          "text": [
            "[2023-08-12 09:00:24,716] {podaac_data_downloader.py:270} INFO - Found 1 total files to download\n",
            "[2023-08-12 09:00:28,895] {podaac_data_downloader.py:313} INFO - 2023-08-12 09:00:28.894945 SUCCESS: https://archive.podaac.earthdata.nasa.gov/podaac-ops-cumulus-protected/TELLUS_GRAC-GRFO_MASCON_CRI_GRID_RL06.1_V3/GRCTellus.JPL.200204_202305.GLO.RL06.1M.MSCNv03CRI.nc\n",
            "[2023-08-12 09:00:28,895] {podaac_data_downloader.py:324} INFO - Downloaded Files: 1\n",
            "[2023-08-12 09:00:28,895] {podaac_data_downloader.py:325} INFO - Failed Files:     0\n",
            "[2023-08-12 09:00:28,895] {podaac_data_downloader.py:326} INFO - Skipped Files:    0\n",
            "[2023-08-12 09:00:29,077] {podaac_data_downloader.py:334} INFO - END\n",
            "\n",
            "\n"
          ]
        }
      ]
    },
    {
      "cell_type": "code",
      "source": [
        "!pwd"
      ],
      "metadata": {
        "colab": {
          "base_uri": "https://localhost:8080/"
        },
        "id": "By_MBVl1-m59",
        "outputId": "093be194-3e21-48df-a9f7-a29279e26d7e"
      },
      "execution_count": null,
      "outputs": [
        {
          "output_type": "stream",
          "name": "stdout",
          "text": [
            "/content\n"
          ]
        }
      ]
    },
    {
      "cell_type": "code",
      "source": [
        "!pip install netCDF4"
      ],
      "metadata": {
        "colab": {
          "base_uri": "https://localhost:8080/"
        },
        "id": "frnem54mAq0c",
        "outputId": "1f9a11da-86d2-45eb-f09b-adf880d2b519"
      },
      "execution_count": null,
      "outputs": [
        {
          "output_type": "stream",
          "name": "stdout",
          "text": [
            "Collecting netCDF4\n",
            "  Downloading netCDF4-1.6.4-cp310-cp310-manylinux_2_17_x86_64.manylinux2014_x86_64.whl (5.4 MB)\n",
            "\u001b[2K     \u001b[90m━━━━━━━━━━━━━━━━━━━━━━━━━━━━━━━━━━━━━━━━\u001b[0m \u001b[32m5.4/5.4 MB\u001b[0m \u001b[31m13.1 MB/s\u001b[0m eta \u001b[36m0:00:00\u001b[0m\n",
            "\u001b[?25hCollecting cftime (from netCDF4)\n",
            "  Downloading cftime-1.6.2-cp310-cp310-manylinux_2_17_x86_64.manylinux2014_x86_64.whl (1.2 MB)\n",
            "\u001b[2K     \u001b[90m━━━━━━━━━━━━━━━━━━━━━━━━━━━━━━━━━━━━━━━━\u001b[0m \u001b[32m1.2/1.2 MB\u001b[0m \u001b[31m9.3 MB/s\u001b[0m eta \u001b[36m0:00:00\u001b[0m\n",
            "\u001b[?25hRequirement already satisfied: certifi in /usr/local/lib/python3.10/dist-packages (from netCDF4) (2023.7.22)\n",
            "Requirement already satisfied: numpy in /usr/local/lib/python3.10/dist-packages (from netCDF4) (1.23.5)\n",
            "Installing collected packages: cftime, netCDF4\n",
            "Successfully installed cftime-1.6.2 netCDF4-1.6.4\n"
          ]
        }
      ]
    },
    {
      "cell_type": "markdown",
      "source": [
        "**script for converting the nc file to monthly**"
      ],
      "metadata": {
        "id": "NayIFNUzBgFa"
      }
    },
    {
      "cell_type": "code",
      "source": [
        "# %%writefile write_singlemonth_geotif.py\n",
        "\n",
        "#!/usr/bin/env python3\n",
        "\n",
        "\n",
        "# This python script reads the GRACE mascon Level 3 data available in netcdf\n",
        "# 'GRCTellus.JPL.*.RL06M.MSCNv02CRI.nc' and creates geotiff for each time step.\n",
        "#\n",
        "# Each grace timestep has two geotiffs, one for variable lwe_thickness and other for uncertainty.\n",
        "\n",
        "# Users need to download the GRACE mascon netcdf file and set its location in the variable input_mascon_file (line #25) ;\n",
        "# Additionally users need to specify in line # 26 the location of output geotiff.\n",
        "# For any comments and feedback, please contact: podaac@jpl.nasa.gov\n",
        "\n",
        "import datetime\n",
        "from pathlib import Path\n",
        "\n",
        "import numpy as np\n",
        "\n",
        "from netCDF4 import Dataset, num2date\n",
        "from osgeo import gdal, osr\n",
        "\n",
        "# Data can be downloaded from here:\n",
        "# https://podaac.jpl.nasa.gov/dataset/TELLUS_GRAC-GRFO_MASCON_CRI_GRID_RL06_V2\n",
        "\n",
        "# You will need an EarthData account to access the PO.DAAC drive.\n",
        "\n",
        "# replace the NetCDF (nc) filename with current mascon netcdf name as it gets updated every month\n",
        "# input_mascon_file = Path('PATH/TO/YOUR/INPUTFILE')\n",
        "# output_geotiff_path = Path('/PATH/TO/YOUR/OUTPUTFILE')\n",
        "\n",
        "input_mascon_file = Path('/content') / 'data' / 'GRCTellus.JPL.200204_202305.GLO.RL06.1M.MSCNv03CRI.nc'\n",
        "output_geotiff_path = Path('/content') / 'output'\n",
        "output_geotiff_path.mkdir(parents=True, exist_ok=True)\n",
        "\n",
        "def gtiff_write(grid_data, data_res, output_geotiff_file, lat_bound_max, lon_bound_min):\n",
        "    gdal_driver = gdal.GetDriverByName('GTiff')\n",
        "\n",
        "    gtiff_name = str(output_geotiff_file)\n",
        "    gtiff_out = gdal_driver.Create(gtiff_name, grid_data.shape[1], grid_data.shape[0], 1, gdal.GDT_Float32)\n",
        "\n",
        "    out_geotransform = [lon_bound_min, data_res, 0, lat_bound_max, 0, -1*data_res]\n",
        "    gtiff_out.SetGeoTransform(out_geotransform)\n",
        "\n",
        "    out_wkt = osr.SpatialReference()\n",
        "    out_wkt.ImportFromEPSG(4326)\n",
        "    out_proj_wkt = out_wkt.ExportToWkt()\n",
        "    gtiff_out.SetProjection(out_proj_wkt)\n",
        "\n",
        "    gtiff_band_out = gtiff_out.GetRasterBand(1)\n",
        "    gtiff_band_out.SetNoDataValue(-99999)\n",
        "    gtiff_band_out.WriteArray(grid_data)\n",
        "\n",
        "    gtiff_out = None\n",
        "    gtiff_band_out = None\n",
        "\n",
        "\n",
        "def gtiff_set_metadata(output_geotiff_file, ncdf, current_month_start_date, current_month_end_date, lon):\n",
        "    attr_list = ncdf.ncattrs()\n",
        "    attr_to_exclude = [\n",
        "        'time_coverage_start',\n",
        "        'time_coverage_end',\n",
        "        'geospatial_lon_min',\n",
        "        'geospatial_lon_max',\n",
        "        'date_created',\n",
        "        'months_missing'\n",
        "    ]\n",
        "\n",
        "    gtiff_name = str(output_geotiff_file)\n",
        "    ras = gdal.Open(gtiff_name, gdal.GA_Update)\n",
        "\n",
        "    for attr_name in attr_list:\n",
        "        if attr_name not in attr_to_exclude:\n",
        "            ras.SetMetadataItem(attr_name, str(ncdf.getncattr(attr_name)))\n",
        "\n",
        "    ras.SetMetadataItem('time_coverage_start', current_month_start_date)\n",
        "    ras.SetMetadataItem('time_coverage_end', current_month_end_date)\n",
        "    ras.SetMetadataItem('geospatial_lon_min', str(np.min(lon)))\n",
        "    ras.SetMetadataItem('geospatial_lon_max', str(np.max(lon)))\n",
        "\n",
        "    now = datetime.datetime.now()\n",
        "    ras.SetMetadataItem('date_created', now.strftime(\"%Y-%m-%dT%H:%M:%S\"))\n",
        "\n",
        "    ras = None\n",
        "\n",
        "def main():\n",
        "    # this segment opens the netcdf file and reads its variables.\n",
        "    ncdf = Dataset(input_mascon_file, mode='r')\n",
        "\n",
        "    input_time = ncdf.variables['time'][:]\n",
        "    lat = ncdf.variables['lat'][:]\n",
        "    lon = ncdf.variables['lon'][:]\n",
        "    lon_bounds= ncdf.variables['lon_bounds'][:]\n",
        "    lat_bounds= ncdf.variables['lat_bounds'][:]\n",
        "    input_lwe_thickness = ncdf.variables['lwe_thickness'][:] #time lat lon\n",
        "    input_uncertainty = ncdf.variables['uncertainty'][:]\n",
        "\n",
        "    time_bounds = ncdf.variables['time_bounds'][:]\n",
        "    dtime = num2date(time_bounds[:], ncdf.variables['time_bounds'].units)\n",
        "\n",
        "    # initialize the arrays of same size as input dataset\n",
        "    grid_lwe = input_lwe_thickness * 0\n",
        "    grid_uncertainty = input_uncertainty * 0\n",
        "    timesize = len(input_time)\n",
        "\n",
        "    data_res  = abs(lon[2 ] - lon[1]) #resolution of dataset\n",
        "    indexes_to_shift=int(360 / (2 * data_res)) # no of global longitude divided by degree resolution; /2 gives mid point around which shift is done.\n",
        "\n",
        "    #detremine if grid is south to north then flip the array else not\n",
        "    flip_lat = lat[0] < lat[-1]\n",
        "\n",
        "    #detremine if longitudes starts at 0 and goes to n then circshift or roll the grid and longitude array\n",
        "    shift_lon = np.max(lon) > 180\n",
        "\n",
        "    #this loop arrange dataset in 90 to -90 latitude and -180 to 180 longitude orientation and writes monthly geotiffs;\n",
        "    #works on array in the order: time*lat*lon ;\n",
        "    if input_lwe_thickness.shape == (len(input_time), len(lat), len(lon)):\n",
        "        for time_index in range(0,timesize):\n",
        "            temp_lwe = input_lwe_thickness[time_index,:,:]\n",
        "            temp_uncertainty = input_uncertainty[time_index,:,:]\n",
        "\n",
        "            # mascon netcdf contains grid : 0 to 359 longitudes and -90 to 90 degree latitudes. following lines sets the grid as 180 to -180 longitude and 90 to -90 latitude to be written into geotif\n",
        "            if flip_lat:\n",
        "                temp_1a = np.flipud(temp_lwe)\n",
        "                temp_1a_uncert = np.flipud(temp_uncertainty)\n",
        "            else:\n",
        "                temp_1a = temp_lwe\n",
        "                temp_1a_uncert = temp_uncertainty\n",
        "\n",
        "            if shift_lon:\n",
        "                temp_1a = np.roll(temp_1a, indexes_to_shift, axis =1)\n",
        "                temp_1a_uncert = np.roll(temp_1a_uncert, indexes_to_shift,axis =1)\n",
        "                # arrange longitudes into -180 to 180 orientation\n",
        "                lon[np.where(lon>180)] = lon[np.where(lon > 180)] - indexes_to_shift\n",
        "                lon = np.roll(lon, indexes_to_shift, axis=0)\n",
        "                lon_bounds[np.where(lon_bounds >= 180)] = lon_bounds[np.where(lon_bounds >= 180)] - indexes_to_shift\n",
        "                lon_bounds = np.roll(lon_bounds, indexes_to_shift, axis=0)\n",
        "\n",
        "            grid_lwe[time_index,:,:] = temp_1a\n",
        "            grid_uncertainty[time_index,:,:] = temp_1a_uncert\n",
        "            lat_bound_max = np.max(lat_bounds)\n",
        "            lon_bound_min = np.min(lon_bounds)\n",
        "\n",
        "            #determine the start and end period for each monthly timestep and use it in geotiff output filenames\n",
        "            start_year = dtime[time_index,0].year\n",
        "            end_year = dtime[time_index,1].year\n",
        "\n",
        "            start_day_of_year = dtime[time_index,0].timetuple().tm_yday\n",
        "            end_day_of_year = dtime[time_index,1].timetuple().tm_yday\n",
        "\n",
        "            start_timestring = str(start_year)  + (\"%03d\" %(start_day_of_year,))\n",
        "            end_timestring = str(end_year)  + (\"%03d\" %(end_day_of_year,))\n",
        "\n",
        "            current_month_start_date = dtime[time_index,0].strftime(\"%Y-%m-%dT%H:%M:%S\")\n",
        "            current_month_end_date = dtime[time_index,1].strftime(\"%Y-%m-%dT%H:%M:%S\")\n",
        "\n",
        "            #generate lwe_thickness tiff file\n",
        "            output_geotiff_file = 'mascon_lwe_thickness_' + start_timestring + '_' + end_timestring +  '.tif'\n",
        "            output_geotiff_file = output_geotiff_path / output_geotiff_file\n",
        "\n",
        "            # create geotiff\n",
        "            gtiff_write(grid_lwe[time_index, :, :], data_res, output_geotiff_file, lat_bound_max, lon_bound_min)\n",
        "            gtiff_set_metadata(output_geotiff_file, ncdf, current_month_start_date, current_month_end_date,lon)\n",
        "\n",
        "            output_geotiff_uncert_file = 'mascon_uncertainty_' + start_timestring + '_' + end_timestring +  '.tif'\n",
        "            output_geotiff_uncert_file = output_geotiff_path / output_geotiff_uncert_file\n",
        "\n",
        "            # create geotiff\n",
        "            gtiff_write(grid_uncertainty[time_index,:,:], data_res, output_geotiff_uncert_file, lat_bound_max, lon_bound_min)\n",
        "            gtiff_set_metadata(output_geotiff_uncert_file, ncdf, current_month_start_date, current_month_end_date,lon)\n",
        "\n",
        "    else:\n",
        "        print('Array Dimensions Not in Desired Order; Time * Lat * Lon expected')\n",
        "\n",
        "    ncdf.close()\n",
        "\n",
        "if __name__ == '__main__':\n",
        "    main()"
      ],
      "metadata": {
        "id": "QPeYq3ZR-hPz"
      },
      "execution_count": null,
      "outputs": []
    }
  ]
}