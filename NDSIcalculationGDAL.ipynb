{
  "nbformat": 4,
  "nbformat_minor": 0,
  "metadata": {
    "colab": {
      "provenance": [],
      "authorship_tag": "ABX9TyPl9vWJ0vlx2IvYs+Juf8Nf",
      "include_colab_link": true
    },
    "kernelspec": {
      "name": "python3",
      "display_name": "Python 3"
    },
    "language_info": {
      "name": "python"
    }
  },
  "cells": [
    {
      "cell_type": "markdown",
      "metadata": {
        "id": "view-in-github",
        "colab_type": "text"
      },
      "source": [
        "<a href=\"https://colab.research.google.com/github/1kaiser/test2023/blob/main/NDSIcalculationGDAL.ipynb\" target=\"_parent\"><img src=\"https://colab.research.google.com/assets/colab-badge.svg\" alt=\"Open In Colab\"/></a>"
      ]
    },
    {
      "cell_type": "markdown",
      "source": [
        "##**file inputs downloading**"
      ],
      "metadata": {
        "id": "RAbfxHmkuDRN"
      }
    },
    {
      "cell_type": "code",
      "source": [
        "import tensorflow as tf\n",
        "import pathlib\n",
        "dir='/content/files'\n",
        "urls = 'https://github.com/1kaiser/Snow-cover-area-estimation/releases/download/v1/imagesfolder.zip'\n",
        "data_dir = tf.keras.utils.get_file(origin=urls,\n",
        "                                   fname='s',\n",
        "                                   cache_subdir= dir,\n",
        "                                   archive_format='auto',\n",
        "                                   untar=False,\n",
        "                                   extract=True)\n",
        "!rm -r {dir}/s\n",
        "data_dir = pathlib.Path(data_dir)"
      ],
      "metadata": {
        "id": "SMXzhBwrrKFT"
      },
      "execution_count": null,
      "outputs": []
    },
    {
      "cell_type": "markdown",
      "source": [
        "**file listing from folder**"
      ],
      "metadata": {
        "id": "zzU0xH8SuLdE"
      }
    },
    {
      "cell_type": "code",
      "execution_count": null,
      "metadata": {
        "id": "E5Baipupc8jR"
      },
      "outputs": [],
      "source": [
        "image_dir = r'/content/files/'\n",
        "\n",
        "#############################################################################\n",
        "prefix = \"sur_refl_\"\n",
        "end = [\"b01\", \"b02\", \"b03\", \"b04\", \"b05\", \"b06\", \"b07\", \"day_of_year\", \"qc_500m\", \"raz\", \"state_500m\", \"szen\", \"vzen\"]\n",
        "DayOY = \"_doy\\[0-9]+_aid0001\"\n",
        "fileExt = r'.tif'\n",
        "expression_b1 = prefix+end[0]\n",
        "expression_b2 = prefix+end[1]\n",
        "expression_b3 = prefix+end[2]\n",
        "expression_b4 = prefix+end[3]\n",
        "expression_b5 = prefix+end[4]\n",
        "expression_b6 = prefix+end[5]\n",
        "expression_b7 = prefix+end[6]\n",
        "\n",
        "import os\n",
        "imgs_list_b1 = [f for f in os.listdir(image_dir) if f.__contains__(expression_b1)]\n",
        "\n",
        "imgs_list_b1.sort(reverse=True)       "
      ]
    },
    {
      "cell_type": "markdown",
      "source": [
        "**gdal NDSI generation**"
      ],
      "metadata": {
        "id": "s3pFz_CpuVk4"
      }
    },
    {
      "cell_type": "code",
      "source": [
        "from google.colab import output\n",
        "from osgeo import gdal\n",
        "\n",
        "temp_dir = r'/content/out/'\n",
        "!mkdir -p {temp_dir}\n",
        "def ybatchedimages(images_path, image_list, batch_idx):\n",
        "  images = []\n",
        "  path = os.path.join(images_path, image_list[batch_idx])\n",
        "  pathb2 = path.replace(expression_b1, expression_b2)\n",
        "  pathb4 = path.replace(expression_b1, expression_b4)\n",
        "  pathb6 = path.replace(expression_b1, expression_b6)\n",
        "  outpath = image_list[batch_idx].replace(expression_b1, \"bxxx\")\n",
        "\n",
        "  #creating file NDSI\n",
        "  !gdal_calc.py \\\n",
        "    --overwrite \\\n",
        "    --type=Float32 \\\n",
        "    --NoDataValue=0 \\\n",
        "    -A {pathb4} \\\n",
        "    --A_band 1 \\\n",
        "    -B {pathb6} \\\n",
        "    --B_band 1 \\\n",
        "    -C {pathb2} \\\n",
        "    --C_band 1 \\\n",
        "    --outfile={temp_dir}{outpath} \\\n",
        "    --calc=\"(((A.astype(float) - B)/(A.astype(float) + B))>=0.4)*(C.astype(float)/10000>0.11)\"\n",
        "  print(\"<<calculation complete ✅🔻>>\")\n",
        "  # pathout = temp_dir+str('BothCheck_result_final.tif')\n",
        "  # images.append(normalize(tif2array(pathout, 0)[0]))\n",
        "  \n",
        "  # !rm -r {temp_dir}\"BothCheck_result_final.tif\"\n",
        "  output.clear()\n",
        "  # return images"
      ],
      "metadata": {
        "id": "jmH32zDBq7Ol"
      },
      "execution_count": null,
      "outputs": []
    },
    {
      "cell_type": "markdown",
      "source": [
        "**run>>>**"
      ],
      "metadata": {
        "id": "WvDenbiRunOz"
      }
    },
    {
      "cell_type": "code",
      "source": [
        "batch_size = 1\n",
        "no_of_batches = int(len(imgs_list_b1)/batch_size)\n",
        "for i in range(no_of_batches):\n",
        "  ybatchedimages(image_dir, imgs_list_b1, i)"
      ],
      "metadata": {
        "id": "sq9yQrFQr90j"
      },
      "execution_count": null,
      "outputs": []
    },
    {
      "cell_type": "markdown",
      "source": [
        "**zipping**"
      ],
      "metadata": {
        "id": "eBM0aPzGvEiw"
      }
    },
    {
      "cell_type": "code",
      "source": [
        "%cd {temp_dir}\n",
        "%cd ..\n",
        "!zip -r folder.zip {temp_dir}"
      ],
      "metadata": {
        "id": "6Q-u7yTnvEND"
      },
      "execution_count": null,
      "outputs": []
    }
  ]
}