{
  "cells": [
    {
      "cell_type": "markdown",
      "metadata": {
        "id": "view-in-github",
        "colab_type": "text"
      },
      "source": [
        "<a href=\"https://colab.research.google.com/github/1kaiser/test2023/blob/main/FloPy_MF2005_%26_MT3D_USGS.ipynb\" target=\"_parent\"><img src=\"https://colab.research.google.com/assets/colab-badge.svg\" alt=\"Open In Colab\"/></a>"
      ]
    },
    {
      "cell_type": "code",
      "execution_count": null,
      "metadata": {
        "colab": {
          "base_uri": "https://localhost:8080/"
        },
        "id": "OV2euW_tCvkm",
        "outputId": "0bace017-b1b1-4d80-96fa-851780bc9857"
      },
      "outputs": [
        {
          "name": "stdout",
          "output_type": "stream",
          "text": [
            "Collecting git+https://github.com/modflowpy/pymake.git@90bcc5d48c758b73c10798968bda6b07ccec0009\n",
            "  Cloning https://github.com/modflowpy/pymake.git (to revision 90bcc5d48c758b73c10798968bda6b07ccec0009) to /tmp/pip-req-build-pat19qxl\n",
            "  Running command git clone -q https://github.com/modflowpy/pymake.git /tmp/pip-req-build-pat19qxl\n",
            "  Running command git checkout -q 90bcc5d48c758b73c10798968bda6b07ccec0009\n",
            "Building wheels for collected packages: pymake\n",
            "  Building wheel for pymake (setup.py) ... \u001b[?25l\u001b[?25hdone\n",
            "  Created wheel for pymake: filename=pymake-1.1.0-cp36-none-any.whl size=37977 sha256=1e11d8a44c4d7e10da48591a050fdf98adccec7133741eb92b23431c335faed9\n",
            "  Stored in directory: /tmp/pip-ephem-wheel-cache-m7r16232/wheels/a1/9e/1e/4ddf1f20112cfb30b7e39cd555ee92ebe477459ef60590350e\n",
            "Successfully built pymake\n",
            "Installing collected packages: pymake\n",
            "Successfully installed pymake-1.1.0\n",
            "Collecting flopy\n",
            "\u001b[?25l  Downloading https://files.pythonhosted.org/packages/f5/fa/b9c1099d24b461d76388a760564ae0d2960fa8f55a0147c4197346df49fa/flopy-3.3.2.zip (1.2MB)\n",
            "\u001b[K     |████████████████████████████████| 1.2MB 5.2MB/s \n",
            "\u001b[?25hRequirement already satisfied: numpy in /usr/local/lib/python3.6/dist-packages (from flopy) (1.18.5)\n",
            "Building wheels for collected packages: flopy\n",
            "  Building wheel for flopy (setup.py) ... \u001b[?25l\u001b[?25hdone\n",
            "  Created wheel for flopy: filename=flopy-3.3.2-cp36-none-any.whl size=1181950 sha256=e84a0e98932207f22f014e1fb14220a2dabbe3ec82ae401ec78545c3bdaf66e4\n",
            "  Stored in directory: /root/.cache/pip/wheels/be/58/09/9cc9394b0c141c09d5d5ca058acf9b70765951e866aa3444bd\n",
            "Successfully built flopy\n",
            "Installing collected packages: flopy\n",
            "Successfully installed flopy-3.3.2\n"
          ]
        }
      ],
      "source": [
        "!pip install git+https://github.com/modflowpy/pymake.git@90bcc5d48c758b73c10798968bda6b07ccec0009\n",
        "!pip install flopy"
      ]
    },
    {
      "cell_type": "code",
      "execution_count": null,
      "metadata": {
        "colab": {
          "background_save": true,
          "base_uri": "https://localhost:8080/"
        },
        "id": "zSIktqE6DjKI",
        "outputId": "4131af38-6005-4cb8-90b2-625f9863f35c"
      },
      "outputs": [
        {
          "name": "stdout",
          "output_type": "stream",
          "text": [
            "mt3dusgs will be built for the \"linux\" operating system\n",
            "\n",
            "mt3dusgs will be placed in the directory:\n",
            "    \".\"\n",
            "\n",
            "mt3dusgs will be built using \"single\" precision floats.\n",
            "\n",
            "mt3dusgs will be built as a \"release\" application.\n",
            "\n",
            "mt3dusgs fortran code will be built with \"gfortran\".\n",
            "mt3dusgs c/c++ code will be built with \"gcc\".\n",
            "\n",
            "mt3dusgs will use the following predefined syslibs:\n",
            "    -lc\n",
            "\n",
            "mt3dusgs will be built for \"intel64\" architecture.\n",
            "\n",
            "downloading file:         True\n",
            "verified download:        True\n",
            "download timeout:         30 sec.\n",
            "cleaning extracted files: True\n",
            "\n",
            "extra files are not being read\n",
            "\n",
            "Attempting to download the file:\n",
            "    https://water.usgs.gov/water-resources/software/MT3D-USGS/mt3dusgs1.0.1.zip\n",
            " download attempt: 1\n",
            "   file size: 12,098,547 bytes\n",
            "     downloaded    204,800 bytes of 12,098,547 bytes (   1.6928%)\n",
            "     downloaded    409,600 bytes of 12,098,547 bytes (   3.3855%)\n",
            "     downloaded    614,400 bytes of 12,098,547 bytes (   5.0783%)\n",
            "     downloaded    819,200 bytes of 12,098,547 bytes (   6.7711%)\n",
            "     downloaded  1,024,000 bytes of 12,098,547 bytes (   8.4638%)\n",
            "     downloaded  1,228,800 bytes of 12,098,547 bytes (  10.1566%)\n",
            "     downloaded  1,433,600 bytes of 12,098,547 bytes (  11.8494%)\n",
            "     downloaded  1,638,400 bytes of 12,098,547 bytes (  13.5421%)\n",
            "     downloaded  1,843,200 bytes of 12,098,547 bytes (  15.2349%)\n",
            "     downloaded  2,048,000 bytes of 12,098,547 bytes (  16.9277%)\n",
            "     downloaded  2,252,800 bytes of 12,098,547 bytes (  18.6204%)\n",
            "     downloaded  2,457,600 bytes of 12,098,547 bytes (  20.3132%)\n",
            "     downloaded  2,662,400 bytes of 12,098,547 bytes (  22.0059%)\n",
            "     downloaded  2,867,200 bytes of 12,098,547 bytes (  23.6987%)\n",
            "     downloaded  3,072,000 bytes of 12,098,547 bytes (  25.3915%)\n",
            "     downloaded  3,276,800 bytes of 12,098,547 bytes (  27.0842%)\n",
            "     downloaded  3,481,600 bytes of 12,098,547 bytes (  28.7770%)\n",
            "     downloaded  3,686,400 bytes of 12,098,547 bytes (  30.4698%)\n",
            "     downloaded  3,891,200 bytes of 12,098,547 bytes (  32.1625%)\n",
            "     downloaded  4,096,000 bytes of 12,098,547 bytes (  33.8553%)\n",
            "     downloaded  4,300,800 bytes of 12,098,547 bytes (  35.5481%)\n",
            "     downloaded  4,505,600 bytes of 12,098,547 bytes (  37.2408%)\n",
            "     downloaded  4,710,400 bytes of 12,098,547 bytes (  38.9336%)\n",
            "     downloaded  4,915,200 bytes of 12,098,547 bytes (  40.6264%)\n",
            "     downloaded  5,120,000 bytes of 12,098,547 bytes (  42.3191%)\n",
            "     downloaded  5,324,800 bytes of 12,098,547 bytes (  44.0119%)\n",
            "     downloaded  5,529,600 bytes of 12,098,547 bytes (  45.7047%)\n",
            "     downloaded  5,734,400 bytes of 12,098,547 bytes (  47.3974%)\n",
            "     downloaded  5,939,200 bytes of 12,098,547 bytes (  49.0902%)\n",
            "     downloaded  6,144,000 bytes of 12,098,547 bytes (  50.7830%)\n",
            "     downloaded  6,348,800 bytes of 12,098,547 bytes (  52.4757%)\n",
            "     downloaded  6,553,600 bytes of 12,098,547 bytes (  54.1685%)\n",
            "     downloaded  6,758,400 bytes of 12,098,547 bytes (  55.8613%)\n",
            "     downloaded  6,963,200 bytes of 12,098,547 bytes (  57.5540%)\n",
            "     downloaded  7,168,000 bytes of 12,098,547 bytes (  59.2468%)\n",
            "     downloaded  7,372,800 bytes of 12,098,547 bytes (  60.9395%)\n",
            "     downloaded  7,577,600 bytes of 12,098,547 bytes (  62.6323%)\n",
            "     downloaded  7,782,400 bytes of 12,098,547 bytes (  64.3251%)\n",
            "     downloaded  7,987,200 bytes of 12,098,547 bytes (  66.0178%)\n",
            "     downloaded  8,192,000 bytes of 12,098,547 bytes (  67.7106%)\n",
            "     downloaded  8,396,800 bytes of 12,098,547 bytes (  69.4034%)\n",
            "     downloaded  8,601,600 bytes of 12,098,547 bytes (  71.0961%)\n",
            "     downloaded  8,806,400 bytes of 12,098,547 bytes (  72.7889%)\n",
            "     downloaded  9,011,200 bytes of 12,098,547 bytes (  74.4817%)\n",
            "     downloaded  9,216,000 bytes of 12,098,547 bytes (  76.1744%)\n",
            "     downloaded  9,420,800 bytes of 12,098,547 bytes (  77.8672%)\n",
            "     downloaded  9,625,600 bytes of 12,098,547 bytes (  79.5600%)\n",
            "     downloaded  9,830,400 bytes of 12,098,547 bytes (  81.2527%)\n",
            "     downloaded 10,035,200 bytes of 12,098,547 bytes (  82.9455%)\n",
            "     downloaded 10,240,000 bytes of 12,098,547 bytes (  84.6383%)\n",
            "     downloaded 10,444,800 bytes of 12,098,547 bytes (  86.3310%)\n",
            "     downloaded 10,649,600 bytes of 12,098,547 bytes (  88.0238%)\n",
            "     downloaded 10,854,400 bytes of 12,098,547 bytes (  89.7166%)\n",
            "     downloaded 11,059,200 bytes of 12,098,547 bytes (  91.4093%)\n",
            "     downloaded 11,264,000 bytes of 12,098,547 bytes (  93.1021%)\n",
            "     downloaded 11,468,800 bytes of 12,098,547 bytes (  94.7949%)\n",
            "     downloaded 11,673,600 bytes of 12,098,547 bytes (  96.4876%)\n",
            "     downloaded 11,878,400 bytes of 12,098,547 bytes (  98.1804%)\n",
            "     downloaded 12,083,200 bytes of 12,098,547 bytes (  99.8732%)\n",
            "     downloaded 12,098,547 bytes of 12,098,547 bytes ( 100.0000%)\n",
            "Extracting the zipfile...\n",
            "Deleting the zipfile...\n",
            "Done downloading and extracting...\n",
            "\n",
            "compiling...mt3dusgs\n",
            "\n",
            "source files are in:\n",
            "    temp/mt3dusgs1.0.1/src\n",
            "\n",
            "executable name to be created:\n",
            "    /content/mt3dusgs\n",
            "\n",
            "replacing...\"./src_temp/openspec.inc\"\n",
            "gfortran --help -v\n",
            "  -ffpe-summary flag available: True\n",
            "gfortran --help -v\n",
            "  -ffpe-trap flag available: True\n",
            "\n",
            "Compiling object files for mt3dusgs...\n",
            "gfortran -O2 -ffpe-summary=overflow -ffpe-trap=overflow,zero,invalid -fbacktrace -I./src_temp -c ./src_temp/mt_module.f90 -o ./obj_temp/mt_module.o -I./obj_temp -J./mod_temp\n",
            "gfortran -O2 -ffpe-summary=overflow -ffpe-trap=overflow,zero,invalid -fbacktrace -I./src_temp -c ./src_temp/lkt1.f -o ./obj_temp/lkt1.o -I./obj_temp -J./mod_temp\n",
            "gfortran -O2 -ffpe-summary=overflow -ffpe-trap=overflow,zero,invalid -fbacktrace -I./src_temp -c ./src_temp/gcg1.f -o ./obj_temp/gcg1.o -I./obj_temp -J./mod_temp\n",
            "gfortran -O2 -ffpe-summary=overflow -ffpe-trap=overflow,zero,invalid -fbacktrace -I./src_temp -c ./src_temp/cts1.f -o ./obj_temp/cts1.o -I./obj_temp -J./mod_temp\n",
            "gfortran -O2 -ffpe-summary=overflow -ffpe-trap=overflow,zero,invalid -fbacktrace -I./src_temp -c ./src_temp/rct1.f -o ./obj_temp/rct1.o -I./obj_temp -J./mod_temp\n",
            "gfortran -O2 -ffpe-summary=overflow -ffpe-trap=overflow,zero,invalid -fbacktrace -I./src_temp -c ./src_temp/utl1.f -o ./obj_temp/utl1.o -I./obj_temp -J./mod_temp\n",
            "gfortran -O2 -ffpe-summary=overflow -ffpe-trap=overflow,zero,invalid -fbacktrace -I./src_temp -c ./src_temp/fmi1.f -o ./obj_temp/fmi1.o -I./obj_temp -J./mod_temp\n",
            "gfortran -O2 -ffpe-summary=overflow -ffpe-trap=overflow,zero,invalid -fbacktrace -I./src_temp -c ./src_temp/mt3d-usgs.f -o ./obj_temp/mt3d-usgs.o -I./obj_temp -J./mod_temp\n",
            "gfortran -O2 -ffpe-summary=overflow -ffpe-trap=overflow,zero,invalid -fbacktrace -I./src_temp -c ./src_temp/tob1.f -o ./obj_temp/tob1.o -I./obj_temp -J./mod_temp\n",
            "gfortran -O2 -ffpe-summary=overflow -ffpe-trap=overflow,zero,invalid -fbacktrace -I./src_temp -c ./src_temp/adv1.f -o ./obj_temp/adv1.o -I./obj_temp -J./mod_temp\n",
            "gfortran -O2 -ffpe-summary=overflow -ffpe-trap=overflow,zero,invalid -fbacktrace -I./src_temp -c ./src_temp/uzt1.f -o ./obj_temp/uzt1.o -I./obj_temp -J./mod_temp\n",
            "gfortran -O2 -ffpe-summary=overflow -ffpe-trap=overflow,zero,invalid -fbacktrace -I./src_temp -c ./src_temp/hss1.f -o ./obj_temp/hss1.o -I./obj_temp -J./mod_temp\n",
            "gfortran -O2 -ffpe-summary=overflow -ffpe-trap=overflow,zero,invalid -fbacktrace -I./src_temp -c ./src_temp/xmdlib1.f -o ./obj_temp/xmdlib1.o -I./obj_temp -J./mod_temp\n",
            "gfortran -O2 -ffpe-summary=overflow -ffpe-trap=overflow,zero,invalid -fbacktrace -I./src_temp -c ./src_temp/ssm1.f -o ./obj_temp/ssm1.o -I./obj_temp -J./mod_temp\n",
            "gfortran -O2 -ffpe-summary=overflow -ffpe-trap=overflow,zero,invalid -fbacktrace -I./src_temp -c ./src_temp/dsp1.f -o ./obj_temp/dsp1.o -I./obj_temp -J./mod_temp\n",
            "gfortran -O2 -ffpe-summary=overflow -ffpe-trap=overflow,zero,invalid -fbacktrace -I./src_temp -c ./src_temp/btn1.f -o ./obj_temp/btn1.o -I./obj_temp -J./mod_temp\n",
            "gfortran -O2 -ffpe-summary=overflow -ffpe-trap=overflow,zero,invalid -fbacktrace -I./src_temp -c ./src_temp/xmd1.f -o ./obj_temp/xmd1.o -I./obj_temp -J./mod_temp\n",
            "gfortran -O2 -ffpe-summary=overflow -ffpe-trap=overflow,zero,invalid -fbacktrace -I./src_temp -c ./src_temp/sft1.f -o ./obj_temp/sft1.o -I./obj_temp -J./mod_temp\n",
            "gfortran -O2 -ffpe-summary=overflow -ffpe-trap=overflow,zero,invalid -fbacktrace -I./src_temp -c ./src_temp/gnt1.f -o ./obj_temp/gnt1.o -I./obj_temp -J./mod_temp\n",
            "\n",
            "Linking object files to make mt3dusgs...\n",
            "gfortran -O2 -ffpe-summary=overflow -ffpe-trap=overflow,zero,invalid -fbacktrace -o /content/mt3dusgs ./obj_temp/mt_module.o ./obj_temp/lkt1.o ./obj_temp/gcg1.o ./obj_temp/cts1.o ./obj_temp/rct1.o ./obj_temp/utl1.o ./obj_temp/fmi1.o ./obj_temp/mt3d-usgs.o ./obj_temp/tob1.o ./obj_temp/adv1.o ./obj_temp/uzt1.o ./obj_temp/hss1.o ./obj_temp/xmdlib1.o ./obj_temp/ssm1.o ./obj_temp/dsp1.o ./obj_temp/btn1.o ./obj_temp/xmd1.o ./obj_temp/sft1.o ./obj_temp/gnt1.o -lc\n",
            "\n",
            "Cleaning up temporary source, object, and module files...\n",
            "deleting /content/temp\n",
            "    removal attempt  1 of 10\n",
            "\n",
            "\n",
            "elapsed download and compile time (hh:mm:ss.ms): 0:00:32.825466\n",
            "\n",
            "elapsed time (hh:mm:ss.ms): 0:00:32.825556\n",
            "\n",
            "mf2005 will be built for the \"linux\" operating system\n",
            "\n",
            "mf2005 will be placed in the directory:\n",
            "    \".\"\n",
            "\n",
            "mf2005 will be built using \"single\" precision floats.\n",
            "\n",
            "mf2005 will be built as a \"release\" application.\n",
            "\n",
            "mf2005 fortran code will be built with \"gfortran\".\n",
            "mf2005 c/c++ code will be built with \"gcc\".\n",
            "\n",
            "mf2005 will use the following predefined syslibs:\n",
            "    -lc\n",
            "\n",
            "mf2005 will be built for \"intel64\" architecture.\n",
            "\n",
            "downloading file:         True\n",
            "verified download:        True\n",
            "download timeout:         30 sec.\n",
            "cleaning extracted files: True\n",
            "\n",
            "extra files are not being read\n",
            "\n",
            "Attempting to download the file:\n",
            "    https://water.usgs.gov/water-resources/software/MODFLOW-2005/MF2005.1_12u.zip\n",
            " download attempt: 1\n",
            "   file size: 6,585,179 bytes\n",
            "     downloaded   204,800 bytes of 6,585,179 bytes (   3.1100%)\n",
            "     downloaded   409,600 bytes of 6,585,179 bytes (   6.2200%)\n",
            "     downloaded   614,400 bytes of 6,585,179 bytes (   9.3300%)\n",
            "     downloaded   819,200 bytes of 6,585,179 bytes (  12.4401%)\n",
            "     downloaded 1,024,000 bytes of 6,585,179 bytes (  15.5501%)\n",
            "     downloaded 1,228,800 bytes of 6,585,179 bytes (  18.6601%)\n",
            "     downloaded 1,433,600 bytes of 6,585,179 bytes (  21.7701%)\n",
            "     downloaded 1,638,400 bytes of 6,585,179 bytes (  24.8801%)\n",
            "     downloaded 1,843,200 bytes of 6,585,179 bytes (  27.9901%)\n",
            "     downloaded 2,048,000 bytes of 6,585,179 bytes (  31.1001%)\n",
            "     downloaded 2,252,800 bytes of 6,585,179 bytes (  34.2102%)\n",
            "     downloaded 2,457,600 bytes of 6,585,179 bytes (  37.3202%)\n",
            "     downloaded 2,662,400 bytes of 6,585,179 bytes (  40.4302%)\n",
            "     downloaded 2,867,200 bytes of 6,585,179 bytes (  43.5402%)\n",
            "     downloaded 3,072,000 bytes of 6,585,179 bytes (  46.6502%)\n",
            "     downloaded 3,276,800 bytes of 6,585,179 bytes (  49.7602%)\n",
            "     downloaded 3,481,600 bytes of 6,585,179 bytes (  52.8702%)\n",
            "     downloaded 3,686,400 bytes of 6,585,179 bytes (  55.9803%)\n",
            "     downloaded 3,891,200 bytes of 6,585,179 bytes (  59.0903%)\n",
            "     downloaded 4,096,000 bytes of 6,585,179 bytes (  62.2003%)\n",
            "     downloaded 4,300,800 bytes of 6,585,179 bytes (  65.3103%)\n",
            "     downloaded 4,505,600 bytes of 6,585,179 bytes (  68.4203%)\n",
            "     downloaded 4,710,400 bytes of 6,585,179 bytes (  71.5303%)\n",
            "     downloaded 4,915,200 bytes of 6,585,179 bytes (  74.6403%)\n",
            "     downloaded 5,120,000 bytes of 6,585,179 bytes (  77.7504%)\n",
            "     downloaded 5,324,800 bytes of 6,585,179 bytes (  80.8604%)\n",
            "     downloaded 5,529,600 bytes of 6,585,179 bytes (  83.9704%)\n",
            "     downloaded 5,734,400 bytes of 6,585,179 bytes (  87.0804%)\n",
            "     downloaded 5,939,200 bytes of 6,585,179 bytes (  90.1904%)\n",
            "     downloaded 6,144,000 bytes of 6,585,179 bytes (  93.3004%)\n",
            "     downloaded 6,348,800 bytes of 6,585,179 bytes (  96.4104%)\n",
            "     downloaded 6,553,600 bytes of 6,585,179 bytes (  99.5205%)\n",
            "     downloaded 6,585,179 bytes of 6,585,179 bytes ( 100.0000%)\n",
            "Extracting the zipfile...\n",
            "Deleting the zipfile...\n",
            "Done downloading and extracting...\n",
            "\n",
            "replacing select source files for mf2005\n",
            "\n",
            "compiling...mf2005\n",
            "\n",
            "source files are in:\n",
            "    temp/MF2005.1_12u/src\n",
            "\n",
            "executable name to be created:\n",
            "    /content/mf2005\n",
            "\n",
            "replacing...\"./src_temp/openspec.inc\"\n",
            "gfortran --help -v\n",
            "  -ffpe-summary flag available: True\n",
            "gfortran --help -v\n",
            "  -ffpe-trap flag available: True\n",
            "\n",
            "Compiling object files for mf2005...\n",
            "gfortran -O2 -ffpe-summary=overflow -ffpe-trap=overflow,zero,invalid -fbacktrace -I./src_temp -c ./src_temp/mhc7.f -o ./obj_temp/mhc7.o -I./obj_temp -J./mod_temp\n",
            "gfortran -O2 -ffpe-summary=overflow -ffpe-trap=overflow,zero,invalid -fbacktrace -I./src_temp -c ./src_temp/gwf2swr7util.f -o ./obj_temp/gwf2swr7util.o -I./obj_temp -J./mod_temp\n",
            "gfortran -O2 -ffpe-summary=overflow -ffpe-trap=overflow,zero,invalid -fbacktrace -I./src_temp -c ./src_temp/gmg7_c_interface.f90 -o ./obj_temp/gmg7_c_interface.o -I./obj_temp -J./mod_temp\n",
            "gfortran -O2 -ffpe-summary=overflow -ffpe-trap=overflow,zero,invalid -fbacktrace -I./src_temp -c ./src_temp/utl7.f -o ./obj_temp/utl7.o -I./obj_temp -J./mod_temp\n",
            "gfortran -O2 -ffpe-summary=overflow -ffpe-trap=overflow,zero,invalid -fbacktrace -I./src_temp -c ./src_temp/gwfuzfmodule.f -o ./obj_temp/gwfuzfmodule.o -I./obj_temp -J./mod_temp\n",
            "gfortran -O2 -ffpe-summary=overflow -ffpe-trap=overflow,zero,invalid -fbacktrace -I./src_temp -c ./src_temp/gwf2bas7.f -o ./obj_temp/gwf2bas7.o -I./obj_temp -J./mod_temp\n",
            "gfortran -O2 -ffpe-summary=overflow -ffpe-trap=overflow,zero,invalid -fbacktrace -I./src_temp -c ./src_temp/gwf2huf7.f -o ./obj_temp/gwf2huf7.o -I./obj_temp -J./mod_temp\n",
            "gfortran -O2 -ffpe-summary=overflow -ffpe-trap=overflow,zero,invalid -fbacktrace -I./src_temp -c ./src_temp/pcgn_solve2.f90 -o ./obj_temp/pcgn_solve2.o -I./obj_temp -J./mod_temp\n",
            "gfortran -O2 -ffpe-summary=overflow -ffpe-trap=overflow,zero,invalid -fbacktrace -I./src_temp -c ./src_temp/gwf2bcf7.f -o ./obj_temp/gwf2bcf7.o -I./obj_temp -J./mod_temp\n",
            "gfortran -O2 -ffpe-summary=overflow -ffpe-trap=overflow,zero,invalid -fbacktrace -I./src_temp -c ./src_temp/gwf2drn7.f -o ./obj_temp/gwf2drn7.o -I./obj_temp -J./mod_temp\n",
            "gfortran -O2 -ffpe-summary=overflow -ffpe-trap=overflow,zero,invalid -fbacktrace -I./src_temp -c ./src_temp/gwf2chd7.f -o ./obj_temp/gwf2chd7.o -I./obj_temp -J./mod_temp\n",
            "gfortran -O2 -ffpe-summary=overflow -ffpe-trap=overflow,zero,invalid -fbacktrace -I./src_temp -c ./src_temp/gmg7.f -o ./obj_temp/gmg7.o -I./obj_temp -J./mod_temp\n",
            "gfortran -O2 -ffpe-summary=overflow -ffpe-trap=overflow,zero,invalid -fbacktrace -I./src_temp -c ./src_temp/gwf2rch7.f -o ./obj_temp/gwf2rch7.o -I./obj_temp -J./mod_temp\n",
            "gfortran -O2 -ffpe-summary=overflow -ffpe-trap=overflow,zero,invalid -fbacktrace -I./src_temp -c ./src_temp/gwf2ibs7.f -o ./obj_temp/gwf2ibs7.o -I./obj_temp -J./mod_temp\n",
            "gfortran -O2 -ffpe-summary=overflow -ffpe-trap=overflow,zero,invalid -fbacktrace -I./src_temp -c ./src_temp/gwf2wel7.f -o ./obj_temp/gwf2wel7.o -I./obj_temp -J./mod_temp\n",
            "gfortran -O2 -ffpe-summary=overflow -ffpe-trap=overflow,zero,invalid -fbacktrace -I./src_temp -c ./src_temp/gwf2res7.f -o ./obj_temp/gwf2res7.o -I./obj_temp -J./mod_temp\n",
            "gfortran -O2 -ffpe-summary=overflow -ffpe-trap=overflow,zero,invalid -fbacktrace -I./src_temp -c ./src_temp/gwf2str7.f -o ./obj_temp/gwf2str7.o -I./obj_temp -J./mod_temp\n",
            "gfortran -O2 -ffpe-summary=overflow -ffpe-trap=overflow,zero,invalid -fbacktrace -I./src_temp -c ./src_temp/gwf2fhb7.f -o ./obj_temp/gwf2fhb7.o -I./obj_temp -J./mod_temp\n",
            "gfortran -O2 -ffpe-summary=overflow -ffpe-trap=overflow,zero,invalid -fbacktrace -I./src_temp -c ./src_temp/de47.f -o ./obj_temp/de47.o -I./obj_temp -J./mod_temp\n",
            "gfortran -O2 -ffpe-summary=overflow -ffpe-trap=overflow,zero,invalid -fbacktrace -I./src_temp -c ./src_temp/gwf2swt7.f -o ./obj_temp/gwf2swt7.o -I./obj_temp -J./mod_temp\n",
            "gfortran -O2 -ffpe-summary=overflow -ffpe-trap=overflow,zero,invalid -fbacktrace -I./src_temp -c ./src_temp/gwfsfrmodule.f -o ./obj_temp/gwfsfrmodule.o -I./obj_temp -J./mod_temp\n",
            "gfortran -O2 -ffpe-summary=overflow -ffpe-trap=overflow,zero,invalid -fbacktrace -I./src_temp -c ./src_temp/gwf2evt7.f -o ./obj_temp/gwf2evt7.o -I./obj_temp -J./mod_temp\n",
            "gfortran -O2 -ffpe-summary=overflow -ffpe-trap=overflow,zero,invalid -fbacktrace -I./src_temp -c ./src_temp/gwflakmodule.f -o ./obj_temp/gwflakmodule.o -I./obj_temp -J./mod_temp\n",
            "gfortran -O2 -ffpe-summary=overflow -ffpe-trap=overflow,zero,invalid -fbacktrace -I./src_temp -c ./src_temp/sip7.f -o ./obj_temp/sip7.o -I./obj_temp -J./mod_temp\n",
            "gfortran -O2 -ffpe-summary=overflow -ffpe-trap=overflow,zero,invalid -fbacktrace -I./src_temp -c ./src_temp/hufutl7.f -o ./obj_temp/hufutl7.o -I./obj_temp -J./mod_temp\n",
            "gfortran -O2 -ffpe-summary=overflow -ffpe-trap=overflow,zero,invalid -fbacktrace -I./src_temp -c ./src_temp/pcgn2.f90 -o ./obj_temp/pcgn2.o -I./obj_temp -J./mod_temp\n",
            "gfortran -O2 -ffpe-summary=overflow -ffpe-trap=overflow,zero,invalid -fbacktrace -I./src_temp -c ./src_temp/parutl7.f -o ./obj_temp/parutl7.o -I./obj_temp -J./mod_temp\n",
            "gfortran -O2 -ffpe-summary=overflow -ffpe-trap=overflow,zero,invalid -fbacktrace -I./src_temp -c ./src_temp/gwf2lpf7.f -o ./obj_temp/gwf2lpf7.o -I./obj_temp -J./mod_temp\n",
            "gfortran -O2 -ffpe-summary=overflow -ffpe-trap=overflow,zero,invalid -fbacktrace -I./src_temp -c ./src_temp/pcg7.f -o ./obj_temp/pcg7.o -I./obj_temp -J./mod_temp\n",
            "gfortran -O2 -ffpe-summary=overflow -ffpe-trap=overflow,zero,invalid -fbacktrace -I./src_temp -c ./src_temp/gwf2riv7.f -o ./obj_temp/gwf2riv7.o -I./obj_temp -J./mod_temp\n",
            "gfortran -O2 -ffpe-summary=overflow -ffpe-trap=overflow,zero,invalid -fbacktrace -I./src_temp -c ./src_temp/gwf2drt7.f -o ./obj_temp/gwf2drt7.o -I./obj_temp -J./mod_temp\n",
            "gfortran -O2 -ffpe-summary=overflow -ffpe-trap=overflow,zero,invalid -fbacktrace -I./src_temp -c ./src_temp/gwf2uzf1.f -o ./obj_temp/gwf2uzf1.o -I./obj_temp -J./mod_temp\n",
            "gfortran -O2 -ffpe-summary=overflow -ffpe-trap=overflow,zero,invalid -fbacktrace -I./src_temp -c ./src_temp/gwf2ghb7.f -o ./obj_temp/gwf2ghb7.o -I./obj_temp -J./mod_temp\n",
            "gfortran -O2 -ffpe-summary=overflow -ffpe-trap=overflow,zero,invalid -fbacktrace -I./src_temp -c ./src_temp/obs2bas7.f -o ./obj_temp/obs2bas7.o -I./obj_temp -J./mod_temp\n",
            "gfortran -O2 -ffpe-summary=overflow -ffpe-trap=overflow,zero,invalid -fbacktrace -I./src_temp -c ./src_temp/obs2chd7.f -o ./obj_temp/obs2chd7.o -I./obj_temp -J./mod_temp\n",
            "gfortran -O2 -ffpe-summary=overflow -ffpe-trap=overflow,zero,invalid -fbacktrace -I./src_temp -c ./src_temp/gwf2hfb7.f -o ./obj_temp/gwf2hfb7.o -I./obj_temp -J./mod_temp\n",
            "gfortran -O2 -ffpe-summary=overflow -ffpe-trap=overflow,zero,invalid -fbacktrace -I./src_temp -c ./src_temp/gwf2ets7.f -o ./obj_temp/gwf2ets7.o -I./obj_temp -J./mod_temp\n",
            "gfortran -O2 -ffpe-summary=overflow -ffpe-trap=overflow,zero,invalid -fbacktrace -I./src_temp -c ./src_temp/gwf2sfr7.f -o ./obj_temp/gwf2sfr7.o -I./obj_temp -J./mod_temp\n",
            "gfortran -O2 -ffpe-summary=overflow -ffpe-trap=overflow,zero,invalid -fbacktrace -I./src_temp -c ./src_temp/mf2005.f -o ./obj_temp/mf2005.o -I./obj_temp -J./mod_temp\n",
            "gfortran -O2 -ffpe-summary=overflow -ffpe-trap=overflow,zero,invalid -fbacktrace -I./src_temp -c ./src_temp/gwf2swi27.f -o ./obj_temp/gwf2swi27.o -I./obj_temp -J./mod_temp\n",
            "gfortran -O2 -ffpe-summary=overflow -ffpe-trap=overflow,zero,invalid -fbacktrace -I./src_temp -c ./src_temp/gwf2mnw17.f -o ./obj_temp/gwf2mnw17.o -I./obj_temp -J./mod_temp\n",
            "gfortran -O2 -ffpe-summary=overflow -ffpe-trap=overflow,zero,invalid -fbacktrace -I./src_temp -c ./src_temp/gwf2gag7.f -o ./obj_temp/gwf2gag7.o -I./obj_temp -J./mod_temp\n",
            "gfortran -O2 -ffpe-summary=overflow -ffpe-trap=overflow,zero,invalid -fbacktrace -I./src_temp -c ./src_temp/obs2drn7.f -o ./obj_temp/obs2drn7.o -I./obj_temp -J./mod_temp\n",
            "gfortran -O2 -ffpe-summary=overflow -ffpe-trap=overflow,zero,invalid -fbacktrace -I./src_temp -c ./src_temp/gwf2sub7.f -o ./obj_temp/gwf2sub7.o -I./obj_temp -J./mod_temp\n",
            "gfortran -O2 -ffpe-summary=overflow -ffpe-trap=overflow,zero,invalid -fbacktrace -I./src_temp -c ./src_temp/gwf2swr7.f -o ./obj_temp/gwf2swr7.o -I./obj_temp -J./mod_temp\n",
            "gfortran -O2 -ffpe-summary=overflow -ffpe-trap=overflow,zero,invalid -fbacktrace -I./src_temp -c ./src_temp/gwf2lak7.f -o ./obj_temp/gwf2lak7.o -I./obj_temp -J./mod_temp\n",
            "gfortran -O2 -ffpe-summary=overflow -ffpe-trap=overflow,zero,invalid -fbacktrace -I./src_temp -c ./src_temp/gwf2hydmod7.f -o ./obj_temp/gwf2hydmod7.o -I./obj_temp -J./mod_temp\n",
            "gfortran -O2 -ffpe-summary=overflow -ffpe-trap=overflow,zero,invalid -fbacktrace -I./src_temp -c ./src_temp/obs2ghb7.f -o ./obj_temp/obs2ghb7.o -I./obj_temp -J./mod_temp\n",
            "gfortran -O2 -ffpe-summary=overflow -ffpe-trap=overflow,zero,invalid -fbacktrace -I./src_temp -c ./src_temp/obs2riv7.f -o ./obj_temp/obs2riv7.o -I./obj_temp -J./mod_temp\n",
            "gfortran -O2 -ffpe-summary=overflow -ffpe-trap=overflow,zero,invalid -fbacktrace -I./src_temp -c ./src_temp/gwf2mnw27.f -o ./obj_temp/gwf2mnw27.o -I./obj_temp -J./mod_temp\n",
            "gfortran -O2 -ffpe-summary=overflow -ffpe-trap=overflow,zero,invalid -fbacktrace -I./src_temp -c ./src_temp/obs2str7.f -o ./obj_temp/obs2str7.o -I./obj_temp -J./mod_temp\n",
            "gfortran -O2 -ffpe-summary=overflow -ffpe-trap=overflow,zero,invalid -fbacktrace -I./src_temp -c ./src_temp/gwf2mnw2i7.f -o ./obj_temp/gwf2mnw2i7.o -I./obj_temp -J./mod_temp\n",
            "gfortran -O2 -ffpe-summary=overflow -ffpe-trap=overflow,zero,invalid -fbacktrace -I./src_temp -c ./src_temp/lmt8.f -o ./obj_temp/lmt8.o -I./obj_temp -J./mod_temp\n",
            "gcc -O2 -I./src_temp -c ./src_temp/ccfd.c -o ./obj_temp/ccfd.o\n",
            "gcc -O2 -I./src_temp -c ./src_temp/solvers.c -o ./obj_temp/solvers.o\n",
            "gcc -O2 -I./src_temp -c ./src_temp/mf2kgmg.c -o ./obj_temp/mf2kgmg.o\n",
            "gcc -O2 -I./src_temp -c ./src_temp/r_vector.c -o ./obj_temp/r_vector.o\n",
            "\n",
            "Linking object files to make mf2005...\n",
            "gfortran -O2 -ffpe-summary=overflow -ffpe-trap=overflow,zero,invalid -fbacktrace -o /content/mf2005 ./obj_temp/mhc7.o ./obj_temp/gwf2swr7util.o ./obj_temp/gmg7_c_interface.o ./obj_temp/utl7.o ./obj_temp/gwfuzfmodule.o ./obj_temp/gwf2bas7.o ./obj_temp/gwf2huf7.o ./obj_temp/pcgn_solve2.o ./obj_temp/gwf2bcf7.o ./obj_temp/gwf2drn7.o ./obj_temp/gwf2chd7.o ./obj_temp/gmg7.o ./obj_temp/gwf2rch7.o ./obj_temp/gwf2ibs7.o ./obj_temp/gwf2wel7.o ./obj_temp/gwf2res7.o ./obj_temp/gwf2str7.o ./obj_temp/gwf2fhb7.o ./obj_temp/de47.o ./obj_temp/gwf2swt7.o ./obj_temp/gwfsfrmodule.o ./obj_temp/gwf2evt7.o ./obj_temp/gwflakmodule.o ./obj_temp/sip7.o ./obj_temp/hufutl7.o ./obj_temp/pcgn2.o ./obj_temp/parutl7.o ./obj_temp/gwf2lpf7.o ./obj_temp/pcg7.o ./obj_temp/gwf2riv7.o ./obj_temp/gwf2drt7.o ./obj_temp/gwf2uzf1.o ./obj_temp/gwf2ghb7.o ./obj_temp/obs2bas7.o ./obj_temp/obs2chd7.o ./obj_temp/gwf2hfb7.o ./obj_temp/gwf2ets7.o ./obj_temp/gwf2sfr7.o ./obj_temp/mf2005.o ./obj_temp/gwf2swi27.o ./obj_temp/gwf2mnw17.o ./obj_temp/gwf2gag7.o ./obj_temp/obs2drn7.o ./obj_temp/gwf2sub7.o ./obj_temp/gwf2swr7.o ./obj_temp/gwf2lak7.o ./obj_temp/gwf2hydmod7.o ./obj_temp/obs2ghb7.o ./obj_temp/obs2riv7.o ./obj_temp/gwf2mnw27.o ./obj_temp/obs2str7.o ./obj_temp/gwf2mnw2i7.o ./obj_temp/lmt8.o ./obj_temp/ccfd.o ./obj_temp/solvers.o ./obj_temp/mf2kgmg.o ./obj_temp/r_vector.o -lc\n",
            "\n",
            "Cleaning up temporary source, object, and module files...\n",
            "deleting /content/temp\n",
            "    removal attempt  1 of 10\n",
            "\n",
            "\n",
            "elapsed download and compile time (hh:mm:ss.ms): 0:01:10.475146\n",
            "\n",
            "elapsed time (hh:mm:ss.ms): 0:01:10.475220\n",
            "\n"
          ]
        },
        {
          "data": {
            "text/plain": [
              "0"
            ]
          },
          "execution_count": null,
          "metadata": {},
          "output_type": "execute_result"
        }
      ],
      "source": [
        "import pymake\n",
        "pymake.build_apps('mt3dusgs')\n",
        "pymake.build_apps('mf2005')"
      ]
    },
    {
      "cell_type": "code",
      "execution_count": null,
      "metadata": {
        "id": "6v0I0gDhHDlM"
      },
      "outputs": [],
      "source": [
        "import os\n",
        "import numpy as np\n",
        "import matplotlib.pyplot as plt\n",
        "import flopy\n",
        "%matplotlib inline"
      ]
    },
    {
      "cell_type": "code",
      "execution_count": null,
      "metadata": {
        "id": "Vres971NFsAh"
      },
      "outputs": [],
      "source": [
        "workspace = '/content/mf05-mt-ex9-heat'\n",
        "if not os.path.exists(workspace):\n",
        "    os.makedirs(workspace)"
      ]
    },
    {
      "cell_type": "code",
      "execution_count": null,
      "metadata": {
        "colab": {
          "base_uri": "https://localhost:8080/"
        },
        "id": "LsOeXcnqNU-U",
        "outputId": "592c84b2-7a61-45e3-c231-1ccca95d02d1"
      },
      "outputs": [
        {
          "name": "stdout",
          "output_type": "stream",
          "text": [
            "/content/mf2005\n"
          ]
        }
      ],
      "source": [
        "!realpath mf2005"
      ]
    },
    {
      "cell_type": "code",
      "execution_count": null,
      "metadata": {
        "id": "Jvncc8nNDvYU"
      },
      "outputs": [],
      "source": [
        "# name\n",
        "modelname = 'mf-ex9-heat'\n",
        "\n",
        "# exe name\n",
        "exe_mf2005 = '/content/mf2005'\n",
        "\n",
        "mf_model = flopy.modflow.Modflow(\n",
        "    modelname=modelname, \n",
        "    exe_name=exe_mf2005,\n",
        "    model_ws=workspace\n",
        ")"
      ]
    },
    {
      "cell_type": "code",
      "execution_count": null,
      "metadata": {
        "id": "4qe6uxEBEaNx"
      },
      "outputs": [],
      "source": [
        "Lx = 1600\n",
        "Ly = 2000\n",
        "nlay = 1\n",
        "nrow = 40\n",
        "ncol = 32\n",
        "delr = Lx / ncol\n",
        "delc = Ly / nrow\n",
        "delv = 10\n",
        "prsity = 0.3\n",
        "#perlen = 365*10 # no. days * years\n",
        "\n",
        "#perlen_mf = 1.\n",
        "perlen_mf = 365*6  # perlen_mt \n",
        "laytyp = 0\n",
        "k1 = 1.474e-4\n",
        "k2 = 1.474e-7"
      ]
    },
    {
      "cell_type": "code",
      "execution_count": null,
      "metadata": {
        "id": "BmL4FILIM5yf"
      },
      "outputs": [],
      "source": [
        "#DIS file\n",
        "dis = flopy.modflow.ModflowDis(\n",
        "    model=mf_model, \n",
        "    nlay=nlay, \n",
        "    nrow=nrow, \n",
        "    ncol=ncol,\n",
        "    delr=delr, \n",
        "    delc=delc, \n",
        "    top=0., \n",
        "    botm=[0 - delv],\n",
        "    perlen=perlen_mf,\n",
        "    xul=0,\n",
        "    yul=0,    \n",
        ")"
      ]
    },
    {
      "cell_type": "code",
      "execution_count": null,
      "metadata": {
        "id": "MqIXhAwcM8LD"
      },
      "outputs": [],
      "source": [
        "# ibound array definition\n",
        "ibound = np.ones((nlay, nrow, ncol), dtype=np.int)\n",
        "ibound[0, 0, :] = -1\n",
        "ibound[0, -1, :] = -1"
      ]
    },
    {
      "cell_type": "code",
      "execution_count": null,
      "metadata": {
        "id": "bdJi9OXjNB4o"
      },
      "outputs": [],
      "source": [
        "# start array definition\n",
        "strt = np.zeros((nlay, nrow, ncol), dtype=np.float)\n",
        "head_top = 250\n",
        "head_bottom = 240\n",
        "strt[0, 0, :] = head_top\n",
        "strt[0, -1, :] = head_bottom"
      ]
    },
    {
      "cell_type": "code",
      "execution_count": null,
      "metadata": {
        "id": "NOvzlV-PND3P"
      },
      "outputs": [],
      "source": [
        "# hydraulic conductivity array definition\n",
        "hk = k1 * np.ones((nlay, nrow, ncol), dtype=np.float)\n",
        "hk[:, 10:17, 5:18] = k2"
      ]
    },
    {
      "cell_type": "code",
      "execution_count": null,
      "metadata": {
        "id": "6AdRXPi4NFq3"
      },
      "outputs": [],
      "source": [
        "# well space definition\n",
        "injection_rate = 5000  # m3/d injection / 86400  # 5000  # m3/d injection \n",
        "extraction_rate = -1000 # m3/d extraction, set to m3/s to get normal head values. But then the flow transport gets wrong. / 86400  # -1000  # m3/d extraction\n",
        "welspd = [\n",
        "    [0, 9, 15, injection_rate],  # injection well\n",
        "    [0, 24, 15, extraction_rate]  # extraction well\n",
        "]\n",
        "# well space array definition (for visz purposes only)\n",
        "ws = np.empty((nlay, nrow, ncol), dtype=np.float)\n",
        "ws[:] = np.NaN\n",
        "for w in welspd:\n",
        "    ws[w[0], w[1], w[2]] = w[3]"
      ]
    },
    {
      "cell_type": "code",
      "execution_count": null,
      "metadata": {
        "colab": {
          "base_uri": "https://localhost:8080/",
          "height": 258
        },
        "id": "hPXNPKjgNHc6",
        "outputId": "986fddb9-f1a6-4b27-b660-c06de57c271d"
      },
      "outputs": [
        {
          "data": {
            "image/png": "[encoded data removed]",
            "text/plain": [
              "<Figure size 432x288 with 4 Axes>"
            ]
          },
          "metadata": {
            "tags": []
          },
          "output_type": "display_data"
        }
      ],
      "source": [
        "f, ((ax1, ax2)) = plt.subplots(1, 2, sharex=True, sharey=True)\n",
        "\n",
        "im1 = ax1.imshow(strt[0], cmap='winter')\n",
        "ax1.set_title('strt')\n",
        "plt.colorbar(im1, ax=ax1)\n",
        "\n",
        "im2 = ax2.imshow(hk[0], cmap='winter')\n",
        "plt.colorbar(im2, ax=ax2)\n",
        "im3 = ax2.imshow(ws[0], cmap='summer')\n",
        "\n",
        "ax2.set_title('hc + well locations')\n",
        "\n",
        "plt.show() "
      ]
    },
    {
      "cell_type": "code",
      "execution_count": null,
      "metadata": {
        "id": "cV2i0Jr6NJ04"
      },
      "outputs": [],
      "source": [
        "# prepare the modflow modules\n",
        "oc = flopy.modflow.ModflowOc(model=mf_model)\n",
        "bas = flopy.modflow.ModflowBas(model=mf_model, ibound=ibound, strt=strt)\n",
        "lpf = flopy.modflow.ModflowLpf(model=mf_model, hk=hk, laytyp=laytyp)\n",
        "wel = flopy.modflow.ModflowWel(model=mf_model, stress_period_data=welspd)\n",
        "pcg = flopy.modflow.ModflowPcg(model=mf_model)\n",
        "lmt = flopy.modflow.ModflowLmt(model=mf_model, output_file_name=f'{workspace}/mt3d_link.ftl')\n",
        "mf_model.write_input()\n",
        "mf_model.run_model(silent=False)"
      ]
    },
    {
      "cell_type": "code",
      "execution_count": null,
      "metadata": {
        "colab": {
          "base_uri": "https://localhost:8080/",
          "height": 281
        },
        "id": "2rhvu-lANMf9",
        "outputId": "b08048ab-6fe2-492b-c4d7-6b9068c1e6bf"
      },
      "outputs": [
        {
          "data": {
            "image/png": "[encoded data removed]",
            "text/plain": [
              "<Figure size 432x288 with 2 Axes>"
            ]
          },
          "metadata": {
            "tags": []
          },
          "output_type": "display_data"
        }
      ],
      "source": [
        "# plot model results\n",
        "import flopy.utils.binaryfile as bf\n",
        "\n",
        "# create the headfile object\n",
        "headfile = f'{modelname}.hds'\n",
        "fname = os.path.join(workspace, headfile)\n",
        "headobj = flopy.utils.binaryfile.HeadFile(fname)\n",
        "head = headobj.get_data(totim=perlen_mf)\n",
        "times = headobj.get_times()\n",
        "\n",
        "# Make the plots\n",
        "plt.subplot(1, 1, 1, aspect='equal')\n",
        "plt.title('head (meter)')\n",
        "plt.imshow(head[0, :, :], cmap='YlGnBu_r')\n",
        "plt.colorbar()\n",
        "\n",
        "contours = plt.contour(head[0, :, :], zorder=10, colors='black')\n",
        "plt.clabel(contours, inline=1, fontsize=10, fmt='%d')\n",
        "\n",
        "plt.show()"
      ]
    },
    {
      "cell_type": "code",
      "execution_count": null,
      "metadata": {
        "colab": {
          "base_uri": "https://localhost:8080/"
        },
        "id": "3aRGjsHaPBRq",
        "outputId": "3bbe1aa8-a9e4-4eaf-e1cc-9f7631b9cacf"
      },
      "outputs": [
        {
          "name": "stdout",
          "output_type": "stream",
          "text": [
            "/content/mt3dusgs\n"
          ]
        }
      ],
      "source": [
        "!realpath mt3dusgs"
      ]
    },
    {
      "cell_type": "code",
      "execution_count": null,
      "metadata": {
        "id": "MZOeyTW6O3-A"
      },
      "outputs": [],
      "source": [
        "# name\n",
        "name_mt3d = 'mt-ex9-heat'\n",
        "\n",
        "# exe name\n",
        "exe_mt3dusgs = '/content/mt3dusgs'"
      ]
    },
    {
      "cell_type": "code",
      "execution_count": null,
      "metadata": {
        "id": "a5qLF1i8PFrY"
      },
      "outputs": [],
      "source": [
        "mt_model = flopy.mt3d.Mt3dms(\n",
        "    modelname=name_mt3d, \n",
        "    model_ws=workspace, \n",
        "    exe_name=exe_mt3dusgs, \n",
        "    modflowmodel=mf_model\n",
        ")"
      ]
    },
    {
      "cell_type": "code",
      "execution_count": null,
      "metadata": {
        "id": "y1BmMqA9PGbS"
      },
      "outputs": [],
      "source": [
        "sconc = np.zeros((nlay, nrow, ncol), dtype=np.float)\n",
        "sconc[:] = 278\n",
        "\n",
        "timprs = np.linspace(25, 2500, 100)\n",
        "btn = flopy.mt3d.Mt3dBtn(\n",
        "    model=mt_model, \n",
        "    sconc=sconc, \n",
        "    prsity=0.3, \n",
        "    thkmin=0.01, \n",
        "    munit='Kelvin', \n",
        "    species_names=['warm water'],\n",
        "    timprs=timprs,\n",
        "    nprs=len(timprs)\n",
        ")"
      ]
    },
    {
      "cell_type": "code",
      "execution_count": null,
      "metadata": {
        "id": "b2gDxqyoPIe5"
      },
      "outputs": [],
      "source": [
        "#ADV file\n",
        "mixelm = -1  # Third-order TVD scheme (ULTIMATE)\n",
        "percel = 1  # Courant number PERCEL is also a stability constraint\n",
        "adv = flopy.mt3d.Mt3dAdv(\n",
        "    model=mt_model, \n",
        "    mixelm=mixelm, \n",
        "    percel=percel\n",
        ")"
      ]
    },
    {
      "cell_type": "code",
      "execution_count": null,
      "metadata": {
        "id": "0-Md3g92PKkK"
      },
      "outputs": [],
      "source": [
        "rct = flopy.mt3d.Mt3dRct(\n",
        "    model=mt_model,\n",
        "    isothm=1,\n",
        "    rhob=1961.0,\n",
        "    sp1=0.00021,\n",
        "    igetsc=0\n",
        ")"
      ]
    },
    {
      "cell_type": "code",
      "execution_count": null,
      "metadata": {
        "id": "4hJ-n0aYPMWy"
      },
      "outputs": [],
      "source": [
        "#DSP file\n",
        "al = 0.5  # longitudinal dispersivity\n",
        "dmcoef = 1.86e-6  # from videol. In tutorial is the value: 2.15e-11  # effective molecular diffusion coefficient\n",
        "trpt = 0.1  # ratio of the horizontal transverse dispersivity to the longitudinal dispersivity\n",
        "trpv = 0.1  # ratio of the vertical transverse dispersivity to the longitudinal dispersivity\n",
        "\n",
        "dsp = flopy.mt3d.Mt3dDsp(\n",
        "    model=mt_model, \n",
        "    al=al, \n",
        "    dmcoef=dmcoef, \n",
        "    trpt=trpt, \n",
        "    trpv=trpv\n",
        ")"
      ]
    },
    {
      "cell_type": "code",
      "execution_count": null,
      "metadata": {
        "colab": {
          "base_uri": "https://localhost:8080/"
        },
        "id": "4w1jEEOrPO2I",
        "outputId": "42b63f3f-c688-409f-a267-4f9df3509eef"
      },
      "outputs": [
        {
          "name": "stdout",
          "output_type": "stream",
          "text": [
            "{'CHD': 1, 'BAS6': 1, 'PBC': 1, 'WEL': 2, 'DRN': 3, 'RIV': 4, 'GHB': 5, 'MAS': 15, 'CC': -1}\n"
          ]
        }
      ],
      "source": [
        "#SSM file\n",
        "itype = flopy.mt3d.Mt3dSsm.itype_dict()\n",
        "print(itype)\n",
        "\n",
        "ssm_data = {}\n",
        "for i in range(ncol):\n",
        "    ssm_data[i] = [(0, 0, i, 278, itype['CHD'])]\n",
        "for i in range(ncol):\n",
        "    ssm_data[i+ncol] = [(0, nrow, i, 278, itype['CHD'])]  # 278 Kelvin == 5 Celsius\n",
        "ssm_data[ncol+ncol] = [(0, 9, 15, 298, itype['WEL'])] # 298 Kelvin == 25 Celsius\n",
        "ssm = flopy.mt3d.Mt3dSsm(model=mt_model, stress_period_data=ssm_data)"
      ]
    },
    {
      "cell_type": "code",
      "execution_count": null,
      "metadata": {
        "id": "yvtLU5ghPRLM"
      },
      "outputs": [],
      "source": [
        "#GCG file\n",
        "mxiter = 1  # Maximum number of outer iterations\n",
        "iter1 = 200  # Maximum number of inner iterations\n",
        "isolve = 3  # Preconditioner = Modified Incomplete Cholesky\n",
        "gcg = flopy.mt3d.Mt3dGcg(\n",
        "    model=mt_model, \n",
        "    mxiter=mxiter, \n",
        "    iter1=iter1, \n",
        "    isolve=isolve\n",
        ")\n",
        "mt_model.write_input()"
      ]
    },
    {
      "cell_type": "code",
      "execution_count": null,
      "metadata": {
        "id": "GVNOWDI2PTji"
      },
      "outputs": [],
      "source": [
        "fname = os.path.join(workspace, 'MT3D001.UCN')\n",
        "if os.path.isfile(fname):\n",
        "    os.remove(fname)\n",
        "mt_model.run_model(silent=False)"
      ]
    },
    {
      "cell_type": "code",
      "execution_count": null,
      "metadata": {
        "id": "g-Y9sQqhPWI2"
      },
      "outputs": [],
      "source": [
        "fname = os.path.join(workspace, 'MT3D001.UCN')\n",
        "ucnobj = flopy.utils.UcnFile(fname)\n",
        "times = ucnobj.get_times()\n",
        "conc = ucnobj.get_alldata()\n",
        "\n",
        "fname = os.path.join(workspace, 'MT3D001.OBS')\n",
        "if os.path.isfile(fname):\n",
        "    cvt = mt_model.load_obs(fname)\n",
        "else:\n",
        "    cvt = None\n",
        "\n",
        "fname = os.path.join(workspace, 'MT3D001.MAS')\n",
        "mvt = mt_model.load_mas(fname)"
      ]
    },
    {
      "cell_type": "code",
      "execution_count": null,
      "metadata": {
        "colab": {
          "base_uri": "https://localhost:8080/"
        },
        "id": "o0pFckakPeG6",
        "outputId": "309d20ce-2165-4abe-fbea-6914c2fa3ff6"
      },
      "outputs": [
        {
          "name": "stdout",
          "output_type": "stream",
          "text": [
            "/content/mf05-mt-ex9-heat/MT3D001.MAS\n"
          ]
        }
      ],
      "source": [
        "print(fname)"
      ]
    },
    {
      "cell_type": "code",
      "execution_count": null,
      "metadata": {
        "colab": {
          "base_uri": "https://localhost:8080/"
        },
        "id": "7eUxZ0ClPhge",
        "outputId": "3c220ffd-368e-43b5-ec3b-453e53234c0d"
      },
      "outputs": [
        {
          "data": {
            "text/plain": [
              "array([ 0, 29, 58, 87])"
            ]
          },
          "execution_count": 73,
          "metadata": {
            "tags": []
          },
          "output_type": "execute_result"
        }
      ],
      "source": [
        "slice_no = np.linspace(0,conc.shape[0]-1,4).astype(int)\n",
        "slice_no"
      ]
    },
    {
      "cell_type": "code",
      "execution_count": null,
      "metadata": {
        "colab": {
          "base_uri": "https://localhost:8080/",
          "height": 607
        },
        "id": "WnBqOTUpPjdH",
        "outputId": "5866a182-0a20-4155-cec6-f22736063b4d"
      },
      "outputs": [
        {
          "data": {
            "image/png": "[encoded data removed]",
            "text/plain": [
              "<Figure size 720x720 with 6 Axes>"
            ]
          },
          "metadata": {
            "tags": []
          },
          "output_type": "display_data"
        }
      ],
      "source": [
        "f, ((ax1, ax2), (ax3, ax4)) = plt.subplots(\n",
        "    nrows=2, \n",
        "    ncols=2, \n",
        "    sharex=True, \n",
        "    sharey=True,\n",
        "    figsize=(10,10), gridspec_kw={'hspace': 0.1, 'wspace': 0}\n",
        ")\n",
        "# axis 1 \n",
        "im1 = ax1.imshow(conc[slice_no[0], 0, :, :])#, vmin=277, vmax=300)\n",
        "#plt.colorbar(im1, ax=ax1)\n",
        "\n",
        "ct1 = ax1.contour(conc[slice_no[0], 0, :, :], zorder=10, colors='black')\n",
        "plt.clabel(ct1, inline=1, fontsize=10, fmt='%d')\n",
        "ax1.set_title(f'after {int(slice_no[0])} days')\n",
        "\n",
        "# axis 2\n",
        "im2 = ax2.imshow(conc[slice_no[1], 0, :, :])#, vmin=277, vmax=300)\n",
        "plt.colorbar(im2, ax=ax2)\n",
        "ax2.set_title(f'after {int(slice_no[1])} days')\n",
        "\n",
        "ct2 = ax2.contour(conc[slice_no[1], 0, :, :], zorder=10, colors='black')\n",
        "plt.clabel(ct2, inline=1, fontsize=10, fmt='%d')\n",
        "\n",
        "# axis 3\n",
        "im3 = ax3.imshow(conc[slice_no[2], 0, :, :])#, vmin=277, vmax=300)\n",
        "#plt.colorbar(im3, ax=ax3)\n",
        "ax3.set_title(f'after {int(slice_no[2])} days')\n",
        "\n",
        "ct3 = ax3.contour(conc[slice_no[2], 0, :, :], zorder=10, colors='black')\n",
        "plt.clabel(ct3, inline=1, fontsize=10, fmt='%d')\n",
        "\n",
        "# axis 4\n",
        "im4 = ax4.imshow(conc[slice_no[3], 0, :, :])#, vmin=277, vmax=300)\n",
        "plt.colorbar(im4, ax=ax4)\n",
        "ax4.set_title(f'after {int(slice_no[3])} days')\n",
        "\n",
        "ct4 = ax4.contour(conc[slice_no[3], 0, :, :], zorder=10, colors='black')\n",
        "plt.clabel(ct4, inline=1, fontsize=10, fmt='%d')\n",
        "\n",
        "plt.show()"
      ]
    },
    {
      "cell_type": "code",
      "execution_count": null,
      "metadata": {
        "id": "kc1uBqEgPmDS"
      },
      "outputs": [],
      "source": []
    }
  ],
  "metadata": {
    "colab": {
      "provenance": [],
      "include_colab_link": true
    },
    "kernelspec": {
      "display_name": "Python 3",
      "name": "python3"
    }
  },
  "nbformat": 4,
  "nbformat_minor": 0
}