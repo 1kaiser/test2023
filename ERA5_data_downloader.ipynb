{
  "nbformat": 4,
  "nbformat_minor": 0,
  "metadata": {
    "colab": {
      "provenance": [],
      "include_colab_link": true
    },
    "kernelspec": {
      "name": "python3",
      "display_name": "Python 3"
    },
    "language_info": {
      "name": "python"
    }
  },
  "cells": [
    {
      "cell_type": "markdown",
      "metadata": {
        "id": "view-in-github",
        "colab_type": "text"
      },
      "source": [
        "<a href=\"https://colab.research.google.com/github/1kaiser/test2023/blob/main/ERA5_data_downloader.ipynb\" target=\"_parent\"><img src=\"https://colab.research.google.com/assets/colab-badge.svg\" alt=\"Open In Colab\"/></a>"
      ]
    },
    {
      "cell_type": "markdown",
      "source": [
        "## save credentials"
      ],
      "metadata": {
        "id": "sa8UDfjH0vsP"
      }
    },
    {
      "cell_type": "code",
      "source": [
        "!echo $HOME"
      ],
      "metadata": {
        "colab": {
          "base_uri": "https://localhost:8080/"
        },
        "id": "-uLocth0yZHX",
        "outputId": "86d2c32d-23c0-4214-aedb-dda7ba179a79"
      },
      "execution_count": null,
      "outputs": [
        {
          "output_type": "stream",
          "name": "stdout",
          "text": [
            "/root\n"
          ]
        }
      ]
    },
    {
      "cell_type": "code",
      "source": [
        "%%writefile ~/.cdsapirc\n",
        "url: https://cds.climate.copernicus.eu/api/v2\n",
        "key: 147743:7722614e-e16b-4ef1-9677-989193bebf24"
      ],
      "metadata": {
        "colab": {
          "base_uri": "https://localhost:8080/"
        },
        "id": "Dw8J1_Uby-fp",
        "outputId": "ee475a76-a586-4011-9ffa-1c78b39c567f"
      },
      "execution_count": null,
      "outputs": [
        {
          "output_type": "stream",
          "name": "stdout",
          "text": [
            "Writing /root/.cdsapirc\n"
          ]
        }
      ]
    },
    {
      "cell_type": "markdown",
      "source": [
        "pre requisites"
      ],
      "metadata": {
        "id": "ezGa3sJ8-Y1i"
      }
    },
    {
      "cell_type": "code",
      "execution_count": null,
      "metadata": {
        "colab": {
          "base_uri": "https://localhost:8080/"
        },
        "id": "jR33fzDDyTJO",
        "outputId": "c0c1d386-55cc-4fcd-e3a1-7a14ac0a55a4"
      },
      "outputs": [
        {
          "output_type": "stream",
          "name": "stdout",
          "text": [
            "Collecting cdsapi\n",
            "  Downloading cdsapi-0.6.1.tar.gz (13 kB)\n",
            "  Preparing metadata (setup.py) ... \u001b[?25l\u001b[?25hdone\n",
            "Collecting pygrib\n",
            "  Downloading pygrib-2.1.4-cp310-cp310-manylinux_2_17_x86_64.manylinux2014_x86_64.whl (16.6 MB)\n",
            "\u001b[2K     \u001b[90m━━━━━━━━━━━━━━━━━━━━━━━━━━━━━━━━━━━━━━━━\u001b[0m \u001b[32m16.6/16.6 MB\u001b[0m \u001b[31m35.3 MB/s\u001b[0m eta \u001b[36m0:00:00\u001b[0m\n",
            "\u001b[?25hRequirement already satisfied: requests>=2.5.0 in /usr/local/lib/python3.10/dist-packages (from cdsapi) (2.31.0)\n",
            "Requirement already satisfied: tqdm in /usr/local/lib/python3.10/dist-packages (from cdsapi) (4.66.1)\n",
            "Requirement already satisfied: pyproj in /usr/local/lib/python3.10/dist-packages (from pygrib) (3.6.0)\n",
            "Requirement already satisfied: numpy in /usr/local/lib/python3.10/dist-packages (from pygrib) (1.23.5)\n",
            "Requirement already satisfied: charset-normalizer<4,>=2 in /usr/local/lib/python3.10/dist-packages (from requests>=2.5.0->cdsapi) (3.2.0)\n",
            "Requirement already satisfied: idna<4,>=2.5 in /usr/local/lib/python3.10/dist-packages (from requests>=2.5.0->cdsapi) (3.4)\n",
            "Requirement already satisfied: urllib3<3,>=1.21.1 in /usr/local/lib/python3.10/dist-packages (from requests>=2.5.0->cdsapi) (2.0.4)\n",
            "Requirement already satisfied: certifi>=2017.4.17 in /usr/local/lib/python3.10/dist-packages (from requests>=2.5.0->cdsapi) (2023.7.22)\n",
            "Building wheels for collected packages: cdsapi\n",
            "  Building wheel for cdsapi (setup.py) ... \u001b[?25l\u001b[?25hdone\n",
            "  Created wheel for cdsapi: filename=cdsapi-0.6.1-py2.py3-none-any.whl size=12008 sha256=8867fb6d6cef957e412c5dbf8d56ac7c559047b4d6b96aa118543ec9718e139b\n",
            "  Stored in directory: /root/.cache/pip/wheels/7c/63/08/45461d6f6636c1aba7846828d8c787a064073945048f76d44a\n",
            "Successfully built cdsapi\n",
            "Installing collected packages: pygrib, cdsapi\n",
            "Successfully installed cdsapi-0.6.1 pygrib-2.1.4\n"
          ]
        }
      ],
      "source": [
        "!pip install cdsapi pygrib"
      ]
    },
    {
      "cell_type": "markdown",
      "source": [
        "## downloader"
      ],
      "metadata": {
        "id": "XVMdY-gj0yuK"
      }
    },
    {
      "cell_type": "markdown",
      "source": [
        "visualize"
      ],
      "metadata": {
        "id": "XS8RkqfH0_-b"
      }
    },
    {
      "cell_type": "code",
      "source": [
        "# @title Default title text { vertical-output: true }\n",
        "import cdsapi\n",
        "import pygrib\n",
        "import matplotlib.pyplot as plt\n",
        "import numpy as np\n",
        "\n",
        "def retrieve_era5_data(year, month, days, times, area, output_file):\n",
        "    c = cdsapi.Client()\n",
        "\n",
        "    c.retrieve(\n",
        "        'reanalysis-era5-single-levels',\n",
        "        {\n",
        "            'product_type': 'reanalysis',\n",
        "            'variable': ['2m_temperature'],  # Only retrieve 2m temperature\n",
        "            'year': year,\n",
        "            'month': month,\n",
        "            'day': days,\n",
        "            'time': times,\n",
        "            'area': area,\n",
        "            'format': 'grib',\n",
        "        },\n",
        "        output_file)\n",
        "\n",
        "# Example usage:\n",
        "year = '2022'\n",
        "month = '03'\n",
        "days = ['13', '14', '15']\n",
        "times = ['00:00', '03:00', '06:00', '09:00', '12:00', '15:00', '18:00', '21:00']\n",
        "area = [45, 35, 20, 70]  # North, West, South, East\n",
        "output_file = 'single.grib'\n",
        "\n",
        "retrieve_era5_data(year, month, days, times, area, output_file)\n",
        "\n",
        "\n",
        "# Read the GRIB file using pygrib\n",
        "grbs = pygrib.open(output_file)\n",
        "\n",
        "# Extract the temperature data\n",
        "temperature = []\n",
        "for grb in grbs:\n",
        "    if grb['name'] == '2 metre temperature':\n",
        "        temperature.append(grb['values'])\n",
        "\n",
        "# Create a combined array for temperature data\n",
        "temperature_data = np.array(temperature)\n",
        "\n",
        "# Plot the temperature\n",
        "plt.imshow(temperature_data[0], extent=(area[2], area[3], area[0], area[1]), origin='upper')\n",
        "plt.colorbar(label='Temperature (°C)')\n",
        "plt.title('2m Temperature')\n",
        "plt.xlabel('Longitude')\n",
        "plt.ylabel('Latitude')\n",
        "plt.show()\n"
      ],
      "metadata": {
        "colab": {
          "base_uri": "https://localhost:8080/",
          "height": 600
        },
        "id": "5PTQIOYv1k0o",
        "outputId": "2b70aa7b-5964-4be2-9531-6fdb0235b51a"
      },
      "execution_count": null,
      "outputs": [
        {
          "output_type": "stream",
          "name": "stderr",
          "text": [
            "2023-09-03 12:15:40,754 INFO Welcome to the CDS\n",
            "INFO:cdsapi:Welcome to the CDS\n",
            "2023-09-03 12:15:40,757 INFO Sending request to https://cds.climate.copernicus.eu/api/v2/resources/reanalysis-era5-single-levels\n",
            "INFO:cdsapi:Sending request to https://cds.climate.copernicus.eu/api/v2/resources/reanalysis-era5-single-levels\n",
            "2023-09-03 12:15:40,935 INFO Request is completed\n",
            "INFO:cdsapi:Request is completed\n",
            "2023-09-03 12:15:40,938 INFO Downloading https://download-0008-clone.copernicus-climate.eu/cache-compute-0008/cache/data9/adaptor.mars.internal-1693741595.968646-6720-15-859d1208-0129-498a-b69e-87b1d446f493.grib to single.grib (672.2K)\n",
            "INFO:cdsapi:Downloading https://download-0008-clone.copernicus-climate.eu/cache-compute-0008/cache/data9/adaptor.mars.internal-1693741595.968646-6720-15-859d1208-0129-498a-b69e-87b1d446f493.grib to single.grib (672.2K)\n",
            "2023-09-03 12:15:42,088 INFO Download rate 586K/s\n",
            "INFO:cdsapi:Download rate 586K/s\n"
          ]
        },
        {
          "output_type": "display_data",
          "data": {
            "text/plain": [
              "<Figure size 640x480 with 2 Axes>"
            ],
            "image/png": "[encoded data removed]"
          },
          "metadata": {}
        }
      ]
    },
    {
      "cell_type": "code",
      "source": [
        "# @title test { vertical-output: true }\n",
        "import cdsapi\n",
        "import pygrib\n",
        "import matplotlib.pyplot as plt\n",
        "import numpy as np\n",
        "\n",
        "def retrieve_era5_data(year, month, days, times, area, output_file):\n",
        "    c = cdsapi.Client()\n",
        "\n",
        "    c.retrieve(\n",
        "        'reanalysis-era5-single-levels',\n",
        "        {\n",
        "            'product_type': 'reanalysis',\n",
        "            'variable': ['total_precipitation'],  # Only retrieve total_precipitation\n",
        "            'year': year,\n",
        "            'month': month,\n",
        "            'day': days,\n",
        "            'time': times,\n",
        "            'area': area,\n",
        "            'format': 'netcdf',\n",
        "        },\n",
        "        output_file)\n",
        "\n",
        "# Example usage:\n",
        "year = [\n",
        "            '1940', '1941', '1942',\n",
        "            '1943', '1944', '1945',\n",
        "            '1946', '1947', '1948',\n",
        "            '1949', '1950', '1951',\n",
        "            '1952', '1953', '1954',\n",
        "            '1955', '1956', '1957',\n",
        "            '1958', '1959', '1960',\n",
        "            '1961', '1962', '1963',\n",
        "            '1964', '1965', '1966',\n",
        "            '1967', '1968', '1969',\n",
        "            '1970', '1971', '1972',\n",
        "            '1973', '1974', '1975',\n",
        "            '1976', '1977', '1978',\n",
        "            '1979', '1980', '1981',\n",
        "            '1982', '1983', '1984',\n",
        "            '1985', '1986', '1987',\n",
        "            '1988', '1989', '1990',\n",
        "            '1991', '1992', '1993',\n",
        "            '1994', '1995', '1996',\n",
        "            '1997', '1998', '1999',\n",
        "            '2000', '2001', '2002',\n",
        "            '2003', '2004', '2005',\n",
        "            '2006', '2007', '2008',\n",
        "            '2009', '2010', '2011',\n",
        "            '2012', '2013', '2014',\n",
        "            '2015', '2016', '2017',\n",
        "            '2018', '2019', '2020',\n",
        "            '2021', '2022', '2023',\n",
        "        ]\n",
        "month = [\n",
        "            '01', '02', '03',\n",
        "            '04', '05', '06',\n",
        "            '07', '08', '09',\n",
        "            '10', '11', '12',\n",
        "        ]\n",
        "days = [\n",
        "            '01', '02', '03',\n",
        "            '04', '05', '06',\n",
        "            '07', '08', '09',\n",
        "            '10', '11', '12',\n",
        "            '13', '14', '15',\n",
        "            '16', '17', '18',\n",
        "            '19', '20', '21',\n",
        "            '22', '23', '24',\n",
        "            '25', '26', '27',\n",
        "            '28', '29', '30',\n",
        "            '31',\n",
        "        ]\n",
        "times = [\n",
        "            '00:00', '01:00', '02:00',\n",
        "            '03:00', '04:00', '05:00',\n",
        "            '06:00', '07:00', '08:00',\n",
        "            '09:00', '10:00', '11:00',\n",
        "            '12:00', '13:00', '14:00',\n",
        "            '15:00', '16:00', '17:00',\n",
        "            '18:00', '19:00', '20:00',\n",
        "            '21:00', '22:00', '23:00',\n",
        "        ]\n",
        "area = [\n",
        "            28.5, 80.25, 27,\n",
        "            80.75,\n",
        "        ]  # North, West, South, East\n",
        "\n",
        "output_file = 'single.nc'\n",
        "\n",
        "# retrieve_era5_data(year, month, days, times, area, output_file)\n",
        "\n",
        "\n",
        "# # Read the GRIB file using pygrib\n",
        "# grbs = pygrib.open(output_file)\n",
        "\n",
        "# # Extract the temperature data\n",
        "# temperature = []\n",
        "# for grb in grbs:\n",
        "#     if grb['name'] == '2 metre temperature':\n",
        "#         temperature.append(grb['values'])\n",
        "\n",
        "# # Create a combined array for temperature data\n",
        "# temperature_data = np.array(temperature)\n",
        "\n",
        "# # Plot the temperature\n",
        "# plt.imshow(temperature_data[0], extent=(area[2], area[3], area[0], area[1]), origin='upper')\n",
        "# plt.colorbar(label='Temperature (°C)')\n",
        "# plt.title('2m Temperature')\n",
        "# plt.xlabel('Longitude')\n",
        "# plt.ylabel('Latitude')\n",
        "# plt.show()\n"
      ],
      "metadata": {
        "id": "0F9uFZGPPxVB"
      },
      "execution_count": null,
      "outputs": []
    },
    {
      "cell_type": "code",
      "source": [
        "for i in range(1,len(year)):\n",
        "  retrieve_era5_data(year[i], month, days, times, area, 'single_'+str(year[i])+'.nc')\n",
        "  print(output_file)"
      ],
      "metadata": {
        "id": "_6LiTWZMmC5R",
        "outputId": "f0541585-61c4-47d2-8acc-e683e141e444",
        "colab": {
          "base_uri": "https://localhost:8080/",
          "height": 861
        }
      },
      "execution_count": null,
      "outputs": [
        {
          "output_type": "stream",
          "name": "stderr",
          "text": [
            "2023-09-13 17:30:58,128 INFO Welcome to the CDS\n",
            "INFO:cdsapi:Welcome to the CDS\n",
            "2023-09-13 17:30:58,138 INFO Sending request to https://cds.climate.copernicus.eu/api/v2/resources/reanalysis-era5-single-levels\n",
            "INFO:cdsapi:Sending request to https://cds.climate.copernicus.eu/api/v2/resources/reanalysis-era5-single-levels\n",
            "2023-09-13 17:30:58,295 INFO Request is completed\n",
            "INFO:cdsapi:Request is completed\n",
            "2023-09-13 17:30:58,300 INFO Downloading https://download-0011-clone.copernicus-climate.eu/cache-compute-0011/cache/data3/adaptor.mars.internal-1694622330.598182-25866-18-ade7d4a0-5e6e-48a7-9bb3-f73c12c1f520.nc to single_1941.nc (394.6K)\n",
            "INFO:cdsapi:Downloading https://download-0011-clone.copernicus-climate.eu/cache-compute-0011/cache/data3/adaptor.mars.internal-1694622330.598182-25866-18-ade7d4a0-5e6e-48a7-9bb3-f73c12c1f520.nc to single_1941.nc (394.6K)\n",
            "2023-09-13 17:30:59,406 INFO Download rate 359.3K/s\n",
            "INFO:cdsapi:Download rate 359.3K/s\n",
            "2023-09-13 17:30:59,627 INFO Welcome to the CDS\n",
            "INFO:cdsapi:Welcome to the CDS\n",
            "2023-09-13 17:30:59,629 INFO Sending request to https://cds.climate.copernicus.eu/api/v2/resources/reanalysis-era5-single-levels\n",
            "INFO:cdsapi:Sending request to https://cds.climate.copernicus.eu/api/v2/resources/reanalysis-era5-single-levels\n"
          ]
        },
        {
          "output_type": "stream",
          "name": "stdout",
          "text": [
            "single_1943.nc\n"
          ]
        },
        {
          "output_type": "stream",
          "name": "stderr",
          "text": [
            "2023-09-13 17:30:59,842 INFO Request is completed\n",
            "INFO:cdsapi:Request is completed\n",
            "2023-09-13 17:30:59,843 INFO Downloading https://download-0016.copernicus-climate.eu/cache-compute-0016/cache/data2/adaptor.mars.internal-1694623223.3233185-22985-7-837b6e94-c33c-44a5-b0a3-fc3f19ddb8b8.nc to single_1942.nc (394.6K)\n",
            "INFO:cdsapi:Downloading https://download-0016.copernicus-climate.eu/cache-compute-0016/cache/data2/adaptor.mars.internal-1694623223.3233185-22985-7-837b6e94-c33c-44a5-b0a3-fc3f19ddb8b8.nc to single_1942.nc (394.6K)\n",
            "2023-09-13 17:31:00,941 INFO Download rate 360.2K/s\n",
            "INFO:cdsapi:Download rate 360.2K/s\n",
            "2023-09-13 17:31:01,157 INFO Welcome to the CDS\n",
            "INFO:cdsapi:Welcome to the CDS\n",
            "2023-09-13 17:31:01,162 INFO Sending request to https://cds.climate.copernicus.eu/api/v2/resources/reanalysis-era5-single-levels\n",
            "INFO:cdsapi:Sending request to https://cds.climate.copernicus.eu/api/v2/resources/reanalysis-era5-single-levels\n"
          ]
        },
        {
          "output_type": "stream",
          "name": "stdout",
          "text": [
            "single_1943.nc\n"
          ]
        },
        {
          "output_type": "stream",
          "name": "stderr",
          "text": [
            "2023-09-13 17:31:01,311 INFO Request is queued\n",
            "INFO:cdsapi:Request is queued\n"
          ]
        },
        {
          "output_type": "error",
          "ename": "HTTPError",
          "evalue": "ignored",
          "traceback": [
            "\u001b[0;31m---------------------------------------------------------------------------\u001b[0m",
            "\u001b[0;31mHTTPError\u001b[0m                                 Traceback (most recent call last)",
            "\u001b[0;32m<ipython-input-6-3f24f94bc132>\u001b[0m in \u001b[0;36m<cell line: 1>\u001b[0;34m()\u001b[0m\n\u001b[1;32m      1\u001b[0m \u001b[0;32mfor\u001b[0m \u001b[0mi\u001b[0m \u001b[0;32min\u001b[0m \u001b[0mrange\u001b[0m\u001b[0;34m(\u001b[0m\u001b[0;36m1\u001b[0m\u001b[0;34m,\u001b[0m\u001b[0mlen\u001b[0m\u001b[0;34m(\u001b[0m\u001b[0myear\u001b[0m\u001b[0;34m)\u001b[0m\u001b[0;34m)\u001b[0m\u001b[0;34m:\u001b[0m\u001b[0;34m\u001b[0m\u001b[0;34m\u001b[0m\u001b[0m\n\u001b[0;32m----> 2\u001b[0;31m   \u001b[0mretrieve_era5_data\u001b[0m\u001b[0;34m(\u001b[0m\u001b[0myear\u001b[0m\u001b[0;34m[\u001b[0m\u001b[0mi\u001b[0m\u001b[0;34m]\u001b[0m\u001b[0;34m,\u001b[0m \u001b[0mmonth\u001b[0m\u001b[0;34m,\u001b[0m \u001b[0mdays\u001b[0m\u001b[0;34m,\u001b[0m \u001b[0mtimes\u001b[0m\u001b[0;34m,\u001b[0m \u001b[0marea\u001b[0m\u001b[0;34m,\u001b[0m \u001b[0;34m'single_'\u001b[0m\u001b[0;34m+\u001b[0m\u001b[0mstr\u001b[0m\u001b[0;34m(\u001b[0m\u001b[0myear\u001b[0m\u001b[0;34m[\u001b[0m\u001b[0mi\u001b[0m\u001b[0;34m]\u001b[0m\u001b[0;34m)\u001b[0m\u001b[0;34m+\u001b[0m\u001b[0;34m'.nc'\u001b[0m\u001b[0;34m)\u001b[0m\u001b[0;34m\u001b[0m\u001b[0;34m\u001b[0m\u001b[0m\n\u001b[0m\u001b[1;32m      3\u001b[0m   \u001b[0mprint\u001b[0m\u001b[0;34m(\u001b[0m\u001b[0moutput_file\u001b[0m\u001b[0;34m)\u001b[0m\u001b[0;34m\u001b[0m\u001b[0;34m\u001b[0m\u001b[0m\n",
            "\u001b[0;32m<ipython-input-4-72998ee70d68>\u001b[0m in \u001b[0;36mretrieve_era5_data\u001b[0;34m(year, month, days, times, area, output_file)\u001b[0m\n\u001b[1;32m      8\u001b[0m     \u001b[0mc\u001b[0m \u001b[0;34m=\u001b[0m \u001b[0mcdsapi\u001b[0m\u001b[0;34m.\u001b[0m\u001b[0mClient\u001b[0m\u001b[0;34m(\u001b[0m\u001b[0;34m)\u001b[0m\u001b[0;34m\u001b[0m\u001b[0;34m\u001b[0m\u001b[0m\n\u001b[1;32m      9\u001b[0m \u001b[0;34m\u001b[0m\u001b[0m\n\u001b[0;32m---> 10\u001b[0;31m     c.retrieve(\n\u001b[0m\u001b[1;32m     11\u001b[0m         \u001b[0;34m'reanalysis-era5-single-levels'\u001b[0m\u001b[0;34m,\u001b[0m\u001b[0;34m\u001b[0m\u001b[0;34m\u001b[0m\u001b[0m\n\u001b[1;32m     12\u001b[0m         {\n",
            "\u001b[0;32m/usr/local/lib/python3.10/dist-packages/cdsapi/api.py\u001b[0m in \u001b[0;36mretrieve\u001b[0;34m(self, name, request, target)\u001b[0m\n\u001b[1;32m    362\u001b[0m \u001b[0;34m\u001b[0m\u001b[0m\n\u001b[1;32m    363\u001b[0m     \u001b[0;32mdef\u001b[0m \u001b[0mretrieve\u001b[0m\u001b[0;34m(\u001b[0m\u001b[0mself\u001b[0m\u001b[0;34m,\u001b[0m \u001b[0mname\u001b[0m\u001b[0;34m,\u001b[0m \u001b[0mrequest\u001b[0m\u001b[0;34m,\u001b[0m \u001b[0mtarget\u001b[0m\u001b[0;34m=\u001b[0m\u001b[0;32mNone\u001b[0m\u001b[0;34m)\u001b[0m\u001b[0;34m:\u001b[0m\u001b[0;34m\u001b[0m\u001b[0;34m\u001b[0m\u001b[0m\n\u001b[0;32m--> 364\u001b[0;31m         \u001b[0mresult\u001b[0m \u001b[0;34m=\u001b[0m \u001b[0mself\u001b[0m\u001b[0;34m.\u001b[0m\u001b[0m_api\u001b[0m\u001b[0;34m(\u001b[0m\u001b[0;34m\"%s/resources/%s\"\u001b[0m \u001b[0;34m%\u001b[0m \u001b[0;34m(\u001b[0m\u001b[0mself\u001b[0m\u001b[0;34m.\u001b[0m\u001b[0murl\u001b[0m\u001b[0;34m,\u001b[0m \u001b[0mname\u001b[0m\u001b[0;34m)\u001b[0m\u001b[0;34m,\u001b[0m \u001b[0mrequest\u001b[0m\u001b[0;34m,\u001b[0m \u001b[0;34m\"POST\"\u001b[0m\u001b[0;34m)\u001b[0m\u001b[0;34m\u001b[0m\u001b[0;34m\u001b[0m\u001b[0m\n\u001b[0m\u001b[1;32m    365\u001b[0m         \u001b[0;32mif\u001b[0m \u001b[0mtarget\u001b[0m \u001b[0;32mis\u001b[0m \u001b[0;32mnot\u001b[0m \u001b[0;32mNone\u001b[0m\u001b[0;34m:\u001b[0m\u001b[0;34m\u001b[0m\u001b[0;34m\u001b[0m\u001b[0m\n\u001b[1;32m    366\u001b[0m             \u001b[0mresult\u001b[0m\u001b[0;34m.\u001b[0m\u001b[0mdownload\u001b[0m\u001b[0;34m(\u001b[0m\u001b[0mtarget\u001b[0m\u001b[0;34m)\u001b[0m\u001b[0;34m\u001b[0m\u001b[0;34m\u001b[0m\u001b[0m\n",
            "\u001b[0;32m/usr/local/lib/python3.10/dist-packages/cdsapi/api.py\u001b[0m in \u001b[0;36m_api\u001b[0;34m(self, url, request, method)\u001b[0m\n\u001b[1;32m    501\u001b[0m                     \u001b[0mtask_url\u001b[0m\u001b[0;34m,\u001b[0m \u001b[0mverify\u001b[0m\u001b[0;34m=\u001b[0m\u001b[0mself\u001b[0m\u001b[0;34m.\u001b[0m\u001b[0mverify\u001b[0m\u001b[0;34m,\u001b[0m \u001b[0mtimeout\u001b[0m\u001b[0;34m=\u001b[0m\u001b[0mself\u001b[0m\u001b[0;34m.\u001b[0m\u001b[0mtimeout\u001b[0m\u001b[0;34m\u001b[0m\u001b[0;34m\u001b[0m\u001b[0m\n\u001b[1;32m    502\u001b[0m                 )\n\u001b[0;32m--> 503\u001b[0;31m                 \u001b[0mresult\u001b[0m\u001b[0;34m.\u001b[0m\u001b[0mraise_for_status\u001b[0m\u001b[0;34m(\u001b[0m\u001b[0;34m)\u001b[0m\u001b[0;34m\u001b[0m\u001b[0;34m\u001b[0m\u001b[0m\n\u001b[0m\u001b[1;32m    504\u001b[0m                 \u001b[0mreply\u001b[0m \u001b[0;34m=\u001b[0m \u001b[0mresult\u001b[0m\u001b[0;34m.\u001b[0m\u001b[0mjson\u001b[0m\u001b[0;34m(\u001b[0m\u001b[0;34m)\u001b[0m\u001b[0;34m\u001b[0m\u001b[0;34m\u001b[0m\u001b[0m\n\u001b[1;32m    505\u001b[0m                 \u001b[0;32mcontinue\u001b[0m\u001b[0;34m\u001b[0m\u001b[0;34m\u001b[0m\u001b[0m\n",
            "\u001b[0;32m/usr/local/lib/python3.10/dist-packages/requests/models.py\u001b[0m in \u001b[0;36mraise_for_status\u001b[0;34m(self)\u001b[0m\n\u001b[1;32m   1019\u001b[0m \u001b[0;34m\u001b[0m\u001b[0m\n\u001b[1;32m   1020\u001b[0m         \u001b[0;32mif\u001b[0m \u001b[0mhttp_error_msg\u001b[0m\u001b[0;34m:\u001b[0m\u001b[0;34m\u001b[0m\u001b[0;34m\u001b[0m\u001b[0m\n\u001b[0;32m-> 1021\u001b[0;31m             \u001b[0;32mraise\u001b[0m \u001b[0mHTTPError\u001b[0m\u001b[0;34m(\u001b[0m\u001b[0mhttp_error_msg\u001b[0m\u001b[0;34m,\u001b[0m \u001b[0mresponse\u001b[0m\u001b[0;34m=\u001b[0m\u001b[0mself\u001b[0m\u001b[0;34m)\u001b[0m\u001b[0;34m\u001b[0m\u001b[0;34m\u001b[0m\u001b[0m\n\u001b[0m\u001b[1;32m   1022\u001b[0m \u001b[0;34m\u001b[0m\u001b[0m\n\u001b[1;32m   1023\u001b[0m     \u001b[0;32mdef\u001b[0m \u001b[0mclose\u001b[0m\u001b[0;34m(\u001b[0m\u001b[0mself\u001b[0m\u001b[0;34m)\u001b[0m\u001b[0;34m:\u001b[0m\u001b[0;34m\u001b[0m\u001b[0;34m\u001b[0m\u001b[0m\n",
            "\u001b[0;31mHTTPError\u001b[0m: 404 Client Error:  for url: https://cds.climate.copernicus.eu/api/v2/tasks/ca98baec-b143-47a5-b727-bd46c7e01c3a"
          ]
        }
      ]
    },
    {
      "cell_type": "code",
      "source": [
        "async def fetch_data(url):\n",
        "    response = await aiohttp.get(url)\n",
        "\n",
        "for i in range(1,len(year)):\n",
        "  output_file = 'single_'+str(year[i])+'.nc'\n",
        "  fetch_data(retrieve_era5_data(year[i], month, days, times, area, output_file))\n",
        "  print(output_file)\n",
        "\n",
        "    # Continue processing after the response is received\n"
      ],
      "metadata": {
        "id": "q5TqAciTTGU7",
        "outputId": "073d6b58-4b04-40c3-b72b-31bc92eaf0ed",
        "colab": {
          "base_uri": "https://localhost:8080/",
          "height": 983
        }
      },
      "execution_count": null,
      "outputs": [
        {
          "output_type": "stream",
          "name": "stderr",
          "text": [
            "2023-09-13 17:28:22,692 INFO Welcome to the CDS\n",
            "INFO:cdsapi:Welcome to the CDS\n",
            "2023-09-13 17:28:22,696 INFO Sending request to https://cds.climate.copernicus.eu/api/v2/resources/reanalysis-era5-single-levels\n",
            "INFO:cdsapi:Sending request to https://cds.climate.copernicus.eu/api/v2/resources/reanalysis-era5-single-levels\n",
            "2023-09-13 17:28:22,847 INFO Request is completed\n",
            "INFO:cdsapi:Request is completed\n",
            "2023-09-13 17:28:22,849 INFO Downloading https://download-0011-clone.copernicus-climate.eu/cache-compute-0011/cache/data3/adaptor.mars.internal-1694622330.598182-25866-18-ade7d4a0-5e6e-48a7-9bb3-f73c12c1f520.nc to single_1941.nc (394.6K)\n",
            "INFO:cdsapi:Downloading https://download-0011-clone.copernicus-climate.eu/cache-compute-0011/cache/data3/adaptor.mars.internal-1694622330.598182-25866-18-ade7d4a0-5e6e-48a7-9bb3-f73c12c1f520.nc to single_1941.nc (394.6K)\n",
            "2023-09-13 17:28:24,003 INFO Download rate 343K/s\n",
            "INFO:cdsapi:Download rate 343K/s\n",
            "<ipython-input-5-084333ad7a7c>:6: RuntimeWarning: coroutine 'fetch_data' was never awaited\n",
            "  fetch_data(retrieve_era5_data(year[i], month, days, times, area, output_file))\n",
            "RuntimeWarning: Enable tracemalloc to get the object allocation traceback\n",
            "2023-09-13 17:28:24,222 INFO Welcome to the CDS\n",
            "INFO:cdsapi:Welcome to the CDS\n",
            "2023-09-13 17:28:24,225 INFO Sending request to https://cds.climate.copernicus.eu/api/v2/resources/reanalysis-era5-single-levels\n",
            "INFO:cdsapi:Sending request to https://cds.climate.copernicus.eu/api/v2/resources/reanalysis-era5-single-levels\n"
          ]
        },
        {
          "output_type": "stream",
          "name": "stdout",
          "text": [
            "single_1941.nc\n"
          ]
        },
        {
          "output_type": "stream",
          "name": "stderr",
          "text": [
            "2023-09-13 17:28:24,443 INFO Request is completed\n",
            "INFO:cdsapi:Request is completed\n",
            "2023-09-13 17:28:24,445 INFO Downloading https://download-0016.copernicus-climate.eu/cache-compute-0016/cache/data2/adaptor.mars.internal-1694623223.3233185-22985-7-837b6e94-c33c-44a5-b0a3-fc3f19ddb8b8.nc to single_1942.nc (394.6K)\n",
            "INFO:cdsapi:Downloading https://download-0016.copernicus-climate.eu/cache-compute-0016/cache/data2/adaptor.mars.internal-1694623223.3233185-22985-7-837b6e94-c33c-44a5-b0a3-fc3f19ddb8b8.nc to single_1942.nc (394.6K)\n",
            "2023-09-13 17:28:26,200 INFO Download rate 225.1K/s\n",
            "INFO:cdsapi:Download rate 225.1K/s\n",
            "2023-09-13 17:28:26,422 INFO Welcome to the CDS\n",
            "INFO:cdsapi:Welcome to the CDS\n",
            "2023-09-13 17:28:26,425 INFO Sending request to https://cds.climate.copernicus.eu/api/v2/resources/reanalysis-era5-single-levels\n",
            "INFO:cdsapi:Sending request to https://cds.climate.copernicus.eu/api/v2/resources/reanalysis-era5-single-levels\n"
          ]
        },
        {
          "output_type": "stream",
          "name": "stdout",
          "text": [
            "single_1942.nc\n"
          ]
        },
        {
          "output_type": "stream",
          "name": "stderr",
          "text": [
            "2023-09-13 17:28:26,558 INFO Request is queued\n",
            "INFO:cdsapi:Request is queued\n",
            "2023-09-13 17:28:27,672 INFO Request is running\n",
            "INFO:cdsapi:Request is running\n"
          ]
        },
        {
          "output_type": "error",
          "ename": "KeyboardInterrupt",
          "evalue": "ignored",
          "traceback": [
            "\u001b[0;31m---------------------------------------------------------------------------\u001b[0m",
            "\u001b[0;31mKeyboardInterrupt\u001b[0m                         Traceback (most recent call last)",
            "\u001b[0;32m<ipython-input-5-084333ad7a7c>\u001b[0m in \u001b[0;36m<cell line: 4>\u001b[0;34m()\u001b[0m\n\u001b[1;32m      4\u001b[0m \u001b[0;32mfor\u001b[0m \u001b[0mi\u001b[0m \u001b[0;32min\u001b[0m \u001b[0mrange\u001b[0m\u001b[0;34m(\u001b[0m\u001b[0;36m1\u001b[0m\u001b[0;34m,\u001b[0m\u001b[0mlen\u001b[0m\u001b[0;34m(\u001b[0m\u001b[0myear\u001b[0m\u001b[0;34m)\u001b[0m\u001b[0;34m)\u001b[0m\u001b[0;34m:\u001b[0m\u001b[0;34m\u001b[0m\u001b[0;34m\u001b[0m\u001b[0m\n\u001b[1;32m      5\u001b[0m   \u001b[0moutput_file\u001b[0m \u001b[0;34m=\u001b[0m \u001b[0;34m'single_'\u001b[0m\u001b[0;34m+\u001b[0m\u001b[0mstr\u001b[0m\u001b[0;34m(\u001b[0m\u001b[0myear\u001b[0m\u001b[0;34m[\u001b[0m\u001b[0mi\u001b[0m\u001b[0;34m]\u001b[0m\u001b[0;34m)\u001b[0m\u001b[0;34m+\u001b[0m\u001b[0;34m'.nc'\u001b[0m\u001b[0;34m\u001b[0m\u001b[0;34m\u001b[0m\u001b[0m\n\u001b[0;32m----> 6\u001b[0;31m   \u001b[0mfetch_data\u001b[0m\u001b[0;34m(\u001b[0m\u001b[0mretrieve_era5_data\u001b[0m\u001b[0;34m(\u001b[0m\u001b[0myear\u001b[0m\u001b[0;34m[\u001b[0m\u001b[0mi\u001b[0m\u001b[0;34m]\u001b[0m\u001b[0;34m,\u001b[0m \u001b[0mmonth\u001b[0m\u001b[0;34m,\u001b[0m \u001b[0mdays\u001b[0m\u001b[0;34m,\u001b[0m \u001b[0mtimes\u001b[0m\u001b[0;34m,\u001b[0m \u001b[0marea\u001b[0m\u001b[0;34m,\u001b[0m \u001b[0moutput_file\u001b[0m\u001b[0;34m)\u001b[0m\u001b[0;34m)\u001b[0m\u001b[0;34m\u001b[0m\u001b[0;34m\u001b[0m\u001b[0m\n\u001b[0m\u001b[1;32m      7\u001b[0m   \u001b[0mprint\u001b[0m\u001b[0;34m(\u001b[0m\u001b[0moutput_file\u001b[0m\u001b[0;34m)\u001b[0m\u001b[0;34m\u001b[0m\u001b[0;34m\u001b[0m\u001b[0m\n\u001b[1;32m      8\u001b[0m \u001b[0;34m\u001b[0m\u001b[0m\n",
            "\u001b[0;32m<ipython-input-4-72998ee70d68>\u001b[0m in \u001b[0;36mretrieve_era5_data\u001b[0;34m(year, month, days, times, area, output_file)\u001b[0m\n\u001b[1;32m      8\u001b[0m     \u001b[0mc\u001b[0m \u001b[0;34m=\u001b[0m \u001b[0mcdsapi\u001b[0m\u001b[0;34m.\u001b[0m\u001b[0mClient\u001b[0m\u001b[0;34m(\u001b[0m\u001b[0;34m)\u001b[0m\u001b[0;34m\u001b[0m\u001b[0;34m\u001b[0m\u001b[0m\n\u001b[1;32m      9\u001b[0m \u001b[0;34m\u001b[0m\u001b[0m\n\u001b[0;32m---> 10\u001b[0;31m     c.retrieve(\n\u001b[0m\u001b[1;32m     11\u001b[0m         \u001b[0;34m'reanalysis-era5-single-levels'\u001b[0m\u001b[0;34m,\u001b[0m\u001b[0;34m\u001b[0m\u001b[0;34m\u001b[0m\u001b[0m\n\u001b[1;32m     12\u001b[0m         {\n",
            "\u001b[0;32m/usr/local/lib/python3.10/dist-packages/cdsapi/api.py\u001b[0m in \u001b[0;36mretrieve\u001b[0;34m(self, name, request, target)\u001b[0m\n\u001b[1;32m    362\u001b[0m \u001b[0;34m\u001b[0m\u001b[0m\n\u001b[1;32m    363\u001b[0m     \u001b[0;32mdef\u001b[0m \u001b[0mretrieve\u001b[0m\u001b[0;34m(\u001b[0m\u001b[0mself\u001b[0m\u001b[0;34m,\u001b[0m \u001b[0mname\u001b[0m\u001b[0;34m,\u001b[0m \u001b[0mrequest\u001b[0m\u001b[0;34m,\u001b[0m \u001b[0mtarget\u001b[0m\u001b[0;34m=\u001b[0m\u001b[0;32mNone\u001b[0m\u001b[0;34m)\u001b[0m\u001b[0;34m:\u001b[0m\u001b[0;34m\u001b[0m\u001b[0;34m\u001b[0m\u001b[0m\n\u001b[0;32m--> 364\u001b[0;31m         \u001b[0mresult\u001b[0m \u001b[0;34m=\u001b[0m \u001b[0mself\u001b[0m\u001b[0;34m.\u001b[0m\u001b[0m_api\u001b[0m\u001b[0;34m(\u001b[0m\u001b[0;34m\"%s/resources/%s\"\u001b[0m \u001b[0;34m%\u001b[0m \u001b[0;34m(\u001b[0m\u001b[0mself\u001b[0m\u001b[0;34m.\u001b[0m\u001b[0murl\u001b[0m\u001b[0;34m,\u001b[0m \u001b[0mname\u001b[0m\u001b[0;34m)\u001b[0m\u001b[0;34m,\u001b[0m \u001b[0mrequest\u001b[0m\u001b[0;34m,\u001b[0m \u001b[0;34m\"POST\"\u001b[0m\u001b[0;34m)\u001b[0m\u001b[0;34m\u001b[0m\u001b[0;34m\u001b[0m\u001b[0m\n\u001b[0m\u001b[1;32m    365\u001b[0m         \u001b[0;32mif\u001b[0m \u001b[0mtarget\u001b[0m \u001b[0;32mis\u001b[0m \u001b[0;32mnot\u001b[0m \u001b[0;32mNone\u001b[0m\u001b[0;34m:\u001b[0m\u001b[0;34m\u001b[0m\u001b[0;34m\u001b[0m\u001b[0m\n\u001b[1;32m    366\u001b[0m             \u001b[0mresult\u001b[0m\u001b[0;34m.\u001b[0m\u001b[0mdownload\u001b[0m\u001b[0;34m(\u001b[0m\u001b[0mtarget\u001b[0m\u001b[0;34m)\u001b[0m\u001b[0;34m\u001b[0m\u001b[0;34m\u001b[0m\u001b[0m\n",
            "\u001b[0;32m/usr/local/lib/python3.10/dist-packages/cdsapi/api.py\u001b[0m in \u001b[0;36m_api\u001b[0;34m(self, url, request, method)\u001b[0m\n\u001b[1;32m    490\u001b[0m \u001b[0;34m\u001b[0m\u001b[0m\n\u001b[1;32m    491\u001b[0m                 \u001b[0mself\u001b[0m\u001b[0;34m.\u001b[0m\u001b[0mdebug\u001b[0m\u001b[0;34m(\u001b[0m\u001b[0;34m\"Request ID is %s, sleep %s\"\u001b[0m\u001b[0;34m,\u001b[0m \u001b[0mrid\u001b[0m\u001b[0;34m,\u001b[0m \u001b[0msleep\u001b[0m\u001b[0;34m)\u001b[0m\u001b[0;34m\u001b[0m\u001b[0;34m\u001b[0m\u001b[0m\n\u001b[0;32m--> 492\u001b[0;31m                 \u001b[0mtime\u001b[0m\u001b[0;34m.\u001b[0m\u001b[0msleep\u001b[0m\u001b[0;34m(\u001b[0m\u001b[0msleep\u001b[0m\u001b[0;34m)\u001b[0m\u001b[0;34m\u001b[0m\u001b[0;34m\u001b[0m\u001b[0m\n\u001b[0m\u001b[1;32m    493\u001b[0m                 \u001b[0msleep\u001b[0m \u001b[0;34m*=\u001b[0m \u001b[0;36m1.5\u001b[0m\u001b[0;34m\u001b[0m\u001b[0;34m\u001b[0m\u001b[0m\n\u001b[1;32m    494\u001b[0m                 \u001b[0;32mif\u001b[0m \u001b[0msleep\u001b[0m \u001b[0;34m>\u001b[0m \u001b[0mself\u001b[0m\u001b[0;34m.\u001b[0m\u001b[0msleep_max\u001b[0m\u001b[0;34m:\u001b[0m\u001b[0;34m\u001b[0m\u001b[0;34m\u001b[0m\u001b[0m\n",
            "\u001b[0;31mKeyboardInterrupt\u001b[0m: "
          ]
        }
      ]
    },
    {
      "cell_type": "markdown",
      "source": [
        "\n",
        "\n",
        "```\n",
        "import cdsapi\n",
        "\n",
        "c = cdsapi.Client()\n",
        "\n",
        "c.retrieve(\n",
        "    'reanalysis-era5-single-levels',\n",
        "    {\n",
        "        'product_type': 'reanalysis',\n",
        "        'format': 'netcdf',\n",
        "        'variable': 'total_precipitation',\n",
        "        'year': [\n",
        "            '1940', '1941', '1942',\n",
        "            '1943', '1944', '1945',\n",
        "            '1946', '1947', '1948',\n",
        "            '1949', '1950', '1951',\n",
        "            '1952', '1953', '1954',\n",
        "            '1955', '1956', '1957',\n",
        "            '1958', '1959', '1960',\n",
        "            '1961', '1962', '1963',\n",
        "            '1964', '1965', '1966',\n",
        "            '1967', '1968', '1969',\n",
        "            '1970', '1971', '1972',\n",
        "            '1973', '1974', '1975',\n",
        "            '1976', '1977', '1978',\n",
        "            '1979', '1980', '1981',\n",
        "            '1982', '1983', '1984',\n",
        "            '1985', '1986', '1987',\n",
        "            '1988', '1989', '1990',\n",
        "            '1991', '1992', '1993',\n",
        "            '1994', '1995', '1996',\n",
        "            '1997', '1998', '1999',\n",
        "            '2000', '2001', '2002',\n",
        "            '2003', '2004', '2005',\n",
        "            '2006', '2007', '2008',\n",
        "            '2009', '2010', '2011',\n",
        "            '2012', '2013', '2014',\n",
        "            '2015', '2016', '2017',\n",
        "            '2018', '2019', '2020',\n",
        "            '2021', '2022', '2023',\n",
        "        ],\n",
        "        'month': [\n",
        "            '01', '02', '03',\n",
        "            '04', '05', '06',\n",
        "            '07', '08', '09',\n",
        "            '10', '11', '12',\n",
        "        ],\n",
        "        'day': [\n",
        "            '01', '02', '03',\n",
        "            '04', '05', '06',\n",
        "            '07', '08', '09',\n",
        "            '10', '11', '12',\n",
        "            '13', '14', '15',\n",
        "            '16', '17', '18',\n",
        "            '19', '20', '21',\n",
        "            '22', '23', '24',\n",
        "            '25', '26', '27',\n",
        "            '28', '29', '30',\n",
        "            '31',\n",
        "        ],\n",
        "        'time': '08:00',\n",
        "        'area': [\n",
        "            28.5, 80.25, 27,\n",
        "            80.75,\n",
        "        ],\n",
        "    },\n",
        "    'download.nc')\n",
        "\n",
        "```\n",
        "\n"
      ],
      "metadata": {
        "id": "dhNlAJe8PJM4"
      }
    },
    {
      "cell_type": "markdown",
      "source": [
        "test case"
      ],
      "metadata": {
        "id": "bRi9ArG--NXL"
      }
    },
    {
      "cell_type": "code",
      "source": [
        "import cdsapi\n",
        "\n",
        "c = cdsapi.Client()\n",
        "\n",
        "c.retrieve(\n",
        "    'reanalysis-era5-single-levels',\n",
        "    {\n",
        "        'product_type': 'reanalysis',\n",
        "        'variable': [\n",
        "            '10m_u_component_of_wind', '10m_v_component_of_wind', '2m_dewpoint_temperature',\n",
        "            '2m_temperature', 'geopotential', 'land_sea_mask',\n",
        "            'leaf_area_index_high_vegetation', 'mean_sea_level_pressure', 'sea_ice_cover',\n",
        "            'sea_surface_temperature', 'snow_depth', 'soil_temperature_level_1',\n",
        "            'soil_temperature_level_2', 'soil_temperature_level_3', 'soil_temperature_level_4',\n",
        "            'soil_type', 'surface_latent_heat_flux', 'surface_pressure',\n",
        "            'top_net_solar_radiation_clear_sky', 'total_precipitation', 'volumetric_soil_water_layer_1',\n",
        "            'volumetric_soil_water_layer_2', 'volumetric_soil_water_layer_3', 'volumetric_soil_water_layer_4',\n",
        "            'skin_temperature',\n",
        "        ],\n",
        "        'year': '2022',\n",
        "        'month': '03',\n",
        "        'day': [\n",
        "            '13', '14', '15',\n",
        "        ],\n",
        "        'time': [\n",
        "            '00:00', '03:00', '06:00',\n",
        "            '09:00', '12:00', '15:00',\n",
        "            '18:00', '21:00',\n",
        "        ],\n",
        "        'area': [\n",
        "            45, 35, 20,\n",
        "            70, #North, West, South, East\n",
        "        ],\n",
        "        'format': 'grib',\n",
        "    },\n",
        "    'single.grib')"
      ],
      "metadata": {
        "colab": {
          "base_uri": "https://localhost:8080/"
        },
        "id": "wbRF1bQJzfY4",
        "outputId": "58e0ff4e-7434-4ccf-8ef8-d2739c63cfa3"
      },
      "execution_count": null,
      "outputs": [
        {
          "output_type": "stream",
          "name": "stderr",
          "text": [
            "2023-09-03 11:30:52,099 INFO Welcome to the CDS\n",
            "INFO:cdsapi:Welcome to the CDS\n",
            "2023-09-03 11:30:52,102 INFO Sending request to https://cds.climate.copernicus.eu/api/v2/resources/reanalysis-era5-single-levels\n",
            "INFO:cdsapi:Sending request to https://cds.climate.copernicus.eu/api/v2/resources/reanalysis-era5-single-levels\n",
            "2023-09-03 11:30:52,277 INFO Request is queued\n",
            "INFO:cdsapi:Request is queued\n",
            "2023-09-03 11:30:53,399 INFO Request is running\n",
            "INFO:cdsapi:Request is running\n",
            "2023-09-03 11:31:13,794 INFO Request is completed\n",
            "INFO:cdsapi:Request is completed\n",
            "2023-09-03 11:31:13,798 INFO Downloading https://download-0017.copernicus-climate.eu/cache-compute-0017/cache/data1/adaptor.mars.internal-1693740652.5444672-31901-11-0c4c0486-e1de-4473-a7a4-4fb8d85eb69d.grib to single.grib (16.7M)\n",
            "INFO:cdsapi:Downloading https://download-0017.copernicus-climate.eu/cache-compute-0017/cache/data1/adaptor.mars.internal-1693740652.5444672-31901-11-0c4c0486-e1de-4473-a7a4-4fb8d85eb69d.grib to single.grib (16.7M)\n",
            "2023-09-03 11:31:16,116 INFO Download rate 7.2M/s\n",
            "INFO:cdsapi:Download rate 7.2M/s\n"
          ]
        },
        {
          "output_type": "execute_result",
          "data": {
            "text/plain": [
              "Result(content_length=17530560,content_type=application/x-grib,location=https://download-0017.copernicus-climate.eu/cache-compute-0017/cache/data1/adaptor.mars.internal-1693740652.5444672-31901-11-0c4c0486-e1de-4473-a7a4-4fb8d85eb69d.grib)"
            ]
          },
          "metadata": {},
          "execution_count": 6
        }
      ]
    },
    {
      "cell_type": "markdown",
      "source": [
        "era5_surface.py"
      ],
      "metadata": {
        "id": "Tm802SokpyAd"
      }
    },
    {
      "cell_type": "code",
      "source": [
        "import cdsapi\n",
        "\n",
        "def retrieve_era5_data(year, month, days, times, area, output_file):\n",
        "    c = cdsapi.Client()\n",
        "\n",
        "    c.retrieve(\n",
        "        'reanalysis-era5-single-levels',\n",
        "        {\n",
        "            'product_type': 'reanalysis',\n",
        "            'variable': [\n",
        "                '10m_u_component_of_wind', '10m_v_component_of_wind', '2m_dewpoint_temperature',\n",
        "                '2m_temperature', 'geopotential', 'land_sea_mask',\n",
        "                'leaf_area_index_high_vegetation', 'mean_sea_level_pressure', 'sea_ice_cover',\n",
        "                'sea_surface_temperature', 'snow_depth', 'soil_temperature_level_1',\n",
        "                'soil_temperature_level_2', 'soil_temperature_level_3', 'soil_temperature_level_4',\n",
        "                'soil_type', 'surface_latent_heat_flux', 'surface_pressure',\n",
        "                'top_net_solar_radiation_clear_sky', 'total_precipitation', 'volumetric_soil_water_layer_1',\n",
        "                'volumetric_soil_water_layer_2', 'volumetric_soil_water_layer_3', 'volumetric_soil_water_layer_4',\n",
        "                'skin_temperature',\n",
        "            ],\n",
        "            'year': year,\n",
        "            'month': month,\n",
        "            'day': days,\n",
        "            'time': times,\n",
        "            'area': area,\n",
        "            'format': 'grib',\n",
        "        },\n",
        "        output_file)\n",
        "\n",
        "# Example usage:\n",
        "year = '2023'\n",
        "month = '09'\n",
        "days = ['8', '9', '10']\n",
        "times = ['00:00', '03:00', '06:00', '09:00', '12:00', '15:00', '18:00', '21:00']\n",
        "area = [30.5, 67.9, 20.5, 79.9]  # North, West, South, East\n",
        "output_file = 'single.grib'\n",
        "\n",
        "retrieve_era5_data(year, month, days, times, area, output_file)\n"
      ],
      "metadata": {
        "colab": {
          "base_uri": "https://localhost:8080/"
        },
        "id": "XDIMqIyp0AMN",
        "outputId": "c7e0ce37-a68d-496c-af75-be746cca62b2"
      },
      "execution_count": null,
      "outputs": [
        {
          "output_type": "stream",
          "name": "stderr",
          "text": [
            "2023-09-16 15:40:20,685 INFO Welcome to the CDS\n",
            "INFO:cdsapi:Welcome to the CDS\n",
            "2023-09-16 15:40:20,688 INFO Sending request to https://cds.climate.copernicus.eu/api/v2/resources/reanalysis-era5-single-levels\n",
            "INFO:cdsapi:Sending request to https://cds.climate.copernicus.eu/api/v2/resources/reanalysis-era5-single-levels\n",
            "2023-09-16 15:40:20,934 INFO Request is queued\n",
            "INFO:cdsapi:Request is queued\n",
            "2023-09-16 15:40:22,069 INFO Request is running\n",
            "INFO:cdsapi:Request is running\n",
            "2023-09-16 15:40:42,526 INFO Request is completed\n",
            "INFO:cdsapi:Request is completed\n",
            "2023-09-16 15:40:42,530 INFO Downloading https://download-0007-clone.copernicus-climate.eu/cache-compute-0007/cache/data8/adaptor.mars.internal-1694878821.289116-26021-20-6398760d-d225-4d1f-bfb0-0e68684cd187.grib to single.grib (2.4M)\n",
            "INFO:cdsapi:Downloading https://download-0007-clone.copernicus-climate.eu/cache-compute-0007/cache/data8/adaptor.mars.internal-1694878821.289116-26021-20-6398760d-d225-4d1f-bfb0-0e68684cd187.grib to single.grib (2.4M)\n",
            "2023-09-16 15:40:44,268 INFO Download rate 1.4M/s\n",
            "INFO:cdsapi:Download rate 1.4M/s\n"
          ]
        }
      ]
    },
    {
      "cell_type": "markdown",
      "source": [
        "era5_level.py"
      ],
      "metadata": {
        "id": "QnBpA0grm99R"
      }
    },
    {
      "cell_type": "code",
      "source": [
        "import cdsapi\n",
        "\n",
        "def retrieve_era5_data(year, month, days, times, area, pressure, output_file):\n",
        "    c = cdsapi.Client()\n",
        "\n",
        "    c.retrieve(\n",
        "        'reanalysis-era5-pressure-levels',\n",
        "        {\n",
        "            'product_type': 'reanalysis',\n",
        "            'variable': [\n",
        "                'geopotential', 'relative_humidity', 'specific_humidity',\n",
        "            'temperature', 'u_component_of_wind', 'v_component_of_wind',\n",
        "            ],\n",
        "            'pressure_level': pressure,\n",
        "            'year': year,\n",
        "            'month': month,\n",
        "            'day': days,\n",
        "            'time': times,\n",
        "            'area': area,\n",
        "            'format': 'grib',\n",
        "        },\n",
        "        output_file)\n",
        "\n",
        "# Example usage:\n",
        "year = '2023'\n",
        "month = '09'\n",
        "days = ['8', '9', '10']\n",
        "times = ['00:00', '03:00', '06:00', '09:00', '12:00', '15:00', '18:00', '21:00']\n",
        "area = [30.5, 67.9, 20.5, 79.9]  # North, West, South, East\n",
        "pressure_lvl = [\n",
        "            '1', '2', '3',\n",
        "            '5', '7', '10',\n",
        "            '20', '30', '50',\n",
        "            '70', '100', '125',\n",
        "            '150', '175', '200',\n",
        "            '225', '250', '300',\n",
        "            '350', '400', '450',\n",
        "            '500', '550', '600',\n",
        "            '650', '700', '750',\n",
        "            '775', '800', '825',\n",
        "            '850', '875', '900',\n",
        "            '925', '950', '975',\n",
        "            '1000',\n",
        "        ]\n",
        "output_file = 'singler.grib'\n",
        "\n",
        "retrieve_era5_data(year, month, days, times, area, pressure_lvl, output_file)\n"
      ],
      "metadata": {
        "id": "SIS2BQNOm-zi",
        "outputId": "97b06f37-9c53-4c12-d699-a26057a8474e",
        "colab": {
          "base_uri": "https://localhost:8080/"
        }
      },
      "execution_count": null,
      "outputs": [
        {
          "output_type": "stream",
          "name": "stderr",
          "text": [
            "2023-09-16 15:43:01,606 INFO Welcome to the CDS\n",
            "INFO:cdsapi:Welcome to the CDS\n",
            "2023-09-16 15:43:01,610 INFO Sending request to https://cds.climate.copernicus.eu/api/v2/resources/reanalysis-era5-pressure-levels\n",
            "INFO:cdsapi:Sending request to https://cds.climate.copernicus.eu/api/v2/resources/reanalysis-era5-pressure-levels\n",
            "2023-09-16 15:43:01,782 INFO Request is queued\n",
            "INFO:cdsapi:Request is queued\n",
            "2023-09-16 15:43:02,916 INFO Request is running\n",
            "INFO:cdsapi:Request is running\n",
            "2023-09-16 15:45:54,373 INFO Request is completed\n",
            "INFO:cdsapi:Request is completed\n",
            "2023-09-16 15:45:54,378 INFO Downloading https://download-0009-clone.copernicus-climate.eu/cache-compute-0009/cache/data7/adaptor.mars.internal-1694878982.2543592-17455-2-b0557892-eb02-4e2c-b68d-fed63c42f88b.grib to singler.grib (21.3M)\n",
            "INFO:cdsapi:Downloading https://download-0009-clone.copernicus-climate.eu/cache-compute-0009/cache/data7/adaptor.mars.internal-1694878982.2543592-17455-2-b0557892-eb02-4e2c-b68d-fed63c42f88b.grib to singler.grib (21.3M)\n",
            "2023-09-16 15:45:59,733 INFO Download rate 4M/s\n",
            "INFO:cdsapi:Download rate 4M/s\n"
          ]
        }
      ]
    },
    {
      "cell_type": "markdown",
      "source": [
        "merged levels+surface [**source**](https://github.com/anikfal/atmospheric_science)"
      ],
      "metadata": {
        "id": "W3LJ6V-gp4Ev"
      }
    },
    {
      "cell_type": "code",
      "source": [
        "import cdsapi\n",
        "\n",
        "def retrieve_era5_data(year, month, days, times, area, output_file):\n",
        "    c = cdsapi.Client()\n",
        "\n",
        "    c.retrieve(\n",
        "        'reanalysis-era5-single-levels',\n",
        "        {\n",
        "            'product_type': 'reanalysis',\n",
        "            'variable': [\n",
        "                '10m_u_component_of_wind', '10m_v_component_of_wind', '2m_dewpoint_temperature',\n",
        "                '2m_temperature', 'geopotential', 'land_sea_mask',\n",
        "                'leaf_area_index_high_vegetation', 'mean_sea_level_pressure', 'sea_ice_cover',\n",
        "                'sea_surface_temperature', 'snow_depth', 'soil_temperature_level_1',\n",
        "                'soil_temperature_level_2', 'soil_temperature_level_3', 'soil_temperature_level_4',\n",
        "                'soil_type', 'surface_latent_heat_flux', 'surface_pressure',\n",
        "                'top_net_solar_radiation_clear_sky', 'total_precipitation', 'volumetric_soil_water_layer_1',\n",
        "                'volumetric_soil_water_layer_2', 'volumetric_soil_water_layer_3', 'volumetric_soil_water_layer_4',\n",
        "                'skin_temperature',\n",
        "            ],\n",
        "            'year': year,\n",
        "            'month': month,\n",
        "            'day': days,\n",
        "            'time': times,\n",
        "            'area': area,\n",
        "            'format': 'grib',\n",
        "        },\n",
        "        output_file)\n",
        "\n",
        "# Example usage:\n",
        "year = '2023'\n",
        "month = '09'\n",
        "days = ['8', '9', '10']\n",
        "times = ['00:00', '03:00', '06:00', '09:00', '12:00', '15:00', '18:00', '21:00']\n",
        "area = [30.5, 67.9, 20.5, 79.9]  # North, West, South, East\n",
        "output_file = 'single.grib'\n",
        "\n",
        "retrieve_era5_data(year, month, days, times, area, output_file)\n",
        "\n",
        "\n",
        "################################################################################\n",
        "def retrieve_era5_data(year, month, days, times, area, pressure, output_file):\n",
        "    c = cdsapi.Client()\n",
        "\n",
        "    c.retrieve(\n",
        "        'reanalysis-era5-pressure-levels',\n",
        "        {\n",
        "            'product_type': 'reanalysis',\n",
        "            'variable': [\n",
        "                'geopotential', 'relative_humidity', 'specific_humidity',\n",
        "            'temperature', 'u_component_of_wind', 'v_component_of_wind',\n",
        "            ],\n",
        "            'pressure_level': pressure,\n",
        "            'year': year,\n",
        "            'month': month,\n",
        "            'day': days,\n",
        "            'time': times,\n",
        "            'area': area,\n",
        "            'format': 'grib',\n",
        "        },\n",
        "        output_file)\n",
        "\n",
        "\n",
        "pressure_lvl = [\n",
        "            '1', '2', '3',\n",
        "            '5', '7', '10',\n",
        "            '20', '30', '50',\n",
        "            '70', '100', '125',\n",
        "            '150', '175', '200',\n",
        "            '225', '250', '300',\n",
        "            '350', '400', '450',\n",
        "            '500', '550', '600',\n",
        "            '650', '700', '750',\n",
        "            '775', '800', '825',\n",
        "            '850', '875', '900',\n",
        "            '925', '950', '975',\n",
        "            '1000',\n",
        "        ]\n",
        "output_file = 'singler.grib'\n",
        "\n",
        "retrieve_era5_data(year, month, days, times, area, pressure_lvl, output_file)"
      ],
      "metadata": {
        "id": "rtMQJHczp7-F"
      },
      "execution_count": null,
      "outputs": []
    },
    {
      "cell_type": "markdown",
      "source": [
        "test netCDF"
      ],
      "metadata": {
        "id": "MdrY0G-m-_bR"
      }
    },
    {
      "cell_type": "code",
      "source": [
        "# @title Default title text { vertical-output: true }\n",
        "import cdsapi\n",
        "import pygrib\n",
        "import matplotlib.pyplot as plt\n",
        "import numpy as np\n",
        "\n",
        "def retrieve_era5_data(year, month, days, times, area, output_file):\n",
        "    c = cdsapi.Client()\n",
        "\n",
        "    c.retrieve(\n",
        "        'reanalysis-era5-single-levels',\n",
        "        {\n",
        "            'product_type': 'reanalysis',\n",
        "            'variable': ['2m_temperature'],  # Only retrieve 2m temperature\n",
        "            'year': year,\n",
        "            'month': month,\n",
        "            'day': days,\n",
        "            'time': times,\n",
        "            'area': area,\n",
        "            'format': 'netCDF',\n",
        "        },\n",
        "        output_file)\n",
        "\n",
        "# Example usage:\n",
        "year = '2022'\n",
        "month = '03'\n",
        "days = ['13', '14', '15']\n",
        "times = ['00:00', '03:00', '06:00', '09:00', '12:00', '15:00', '18:00', '21:00']\n",
        "area = [45, 35, 20, 70]  # North, West, South, East\n",
        "output_file = 'single.nc'\n",
        "\n",
        "retrieve_era5_data(year, month, days, times, area, output_file)"
      ],
      "metadata": {
        "colab": {
          "base_uri": "https://localhost:8080/"
        },
        "id": "yGtx026c_BQL",
        "outputId": "b066f855-925e-4025-b1ba-210c046e3b4a"
      },
      "execution_count": null,
      "outputs": [
        {
          "output_type": "stream",
          "name": "stderr",
          "text": [
            "2023-09-03 12:19:56,225 INFO Welcome to the CDS\n",
            "INFO:cdsapi:Welcome to the CDS\n",
            "2023-09-03 12:19:56,229 INFO Sending request to https://cds.climate.copernicus.eu/api/v2/resources/reanalysis-era5-single-levels\n",
            "INFO:cdsapi:Sending request to https://cds.climate.copernicus.eu/api/v2/resources/reanalysis-era5-single-levels\n",
            "2023-09-03 12:19:56,386 INFO Request is queued\n",
            "INFO:cdsapi:Request is queued\n",
            "2023-09-03 12:19:57,500 INFO Request is running\n",
            "INFO:cdsapi:Request is running\n",
            "2023-09-03 12:19:59,113 INFO Request is completed\n",
            "INFO:cdsapi:Request is completed\n",
            "2023-09-03 12:19:59,117 INFO Downloading https://download-0007-clone.copernicus-climate.eu/cache-compute-0007/cache/data1/adaptor.mars.internal-1693743596.4856322-30184-20-183ab5d9-1656-4bbd-ba4a-51f8ebb94cee.grib to single.nc (672.2K)\n",
            "INFO:cdsapi:Downloading https://download-0007-clone.copernicus-climate.eu/cache-compute-0007/cache/data1/adaptor.mars.internal-1693743596.4856322-30184-20-183ab5d9-1656-4bbd-ba4a-51f8ebb94cee.grib to single.nc (672.2K)\n",
            "2023-09-03 12:20:00,434 INFO Download rate 511K/s\n",
            "INFO:cdsapi:Download rate 511K/s\n"
          ]
        }
      ]
    }
  ]
}