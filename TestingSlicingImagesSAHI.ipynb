{
  "nbformat": 4,
  "nbformat_minor": 0,
  "metadata": {
    "colab": {
      "provenance": [],
      "authorship_tag": "ABX9TyMUUGahLJk4p6fXInBu6+UR",
      "include_colab_link": true
    },
    "kernelspec": {
      "name": "python3",
      "display_name": "Python 3"
    },
    "language_info": {
      "name": "python"
    }
  },
  "cells": [
    {
      "cell_type": "markdown",
      "metadata": {
        "id": "view-in-github",
        "colab_type": "text"
      },
      "source": [
        "<a href=\"https://colab.research.google.com/github/1kaiser/test2023/blob/main/TestingSlicingImagesSAHI.ipynb\" target=\"_parent\"><img src=\"https://colab.research.google.com/assets/colab-badge.svg\" alt=\"Open In Colab\"/></a>"
      ]
    },
    {
      "cell_type": "code",
      "execution_count": null,
      "metadata": {
        "id": "FUxTs7XpkfIv"
      },
      "outputs": [],
      "source": [
        "\n",
        "def get_slice_bboxes(\n",
        "    image_height: int,\n",
        "    image_width: int,\n",
        "    slice_height: int = 224,\n",
        "    slice_width: int = 224,\n",
        "    auto_slice_resolution: bool = True,\n",
        "    overlap_height_ratio: float = 0.2,\n",
        "    overlap_width_ratio: float = 0.2,\n",
        ") -> List[List[int]]:\n",
        "    \"\"\"Slices `image_pil` in crops.\n",
        "    Corner values of each slice will be generated using the `slice_height`,\n",
        "    `slice_width`, `overlap_height_ratio` and `overlap_width_ratio` arguments.\n",
        "    Args:\n",
        "        image_height (int): Height of the original image.\n",
        "        image_width (int): Width of the original image.\n",
        "        slice_height (int): Height of each slice. Default 512.\n",
        "        slice_width (int): Width of each slice. Default 512.\n",
        "        overlap_height_ratio(float): Fractional overlap in height of each\n",
        "            slice (e.g. an overlap of 0.2 for a slice of size 100 yields an\n",
        "            overlap of 20 pixels). Default 0.2.\n",
        "        overlap_width_ratio(float): Fractional overlap in width of each\n",
        "            slice (e.g. an overlap of 0.2 for a slice of size 100 yields an\n",
        "            overlap of 20 pixels). Default 0.2.\n",
        "        auto_slice_resolution (bool): if not set slice parameters such as slice_height and slice_width,\n",
        "            it enables automatically calculate these params from image resolution and orientation.\n",
        "    Returns:\n",
        "        List[List[int]]: List of 4 corner coordinates for each N slices.\n",
        "            [\n",
        "                [slice_0_left, slice_0_top, slice_0_right, slice_0_bottom],\n",
        "                ...\n",
        "                [slice_N_left, slice_N_top, slice_N_right, slice_N_bottom]\n",
        "            ]\n",
        "    \"\"\"\n",
        "    slice_bboxes = []\n",
        "    y_max = y_min = 0\n",
        "\n",
        "    if slice_height and slice_width:\n",
        "        y_overlap = int(overlap_height_ratio * slice_height)\n",
        "        x_overlap = int(overlap_width_ratio * slice_width)\n",
        "    else:\n",
        "        raise ValueError(\"Compute type is not auto and slice width and height are not provided.\")\n",
        "\n",
        "    while y_max < image_height:\n",
        "        x_min = x_max = 0\n",
        "        y_max = y_min + slice_height\n",
        "        while x_max < image_width:\n",
        "            x_max = x_min + slice_width\n",
        "            if y_max > image_height or x_max > image_width:\n",
        "                xmax = min(image_width, x_max)\n",
        "                ymax = min(image_height, y_max)\n",
        "                xmin = max(0, xmax - slice_width)\n",
        "                ymin = max(0, ymax - slice_height)\n",
        "                slice_bboxes.append([xmin, ymin, xmax, ymax])\n",
        "            else:\n",
        "                slice_bboxes.append([x_min, y_min, x_max, y_max])\n",
        "            x_min = x_max - x_overlap\n",
        "        y_min = y_max - y_overlap\n",
        "    return slice_bboxes\n",
        "\n",
        "\n"
      ]
    },
    {
      "cell_type": "code",
      "source": [],
      "metadata": {
        "id": "TVgJexoblT6U"
      },
      "execution_count": null,
      "outputs": []
    },
    {
      "cell_type": "code",
      "source": [
        "\n"
      ],
      "metadata": {
        "id": "bwiE1_ftlWOA"
      },
      "execution_count": null,
      "outputs": []
    }
  ]
}