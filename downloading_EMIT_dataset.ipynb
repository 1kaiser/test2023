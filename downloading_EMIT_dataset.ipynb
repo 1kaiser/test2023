{
  "nbformat": 4,
  "nbformat_minor": 0,
  "metadata": {
    "colab": {
      "provenance": [],
      "include_colab_link": true
    },
    "kernelspec": {
      "name": "python3",
      "display_name": "Python 3"
    },
    "language_info": {
      "name": "python"
    }
  },
  "cells": [
    {
      "cell_type": "markdown",
      "metadata": {
        "id": "view-in-github",
        "colab_type": "text"
      },
      "source": [
        "<a href=\"https://colab.research.google.com/github/1kaiser/test2023/blob/main/downloading_EMIT_dataset.ipynb\" target=\"_parent\"><img src=\"https://colab.research.google.com/assets/colab-badge.svg\" alt=\"Open In Colab\"/></a>"
      ]
    },
    {
      "cell_type": "code",
      "source": [
        "!pip install wget\n"
      ],
      "metadata": {
        "id": "qaAJ3NKbpdpN",
        "outputId": "0f0edf2b-00eb-43e3-bdb8-f0cd3ab675e2",
        "colab": {
          "base_uri": "https://localhost:8080/"
        }
      },
      "execution_count": 1,
      "outputs": [
        {
          "output_type": "stream",
          "name": "stdout",
          "text": [
            "Collecting wget\n",
            "  Downloading wget-3.2.zip (10 kB)\n",
            "  Preparing metadata (setup.py) ... \u001b[?25l\u001b[?25hdone\n",
            "Building wheels for collected packages: wget\n",
            "  Building wheel for wget (setup.py) ... \u001b[?25l\u001b[?25hdone\n",
            "  Created wheel for wget: filename=wget-3.2-py3-none-any.whl size=9655 sha256=1b65a625936f9704233070f68ce993049302d0574929f929909dc03d6b367e61\n",
            "  Stored in directory: /root/.cache/pip/wheels/8b/f1/7f/5c94f0a7a505ca1c81cd1d9208ae2064675d97582078e6c769\n",
            "Successfully built wget\n",
            "Installing collected packages: wget\n",
            "Successfully installed wget-3.2\n"
          ]
        }
      ]
    },
    {
      "cell_type": "markdown",
      "source": [
        "### creating credentials and saving the credentials as .netrc file"
      ],
      "metadata": {
        "id": "cmBafrI5BYfW"
      }
    },
    {
      "cell_type": "code",
      "source": [
        "!echo $HOME"
      ],
      "metadata": {
        "colab": {
          "base_uri": "https://localhost:8080/"
        },
        "id": "wTfjrQlO9CuQ",
        "outputId": "7c9e881e-2e56-4431-cd1e-9b1f75cf86fa"
      },
      "execution_count": 2,
      "outputs": [
        {
          "output_type": "stream",
          "name": "stdout",
          "text": [
            "/root\n"
          ]
        }
      ]
    },
    {
      "cell_type": "code",
      "source": [
        "%%writefile ~/.netrc\n",
        "machine urs.earthdata.nasa.gov\n",
        "    login kroy0001\n",
        "    password /#j%kWrPA,8.HRe"
      ],
      "metadata": {
        "colab": {
          "base_uri": "https://localhost:8080/"
        },
        "id": "HYzQRkiv9Te4",
        "outputId": "b544daf2-8f21-4d48-cb9b-ec63203b0317"
      },
      "execution_count": 3,
      "outputs": [
        {
          "output_type": "stream",
          "name": "stdout",
          "text": [
            "Writing /root/.netrc\n"
          ]
        }
      ]
    },
    {
      "cell_type": "code",
      "source": [
        "!chmod 600 ~/.netrc\n"
      ],
      "metadata": {
        "id": "tf_eDDN8-UiK"
      },
      "execution_count": 4,
      "outputs": []
    },
    {
      "cell_type": "markdown",
      "source": [
        "### **start downloading urls**"
      ],
      "metadata": {
        "id": "8PPPgQVdqfG9"
      }
    },
    {
      "cell_type": "code",
      "source": [
        "%%writefile url.txt\n",
        "https://data.lpdaac.earthdatacloud.nasa.gov/lp-prod-protected/EMITL2ARFL.001/EMIT_L2A_RFL_001_20230417T100455_2310707_043/EMIT_L2A_RFL_001_20230417T100455_2310707_043.nc\n",
        "https://data.lpdaac.earthdatacloud.nasa.gov/lp-prod-protected/EMITL2ARFL.001/EMIT_L2A_RFL_001_20230417T100443_2310707_042/EMIT_L2A_RFL_001_20230417T100443_2310707_042.nc\n",
        "https://data.lpdaac.earthdatacloud.nasa.gov/lp-prod-protected/EMITL2ARFL.001/EMIT_L2A_RFL_001_20230417T100431_2310707_041/EMIT_L2A_RFL_001_20230417T100431_2310707_041.nc\n",
        "https://data.lpdaac.earthdatacloud.nasa.gov/lp-prod-protected/EMITL2ARFL.001/EMIT_L2A_RFL_001_20230417T100419_2310707_040/EMIT_L2A_RFL_001_20230417T100419_2310707_040.nc\n",
        "https://data.lpdaac.earthdatacloud.nasa.gov/lp-prod-protected/EMITL2ARFL.001/EMIT_L2A_RFL_001_20230417T100407_2310707_039/EMIT_L2A_RFL_001_20230417T100407_2310707_039.nc\n",
        "https://data.lpdaac.earthdatacloud.nasa.gov/lp-prod-protected/EMITL2ARFL.001/EMIT_L2A_RFL_001_20230417T100356_2310707_038/EMIT_L2A_RFL_001_20230417T100356_2310707_038.nc\n",
        "https://data.lpdaac.earthdatacloud.nasa.gov/lp-prod-protected/EMITL2ARFL.001/EMIT_L2A_RFL_001_20230417T100344_2310707_037/EMIT_L2A_RFL_001_20230417T100344_2310707_037.nc\n",
        "https://data.lpdaac.earthdatacloud.nasa.gov/lp-prod-protected/EMITL2ARFL.001/EMIT_L2A_RFL_001_20230417T100332_2310707_036/EMIT_L2A_RFL_001_20230417T100332_2310707_036.nc\n",
        "https://data.lpdaac.earthdatacloud.nasa.gov/lp-prod-protected/EMITL2ARFL.001/EMIT_L2A_RFL_001_20230417T100320_2310707_035/EMIT_L2A_RFL_001_20230417T100320_2310707_035.nc\n",
        "https://data.lpdaac.earthdatacloud.nasa.gov/lp-prod-protected/EMITL2ARFL.001/EMIT_L2A_RFL_001_20230417T100308_2310707_034/EMIT_L2A_RFL_001_20230417T100308_2310707_034.nc\n",
        "https://data.lpdaac.earthdatacloud.nasa.gov/lp-prod-protected/EMITL2ARFL.001/EMIT_L2A_RFL_001_20230417T100256_2310707_033/EMIT_L2A_RFL_001_20230417T100256_2310707_033.nc\n",
        "https://data.lpdaac.earthdatacloud.nasa.gov/lp-prod-protected/EMITL2ARFL.001/EMIT_L2A_RFL_001_20230417T100245_2310707_032/EMIT_L2A_RFL_001_20230417T100245_2310707_032.nc"
      ],
      "metadata": {
        "id": "2z6KfZgdORTU",
        "outputId": "0d2f65d9-e191-40da-8bbc-23191b9d5f83",
        "colab": {
          "base_uri": "https://localhost:8080/"
        }
      },
      "execution_count": 5,
      "outputs": [
        {
          "output_type": "stream",
          "name": "stdout",
          "text": [
            "Writing url.txt\n"
          ]
        }
      ]
    },
    {
      "cell_type": "code",
      "execution_count": null,
      "metadata": {
        "colab": {
          "base_uri": "https://localhost:8080/"
        },
        "id": "oLVx3jWCcNV9",
        "outputId": "660d8d8d-438d-4608-d6d8-6494364f5c2c"
      },
      "outputs": [
        {
          "output_type": "stream",
          "name": "stdout",
          "text": [
            "--2023-09-01 19:30:00--  https://data.lpdaac.earthdatacloud.nasa.gov/lp-prod-protected/EMITL2ARFL.001/EMIT_L2A_RFL_001_20230417T100455_2310707_043/EMIT_L2A_RFL_001_20230417T100455_2310707_043.nc\n",
            "Resolving data.lpdaac.earthdatacloud.nasa.gov (data.lpdaac.earthdatacloud.nasa.gov)... --2023-09-01 19:30:00--  https://data.lpdaac.earthdatacloud.nasa.gov/lp-prod-protected/EMITL2ARFL.001/EMIT_L2A_RFL_001_20230417T100443_2310707_042/EMIT_L2A_RFL_001_20230417T100443_2310707_042.nc\n",
            "Resolving data.lpdaac.earthdatacloud.nasa.gov (data.lpdaac.earthdatacloud.nasa.gov)... --2023-09-01 19:30:00--  https://data.lpdaac.earthdatacloud.nasa.gov/lp-prod-protected/EMITL2ARFL.001/EMIT_L2A_RFL_001_20230417T100407_2310707_039/EMIT_L2A_RFL_001_20230417T100407_2310707_039.nc\n",
            "Resolving data.lpdaac.earthdatacloud.nasa.gov (data.lpdaac.earthdatacloud.nasa.gov)... 18.66.255.37, 18.66.255.64, 18.66.255.81, ...\n",
            "Connecting to data.lpdaac.earthdatacloud.nasa.gov (data.lpdaac.earthdatacloud.nasa.gov)|18.66.255.37|:443... --2023-09-01 19:30:00--  https://data.lpdaac.earthdatacloud.nasa.gov/lp-prod-protected/EMITL2ARFL.001/EMIT_L2A_RFL_001_20230417T100431_2310707_041/EMIT_L2A_RFL_001_20230417T100431_2310707_041.nc\n",
            "Resolving data.lpdaac.earthdatacloud.nasa.gov (data.lpdaac.earthdatacloud.nasa.gov)... 18.66.255.81, 18.66.255.37, 18.66.255.115, ...\n",
            "Connecting to data.lpdaac.earthdatacloud.nasa.gov (data.lpdaac.earthdatacloud.nasa.gov)|18.66.255.81|:443... --2023-09-01 19:30:00--  https://data.lpdaac.earthdatacloud.nasa.gov/lp-prod-protected/EMITL2ARFL.001/EMIT_L2A_RFL_001_20230417T100332_2310707_036/EMIT_L2A_RFL_001_20230417T100332_2310707_036.nc\n",
            "Resolving data.lpdaac.earthdatacloud.nasa.gov (data.lpdaac.earthdatacloud.nasa.gov)... --2023-09-01 19:30:00--  https://data.lpdaac.earthdatacloud.nasa.gov/lp-prod-protected/EMITL2ARFL.001/EMIT_L2A_RFL_001_20230417T100320_2310707_035/EMIT_L2A_RFL_001_20230417T100320_2310707_035.nc\n",
            "Resolving data.lpdaac.earthdatacloud.nasa.gov (data.lpdaac.earthdatacloud.nasa.gov)... 18.66.255.64, 18.66.255.81, 18.66.255.115, ...\n",
            "Connecting to data.lpdaac.earthdatacloud.nasa.gov (data.lpdaac.earthdatacloud.nasa.gov)|18.66.255.64|:443... --2023-09-01 19:30:00--  https://data.lpdaac.earthdatacloud.nasa.gov/lp-prod-protected/EMITL2ARFL.001/EMIT_L2A_RFL_001_20230417T100356_2310707_038/EMIT_L2A_RFL_001_20230417T100356_2310707_038.nc\n",
            "Resolving data.lpdaac.earthdatacloud.nasa.gov (data.lpdaac.earthdatacloud.nasa.gov)... 18.66.255.115, 18.66.255.37, 18.66.255.64, ...\n",
            "Connecting to data.lpdaac.earthdatacloud.nasa.gov (data.lpdaac.earthdatacloud.nasa.gov)|18.66.255.115|:443... --2023-09-01 19:30:00--  https://data.lpdaac.earthdatacloud.nasa.gov/lp-prod-protected/EMITL2ARFL.001/EMIT_L2A_RFL_001_20230417T100419_2310707_040/EMIT_L2A_RFL_001_20230417T100419_2310707_040.nc\n",
            "Resolving data.lpdaac.earthdatacloud.nasa.gov (data.lpdaac.earthdatacloud.nasa.gov)... --2023-09-01 19:30:00--  https://data.lpdaac.earthdatacloud.nasa.gov/lp-prod-protected/EMITL2ARFL.001/EMIT_L2A_RFL_001_20230417T100344_2310707_037/EMIT_L2A_RFL_001_20230417T100344_2310707_037.nc\n",
            "Resolving data.lpdaac.earthdatacloud.nasa.gov (data.lpdaac.earthdatacloud.nasa.gov)... 18.66.255.115, 18.66.255.37, 18.66.255.64, ...\n",
            "Connecting to data.lpdaac.earthdatacloud.nasa.gov (data.lpdaac.earthdatacloud.nasa.gov)|18.66.255.115|:443... connected.\n",
            "connected.\n",
            "HTTP request sent, awaiting response... connected.\n",
            "HTTP request sent, awaiting response... 18.66.255.37, 18.66.255.115, 18.66.255.81, ...\n",
            "Connecting to data.lpdaac.earthdatacloud.nasa.gov (data.lpdaac.earthdatacloud.nasa.gov)|18.66.255.37|:443... connected.\n",
            "connected.\n",
            "HTTP request sent, awaiting response... connected.\n",
            "HTTP request sent, awaiting response... 18.66.255.115, 18.66.255.37, 18.66.255.64, ...\n",
            "Connecting to data.lpdaac.earthdatacloud.nasa.gov (data.lpdaac.earthdatacloud.nasa.gov)|18.66.255.115|:443... connected.\n",
            "HTTP request sent, awaiting response... 18.66.255.115, 18.66.255.37, 18.66.255.81, ...\n",
            "Connecting to data.lpdaac.earthdatacloud.nasa.gov (data.lpdaac.earthdatacloud.nasa.gov)|18.66.255.115|:443... connected.\n",
            "HTTP request sent, awaiting response... 18.66.255.115, 18.66.255.37, 18.66.255.81, ...\n",
            "Connecting to data.lpdaac.earthdatacloud.nasa.gov (data.lpdaac.earthdatacloud.nasa.gov)|18.66.255.115|:443... connected.\n",
            "HTTP request sent, awaiting response... HTTP request sent, awaiting response... HTTP request sent, awaiting response... 302 Moved Temporarily\n",
            "Location: https://urs.earthdata.nasa.gov/oauth/authorize?client_id=FtSFfbOeuxDcdf4px-elGw&response_type=code&redirect_uri=https://data.lpdaac.earthdatacloud.nasa.gov/login&state=%2Flp-prod-protected%2FEMITL2ARFL.001%2FEMIT_L2A_RFL_001_20230417T100407_2310707_039%2FEMIT_L2A_RFL_001_20230417T100407_2310707_039.nc&app_type=401 [following]\n",
            "--2023-09-01 19:30:01--  https://urs.earthdata.nasa.gov/oauth/authorize?client_id=FtSFfbOeuxDcdf4px-elGw&response_type=code&redirect_uri=https://data.lpdaac.earthdatacloud.nasa.gov/login&state=%2Flp-prod-protected%2FEMITL2ARFL.001%2FEMIT_L2A_RFL_001_20230417T100407_2310707_039%2FEMIT_L2A_RFL_001_20230417T100407_2310707_039.nc&app_type=401\n",
            "Resolving urs.earthdata.nasa.gov (urs.earthdata.nasa.gov)... 302 Moved Temporarily\n",
            "Location: https://urs.earthdata.nasa.gov/oauth/authorize?client_id=FtSFfbOeuxDcdf4px-elGw&response_type=code&redirect_uri=https://data.lpdaac.earthdatacloud.nasa.gov/login&state=%2Flp-prod-protected%2FEMITL2ARFL.001%2FEMIT_L2A_RFL_001_20230417T100443_2310707_042%2FEMIT_L2A_RFL_001_20230417T100443_2310707_042.nc&app_type=401 [following]\n",
            "--2023-09-01 19:30:01--  https://urs.earthdata.nasa.gov/oauth/authorize?client_id=FtSFfbOeuxDcdf4px-elGw&response_type=code&redirect_uri=https://data.lpdaac.earthdatacloud.nasa.gov/login&state=%2Flp-prod-protected%2FEMITL2ARFL.001%2FEMIT_L2A_RFL_001_20230417T100443_2310707_042%2FEMIT_L2A_RFL_001_20230417T100443_2310707_042.nc&app_type=401\n",
            "Resolving urs.earthdata.nasa.gov (urs.earthdata.nasa.gov)... 198.118.243.33, 2001:4d0:241a:4081::89\n",
            "Connecting to urs.earthdata.nasa.gov (urs.earthdata.nasa.gov)|198.118.243.33|:443... 198.118.243.33, 2001:4d0:241a:4081::89\n",
            "Connecting to urs.earthdata.nasa.gov (urs.earthdata.nasa.gov)|198.118.243.33|:443... 302 Moved Temporarily\n",
            "Location: https://urs.earthdata.nasa.gov/oauth/authorize?client_id=FtSFfbOeuxDcdf4px-elGw&response_type=code&redirect_uri=https://data.lpdaac.earthdatacloud.nasa.gov/login&state=%2Flp-prod-protected%2FEMITL2ARFL.001%2FEMIT_L2A_RFL_001_20230417T100431_2310707_041%2FEMIT_L2A_RFL_001_20230417T100431_2310707_041.nc&app_type=401 [following]\n",
            "--2023-09-01 19:30:01--  https://urs.earthdata.nasa.gov/oauth/authorize?client_id=FtSFfbOeuxDcdf4px-elGw&response_type=code&redirect_uri=https://data.lpdaac.earthdatacloud.nasa.gov/login&state=%2Flp-prod-protected%2FEMITL2ARFL.001%2FEMIT_L2A_RFL_001_20230417T100431_2310707_041%2FEMIT_L2A_RFL_001_20230417T100431_2310707_041.nc&app_type=401\n",
            "Resolving urs.earthdata.nasa.gov (urs.earthdata.nasa.gov)... 198.118.243.33, 2001:4d0:241a:4081::89\n",
            "Connecting to urs.earthdata.nasa.gov (urs.earthdata.nasa.gov)|198.118.243.33|:443... 302 Moved Temporarily\n",
            "Location: https://urs.earthdata.nasa.gov/oauth/authorize?client_id=FtSFfbOeuxDcdf4px-elGw&response_type=code&redirect_uri=https://data.lpdaac.earthdatacloud.nasa.gov/login&state=%2Flp-prod-protected%2FEMITL2ARFL.001%2FEMIT_L2A_RFL_001_20230417T100320_2310707_035%2FEMIT_L2A_RFL_001_20230417T100320_2310707_035.nc&app_type=401 [following]\n",
            "--2023-09-01 19:30:01--  https://urs.earthdata.nasa.gov/oauth/authorize?client_id=FtSFfbOeuxDcdf4px-elGw&response_type=code&redirect_uri=https://data.lpdaac.earthdatacloud.nasa.gov/login&state=%2Flp-prod-protected%2FEMITL2ARFL.001%2FEMIT_L2A_RFL_001_20230417T100320_2310707_035%2FEMIT_L2A_RFL_001_20230417T100320_2310707_035.nc&app_type=401\n",
            "Resolving urs.earthdata.nasa.gov (urs.earthdata.nasa.gov)... 198.118.243.33, 2001:4d0:241a:4081::89\n",
            "Connecting to urs.earthdata.nasa.gov (urs.earthdata.nasa.gov)|198.118.243.33|:443... connected.\n",
            "302 Moved Temporarily\n",
            "Location: https://urs.earthdata.nasa.gov/oauth/authorize?client_id=FtSFfbOeuxDcdf4px-elGw&response_type=code&redirect_uri=https://data.lpdaac.earthdatacloud.nasa.gov/login&state=%2Flp-prod-protected%2FEMITL2ARFL.001%2FEMIT_L2A_RFL_001_20230417T100356_2310707_038%2FEMIT_L2A_RFL_001_20230417T100356_2310707_038.nc&app_type=401 [following]\n",
            "--2023-09-01 19:30:01--  https://urs.earthdata.nasa.gov/oauth/authorize?client_id=FtSFfbOeuxDcdf4px-elGw&response_type=code&redirect_uri=https://data.lpdaac.earthdatacloud.nasa.gov/login&state=%2Flp-prod-protected%2FEMITL2ARFL.001%2FEMIT_L2A_RFL_001_20230417T100356_2310707_038%2FEMIT_L2A_RFL_001_20230417T100356_2310707_038.nc&app_type=401\n",
            "Resolving urs.earthdata.nasa.gov (urs.earthdata.nasa.gov)... 198.118.243.33, 2001:4d0:241a:4081::89\n",
            "Connecting to urs.earthdata.nasa.gov (urs.earthdata.nasa.gov)|198.118.243.33|:443... connected.\n",
            "302 Moved Temporarily\n",
            "Location: https://urs.earthdata.nasa.gov/oauth/authorize?client_id=FtSFfbOeuxDcdf4px-elGw&response_type=code&redirect_uri=https://data.lpdaac.earthdatacloud.nasa.gov/login&state=%2Flp-prod-protected%2FEMITL2ARFL.001%2FEMIT_L2A_RFL_001_20230417T100344_2310707_037%2FEMIT_L2A_RFL_001_20230417T100344_2310707_037.nc&app_type=401 [following]\n",
            "--2023-09-01 19:30:01--  https://urs.earthdata.nasa.gov/oauth/authorize?client_id=FtSFfbOeuxDcdf4px-elGw&response_type=code&redirect_uri=https://data.lpdaac.earthdatacloud.nasa.gov/login&state=%2Flp-prod-protected%2FEMITL2ARFL.001%2FEMIT_L2A_RFL_001_20230417T100344_2310707_037%2FEMIT_L2A_RFL_001_20230417T100344_2310707_037.nc&app_type=401\n",
            "Resolving urs.earthdata.nasa.gov (urs.earthdata.nasa.gov)... 198.118.243.33, 2001:4d0:241a:4081::89\n",
            "Connecting to urs.earthdata.nasa.gov (urs.earthdata.nasa.gov)|198.118.243.33|:443... 302 Moved Temporarily\n",
            "Location: https://urs.earthdata.nasa.gov/oauth/authorize?client_id=FtSFfbOeuxDcdf4px-elGw&response_type=code&redirect_uri=https://data.lpdaac.earthdatacloud.nasa.gov/login&state=%2Flp-prod-protected%2FEMITL2ARFL.001%2FEMIT_L2A_RFL_001_20230417T100455_2310707_043%2FEMIT_L2A_RFL_001_20230417T100455_2310707_043.nc&app_type=401 [following]\n",
            "--2023-09-01 19:30:01--  https://urs.earthdata.nasa.gov/oauth/authorize?client_id=FtSFfbOeuxDcdf4px-elGw&response_type=code&redirect_uri=https://data.lpdaac.earthdatacloud.nasa.gov/login&state=%2Flp-prod-protected%2FEMITL2ARFL.001%2FEMIT_L2A_RFL_001_20230417T100455_2310707_043%2FEMIT_L2A_RFL_001_20230417T100455_2310707_043.nc&app_type=401\n",
            "Resolving urs.earthdata.nasa.gov (urs.earthdata.nasa.gov)... 198.118.243.33, 2001:4d0:241a:4081::89\n",
            "Connecting to urs.earthdata.nasa.gov (urs.earthdata.nasa.gov)|198.118.243.33|:443... connected.\n",
            "connected.\n",
            "HTTP request sent, awaiting response... 401 Unauthorized\n",
            "Authentication selected: Basic realm=\"Please enter your Earthdata Login credentials. If you do not have a Earthdata Login, create one at https://urs.earthdata.nasa.gov//users/new\"\n",
            "Reusing existing connection to urs.earthdata.nasa.gov:443.\n",
            "HTTP request sent, awaiting response... connected.\n",
            "HTTP request sent, awaiting response... connected.\n",
            "HTTP request sent, awaiting response... 401 Unauthorized\n",
            "Authentication selected: Basic realm=\"Please enter your Earthdata Login credentials. If you do not have a Earthdata Login, create one at https://urs.earthdata.nasa.gov//users/new\"\n",
            "Reusing existing connection to urs.earthdata.nasa.gov:443.\n",
            "HTTP request sent, awaiting response... 302 Moved Temporarily\n",
            "Location: https://urs.earthdata.nasa.gov/oauth/authorize?client_id=FtSFfbOeuxDcdf4px-elGw&response_type=code&redirect_uri=https://data.lpdaac.earthdatacloud.nasa.gov/login&state=%2Flp-prod-protected%2FEMITL2ARFL.001%2FEMIT_L2A_RFL_001_20230417T100332_2310707_036%2FEMIT_L2A_RFL_001_20230417T100332_2310707_036.nc&app_type=401 [following]\n",
            "--2023-09-01 19:30:01--  https://urs.earthdata.nasa.gov/oauth/authorize?client_id=FtSFfbOeuxDcdf4px-elGw&response_type=code&redirect_uri=https://data.lpdaac.earthdatacloud.nasa.gov/login&state=%2Flp-prod-protected%2FEMITL2ARFL.001%2FEMIT_L2A_RFL_001_20230417T100332_2310707_036%2FEMIT_L2A_RFL_001_20230417T100332_2310707_036.nc&app_type=401\n",
            "Resolving urs.earthdata.nasa.gov (urs.earthdata.nasa.gov)... 198.118.243.33, 2001:4d0:241a:4081::89\n",
            "Connecting to urs.earthdata.nasa.gov (urs.earthdata.nasa.gov)|198.118.243.33|:443... connected.\n",
            "HTTP request sent, awaiting response... HTTP request sent, awaiting response... 401 Unauthorized\n",
            "Authentication selected: Basic realm=\"Please enter your Earthdata Login credentials. If you do not have a Earthdata Login, create one at https://urs.earthdata.nasa.gov//users/new\"\n",
            "Reusing existing connection to urs.earthdata.nasa.gov:443.\n",
            "HTTP request sent, awaiting response... HTTP request sent, awaiting response... 401 Unauthorized\n",
            "Authentication selected: Basic realm=\"Please enter your Earthdata Login credentials. If you do not have a Earthdata Login, create one at https://urs.earthdata.nasa.gov//users/new\"\n",
            "Reusing existing connection to urs.earthdata.nasa.gov:443.\n",
            "HTTP request sent, awaiting response... connected.\n",
            "HTTP request sent, awaiting response... 401 Unauthorized\n",
            "Authentication selected: Basic realm=\"Please enter your Earthdata Login credentials. If you do not have a Earthdata Login, create one at https://urs.earthdata.nasa.gov//users/new\"\n",
            "Reusing existing connection to urs.earthdata.nasa.gov:443.\n",
            "HTTP request sent, awaiting response... 302 Moved Temporarily\n",
            "Location: https://urs.earthdata.nasa.gov/oauth/authorize?client_id=FtSFfbOeuxDcdf4px-elGw&response_type=code&redirect_uri=https://data.lpdaac.earthdatacloud.nasa.gov/login&state=%2Flp-prod-protected%2FEMITL2ARFL.001%2FEMIT_L2A_RFL_001_20230417T100419_2310707_040%2FEMIT_L2A_RFL_001_20230417T100419_2310707_040.nc&app_type=401 [following]\n",
            "--2023-09-01 19:30:01--  https://urs.earthdata.nasa.gov/oauth/authorize?client_id=FtSFfbOeuxDcdf4px-elGw&response_type=code&redirect_uri=https://data.lpdaac.earthdatacloud.nasa.gov/login&state=%2Flp-prod-protected%2FEMITL2ARFL.001%2FEMIT_L2A_RFL_001_20230417T100419_2310707_040%2FEMIT_L2A_RFL_001_20230417T100419_2310707_040.nc&app_type=401\n",
            "Resolving urs.earthdata.nasa.gov (urs.earthdata.nasa.gov)... 198.118.243.33, 2001:4d0:241a:4081::89\n",
            "Connecting to urs.earthdata.nasa.gov (urs.earthdata.nasa.gov)|198.118.243.33|:443... connected.\n",
            "HTTP request sent, awaiting response... HTTP request sent, awaiting response... 401 Unauthorized\n",
            "Authentication selected: Basic realm=\"Please enter your Earthdata Login credentials. If you do not have a Earthdata Login, create one at https://urs.earthdata.nasa.gov//users/new\"\n",
            "Reusing existing connection to urs.earthdata.nasa.gov:443.\n",
            "HTTP request sent, awaiting response... 401 Unauthorized\n",
            "Authentication selected: Basic realm=\"Please enter your Earthdata Login credentials. If you do not have a Earthdata Login, create one at https://urs.earthdata.nasa.gov//users/new\"\n",
            "Reusing existing connection to urs.earthdata.nasa.gov:443.\n",
            "HTTP request sent, awaiting response... 401 Unauthorized\n",
            "Authentication selected: Basic realm=\"Please enter your Earthdata Login credentials. If you do not have a Earthdata Login, create one at https://urs.earthdata.nasa.gov//users/new\"\n",
            "Reusing existing connection to urs.earthdata.nasa.gov:443.\n",
            "HTTP request sent, awaiting response... 401 Unauthorized\n",
            "Authentication selected: Basic realm=\"Please enter your Earthdata Login credentials. If you do not have a Earthdata Login, create one at https://urs.earthdata.nasa.gov//users/new\"\n",
            "Reusing existing connection to urs.earthdata.nasa.gov:443.\n",
            "HTTP request sent, awaiting response... 302 Found\n",
            "Location: https://data.lpdaac.earthdatacloud.nasa.gov/login?code=1d903ff1ef4abb4fe96d8743890983b7d285fd237f58c33b3f2b48f81b166114&state=%2Flp-prod-protected%2FEMITL2ARFL.001%2FEMIT_L2A_RFL_001_20230417T100431_2310707_041%2FEMIT_L2A_RFL_001_20230417T100431_2310707_041.nc [following]\n",
            "--2023-09-01 19:30:06--  https://data.lpdaac.earthdatacloud.nasa.gov/login?code=1d903ff1ef4abb4fe96d8743890983b7d285fd237f58c33b3f2b48f81b166114&state=%2Flp-prod-protected%2FEMITL2ARFL.001%2FEMIT_L2A_RFL_001_20230417T100431_2310707_041%2FEMIT_L2A_RFL_001_20230417T100431_2310707_041.nc\n",
            "Connecting to data.lpdaac.earthdatacloud.nasa.gov (data.lpdaac.earthdatacloud.nasa.gov)|18.66.255.81|:443... connected.\n",
            "HTTP request sent, awaiting response... 302 Found\n",
            "Location: https://data.lpdaac.earthdatacloud.nasa.gov/login?code=e4a3f7d19b306923e593508544dd18521351fe660d32575605db223cacefea44&state=%2Flp-prod-protected%2FEMITL2ARFL.001%2FEMIT_L2A_RFL_001_20230417T100332_2310707_036%2FEMIT_L2A_RFL_001_20230417T100332_2310707_036.nc [following]\n",
            "--2023-09-01 19:30:07--  https://data.lpdaac.earthdatacloud.nasa.gov/login?code=e4a3f7d19b306923e593508544dd18521351fe660d32575605db223cacefea44&state=%2Flp-prod-protected%2FEMITL2ARFL.001%2FEMIT_L2A_RFL_001_20230417T100332_2310707_036%2FEMIT_L2A_RFL_001_20230417T100332_2310707_036.nc\n",
            "Connecting to data.lpdaac.earthdatacloud.nasa.gov (data.lpdaac.earthdatacloud.nasa.gov)|18.66.255.37|:443... connected.\n",
            "HTTP request sent, awaiting response... 302 Found\n",
            "Location: https://data.lpdaac.earthdatacloud.nasa.gov/login?code=08db9824ccff75505687f9a83656ea31efe7097c23b0312bf159ad70f093e575&state=%2Flp-prod-protected%2FEMITL2ARFL.001%2FEMIT_L2A_RFL_001_20230417T100356_2310707_038%2FEMIT_L2A_RFL_001_20230417T100356_2310707_038.nc [following]\n",
            "--2023-09-01 19:30:07--  https://data.lpdaac.earthdatacloud.nasa.gov/login?code=08db9824ccff75505687f9a83656ea31efe7097c23b0312bf159ad70f093e575&state=%2Flp-prod-protected%2FEMITL2ARFL.001%2FEMIT_L2A_RFL_001_20230417T100356_2310707_038%2FEMIT_L2A_RFL_001_20230417T100356_2310707_038.nc\n",
            "Connecting to data.lpdaac.earthdatacloud.nasa.gov (data.lpdaac.earthdatacloud.nasa.gov)|18.66.255.115|:443... connected.\n",
            "HTTP request sent, awaiting response... 302 Found\n",
            "Location: https://data.lpdaac.earthdatacloud.nasa.gov/login?code=2063382f86b15d90e37c6e10e58f790b3e1a3a811f70a04cc28c5704ea579e7c&state=%2Flp-prod-protected%2FEMITL2ARFL.001%2FEMIT_L2A_RFL_001_20230417T100344_2310707_037%2FEMIT_L2A_RFL_001_20230417T100344_2310707_037.nc [following]\n",
            "--2023-09-01 19:30:07--  https://data.lpdaac.earthdatacloud.nasa.gov/login?code=2063382f86b15d90e37c6e10e58f790b3e1a3a811f70a04cc28c5704ea579e7c&state=%2Flp-prod-protected%2FEMITL2ARFL.001%2FEMIT_L2A_RFL_001_20230417T100344_2310707_037%2FEMIT_L2A_RFL_001_20230417T100344_2310707_037.nc\n",
            "Connecting to data.lpdaac.earthdatacloud.nasa.gov (data.lpdaac.earthdatacloud.nasa.gov)|18.66.255.115|:443... connected.\n",
            "HTTP request sent, awaiting response... 301 Moved Permanently\n",
            "Location: /lp-prod-protected/EMITL2ARFL.001/EMIT_L2A_RFL_001_20230417T100431_2310707_041/EMIT_L2A_RFL_001_20230417T100431_2310707_041.nc [following]\n",
            "--2023-09-01 19:30:07--  https://data.lpdaac.earthdatacloud.nasa.gov/lp-prod-protected/EMITL2ARFL.001/EMIT_L2A_RFL_001_20230417T100431_2310707_041/EMIT_L2A_RFL_001_20230417T100431_2310707_041.nc\n",
            "Reusing existing connection to data.lpdaac.earthdatacloud.nasa.gov:443.\n",
            "HTTP request sent, awaiting response... 302 Found\n",
            "Location: https://data.lpdaac.earthdatacloud.nasa.gov/login?code=68f1d7008aa8d44d6ab459127442f0779c41b020bb7486e8cb0c5e87b2b3f7ed&state=%2Flp-prod-protected%2FEMITL2ARFL.001%2FEMIT_L2A_RFL_001_20230417T100455_2310707_043%2FEMIT_L2A_RFL_001_20230417T100455_2310707_043.nc [following]\n",
            "--2023-09-01 19:30:08--  https://data.lpdaac.earthdatacloud.nasa.gov/login?code=68f1d7008aa8d44d6ab459127442f0779c41b020bb7486e8cb0c5e87b2b3f7ed&state=%2Flp-prod-protected%2FEMITL2ARFL.001%2FEMIT_L2A_RFL_001_20230417T100455_2310707_043%2FEMIT_L2A_RFL_001_20230417T100455_2310707_043.nc\n",
            "Connecting to data.lpdaac.earthdatacloud.nasa.gov (data.lpdaac.earthdatacloud.nasa.gov)|18.66.255.115|:443... connected.\n",
            "HTTP request sent, awaiting response... 302 Found\n",
            "Location: https://data.lpdaac.earthdatacloud.nasa.gov/login?code=ed78d216e3f82bd4abc07846219e4054641ec0cc4f91a652525e87398a5a1b0a&state=%2Flp-prod-protected%2FEMITL2ARFL.001%2FEMIT_L2A_RFL_001_20230417T100443_2310707_042%2FEMIT_L2A_RFL_001_20230417T100443_2310707_042.nc [following]\n",
            "--2023-09-01 19:30:08--  https://data.lpdaac.earthdatacloud.nasa.gov/login?code=ed78d216e3f82bd4abc07846219e4054641ec0cc4f91a652525e87398a5a1b0a&state=%2Flp-prod-protected%2FEMITL2ARFL.001%2FEMIT_L2A_RFL_001_20230417T100443_2310707_042%2FEMIT_L2A_RFL_001_20230417T100443_2310707_042.nc\n",
            "Connecting to data.lpdaac.earthdatacloud.nasa.gov (data.lpdaac.earthdatacloud.nasa.gov)|18.66.255.115|:443... connected.\n",
            "HTTP request sent, awaiting response... 302 Found\n",
            "Location: https://data.lpdaac.earthdatacloud.nasa.gov/login?code=d8478d73fd9ecd08020d6248ef53e0e51d7c37faefae43cd3a7837990f5e0548&state=%2Flp-prod-protected%2FEMITL2ARFL.001%2FEMIT_L2A_RFL_001_20230417T100407_2310707_039%2FEMIT_L2A_RFL_001_20230417T100407_2310707_039.nc [following]\n",
            "--2023-09-01 19:30:08--  https://data.lpdaac.earthdatacloud.nasa.gov/login?code=d8478d73fd9ecd08020d6248ef53e0e51d7c37faefae43cd3a7837990f5e0548&state=%2Flp-prod-protected%2FEMITL2ARFL.001%2FEMIT_L2A_RFL_001_20230417T100407_2310707_039%2FEMIT_L2A_RFL_001_20230417T100407_2310707_039.nc\n",
            "Connecting to data.lpdaac.earthdatacloud.nasa.gov (data.lpdaac.earthdatacloud.nasa.gov)|18.66.255.37|:443... connected.\n",
            "302 Found\n",
            "Location: https://data.lpdaac.earthdatacloud.nasa.gov/login?code=e2febfab1383a79ab8557a5a085cbc23b683a0680667108b0a3a47836d131125&state=%2Flp-prod-protected%2FEMITL2ARFL.001%2FEMIT_L2A_RFL_001_20230417T100320_2310707_035%2FEMIT_L2A_RFL_001_20230417T100320_2310707_035.nc [following]\n",
            "--2023-09-01 19:30:08--  https://data.lpdaac.earthdatacloud.nasa.gov/login?code=e2febfab1383a79ab8557a5a085cbc23b683a0680667108b0a3a47836d131125&state=%2Flp-prod-protected%2FEMITL2ARFL.001%2FEMIT_L2A_RFL_001_20230417T100320_2310707_035%2FEMIT_L2A_RFL_001_20230417T100320_2310707_035.nc\n",
            "Connecting to data.lpdaac.earthdatacloud.nasa.gov (data.lpdaac.earthdatacloud.nasa.gov)|18.66.255.64|:443... connected.\n",
            "HTTP request sent, awaiting response... HTTP request sent, awaiting response... 302 Found\n",
            "Location: https://data.lpdaac.earthdatacloud.nasa.gov/login?code=1bc400a86ca84ac677c8b108c8bc2493b889c3001176726d9f5a5b3ba4728c32&state=%2Flp-prod-protected%2FEMITL2ARFL.001%2FEMIT_L2A_RFL_001_20230417T100419_2310707_040%2FEMIT_L2A_RFL_001_20230417T100419_2310707_040.nc [following]\n",
            "--2023-09-01 19:30:08--  https://data.lpdaac.earthdatacloud.nasa.gov/login?code=1bc400a86ca84ac677c8b108c8bc2493b889c3001176726d9f5a5b3ba4728c32&state=%2Flp-prod-protected%2FEMITL2ARFL.001%2FEMIT_L2A_RFL_001_20230417T100419_2310707_040%2FEMIT_L2A_RFL_001_20230417T100419_2310707_040.nc\n",
            "Connecting to data.lpdaac.earthdatacloud.nasa.gov (data.lpdaac.earthdatacloud.nasa.gov)|18.66.255.115|:443... connected.\n",
            "HTTP request sent, awaiting response... 303 See Other\n",
            "Location: https://d1nklfio7vscoe.cloudfront.net/s3-2d2df3a34830d5223d1e9547cd713408/lp-prod-protected.s3.us-west-2.amazonaws.com/EMITL2ARFL.001/EMIT_L2A_RFL_001_20230417T100431_2310707_041/EMIT_L2A_RFL_001_20230417T100431_2310707_041.nc?A-userid=kroy0001&Expires=1693600208&Signature=j~UOI75EyeIEQ7R6d~VdCTagY-JjuJqxXxwGqjIk2dUz7ASQP3INpwE7UxExGhDP4etaWg8p0w5cU3qby~SrbJC4h4zntPGLVeMssB-HtoKNWnJcxsdx4h1dwCsck6wqOwDpbVSTRWpT7-6FJUPKSm8VWvr2O14nK-yWVZyxwNx7cjEN9QMYuRT2LvbbVL4rNtbo2fepjZPkpADEynNrWcrLwNlEJdM1S9ByF9sGPOw17m4Fp9x5TNWjfEryfppWIJJ9ZLYjTCLLRNAGhib5-KdlMEr5mV-bgzGptfmCOVtoKWfNl7ZQeGz5YiRIGakVf7jqLhHQH39b91C~akvH1A__&Key-Pair-Id=K3SC68ZVJZY7ZI [following]\n",
            "--2023-09-01 19:30:08--  https://d1nklfio7vscoe.cloudfront.net/s3-2d2df3a34830d5223d1e9547cd713408/lp-prod-protected.s3.us-west-2.amazonaws.com/EMITL2ARFL.001/EMIT_L2A_RFL_001_20230417T100431_2310707_041/EMIT_L2A_RFL_001_20230417T100431_2310707_041.nc?A-userid=kroy0001&Expires=1693600208&Signature=j~UOI75EyeIEQ7R6d~VdCTagY-JjuJqxXxwGqjIk2dUz7ASQP3INpwE7UxExGhDP4etaWg8p0w5cU3qby~SrbJC4h4zntPGLVeMssB-HtoKNWnJcxsdx4h1dwCsck6wqOwDpbVSTRWpT7-6FJUPKSm8VWvr2O14nK-yWVZyxwNx7cjEN9QMYuRT2LvbbVL4rNtbo2fepjZPkpADEynNrWcrLwNlEJdM1S9ByF9sGPOw17m4Fp9x5TNWjfEryfppWIJJ9ZLYjTCLLRNAGhib5-KdlMEr5mV-bgzGptfmCOVtoKWfNl7ZQeGz5YiRIGakVf7jqLhHQH39b91C~akvH1A__&Key-Pair-Id=K3SC68ZVJZY7ZI\n",
            "Resolving d1nklfio7vscoe.cloudfront.net (d1nklfio7vscoe.cloudfront.net)... 18.66.255.81, 18.66.255.64, 18.66.255.37, ...\n",
            "Connecting to d1nklfio7vscoe.cloudfront.net (d1nklfio7vscoe.cloudfront.net)|18.66.255.81|:443... connected.\n",
            "HTTP request sent, awaiting response... 301 Moved Permanently\n",
            "Location: /lp-prod-protected/EMITL2ARFL.001/EMIT_L2A_RFL_001_20230417T100332_2310707_036/EMIT_L2A_RFL_001_20230417T100332_2310707_036.nc [following]\n",
            "--2023-09-01 19:30:09--  https://data.lpdaac.earthdatacloud.nasa.gov/lp-prod-protected/EMITL2ARFL.001/EMIT_L2A_RFL_001_20230417T100332_2310707_036/EMIT_L2A_RFL_001_20230417T100332_2310707_036.nc\n",
            "Reusing existing connection to data.lpdaac.earthdatacloud.nasa.gov:443.\n",
            "HTTP request sent, awaiting response... 301 Moved Permanently\n",
            "Location: /lp-prod-protected/EMITL2ARFL.001/EMIT_L2A_RFL_001_20230417T100356_2310707_038/EMIT_L2A_RFL_001_20230417T100356_2310707_038.nc [following]\n",
            "--2023-09-01 19:30:09--  https://data.lpdaac.earthdatacloud.nasa.gov/lp-prod-protected/EMITL2ARFL.001/EMIT_L2A_RFL_001_20230417T100356_2310707_038/EMIT_L2A_RFL_001_20230417T100356_2310707_038.nc\n",
            "Reusing existing connection to data.lpdaac.earthdatacloud.nasa.gov:443.\n",
            "HTTP request sent, awaiting response... 200 OK\n",
            "Length: 1850991988 (1.7G) [application/x-netcdf]\n",
            "Saving to: ‘EMIT_L2A_RFL_001_20230417T100431_2310707_041.nc’\n",
            "\n",
            "          EMIT_L2A_   0%[                    ]       0  --.-KB/s               301 Moved Permanently\n",
            "Location: /lp-prod-protected/EMITL2ARFL.001/EMIT_L2A_RFL_001_20230417T100344_2310707_037/EMIT_L2A_RFL_001_20230417T100344_2310707_037.nc [following]\n",
            "--2023-09-01 19:30:09--  https://data.lpdaac.earthdatacloud.nasa.gov/lp-prod-protected/EMITL2ARFL.001/EMIT_L2A_RFL_001_20230417T100344_2310707_037/EMIT_L2A_RFL_001_20230417T100344_2310707_037.nc\n",
            "Reusing existing connection to data.lpdaac.earthdatacloud.nasa.gov:443.\n",
            "         EMIT_L2A_R   0%[                    ] 209.49K  1007KB/s               301 Moved Permanently\n",
            "Location: /lp-prod-protected/EMITL2ARFL.001/EMIT_L2A_RFL_001_20230417T100455_2310707_043/EMIT_L2A_RFL_001_20230417T100455_2310707_043.nc [following]\n",
            "--2023-09-01 19:30:09--  https://data.lpdaac.earthdatacloud.nasa.gov/lp-prod-protected/EMITL2ARFL.001/EMIT_L2A_RFL_001_20230417T100455_2310707_043/EMIT_L2A_RFL_001_20230417T100455_2310707_043.nc\n",
            "Reusing existing connection to data.lpdaac.earthdatacloud.nasa.gov:443.\n",
            "HTTP request sent, awaiting response... 303 See Other\n",
            "Location: https://d1nklfio7vscoe.cloudfront.net/s3-2d2df3a34830d5223d1e9547cd713408/lp-prod-protected.s3.us-west-2.amazonaws.com/EMITL2ARFL.001/EMIT_L2A_RFL_001_20230417T100332_2310707_036/EMIT_L2A_RFL_001_20230417T100332_2310707_036.nc?A-userid=kroy0001&Expires=1693600209&Signature=DbyuBkxriqdPaN3V~J927C-ze3xDks~5OUBkXBPTBGjex8aPpC59hkVdgNi0J0efu~zUn0yeKKGAQS67Q3wSiY40fHhEoEzczZn4dSJTbGBWOZK3t3qODFhACN2vI2yv6yFAG2Fv8WAnt8bDQhGEIU8FgahcUou-Ah1E1lqGXF~WLJ8uBt95sO2hUrrH1brwz5xVLvGwyRsfyh-6XSUudkDGadUIzy7Md6EvVBqjafDxWXE6L6UsVzwUuPtrGYzVSpTLhJLiZYzR29Wvn-VEXO5A2jIFgxcxcMaAvTzjxVzwtYdm1vL2C4C5NTTggiDY3tEBW-7WMkKoynUdITufOw__&Key-Pair-Id=K3SC68ZVJZY7ZI [following]\n",
            "--2023-09-01 19:30:09--  https://d1nklfio7vscoe.cloudfront.net/s3-2d2df3a34830d5223d1e9547cd713408/lp-prod-protected.s3.us-west-2.amazonaws.com/EMITL2ARFL.001/EMIT_L2A_RFL_001_20230417T100332_2310707_036/EMIT_L2A_RFL_001_20230417T100332_2310707_036.nc?A-userid=kroy0001&Expires=1693600209&Signature=DbyuBkxriqdPaN3V~J927C-ze3xDks~5OUBkXBPTBGjex8aPpC59hkVdgNi0J0efu~zUn0yeKKGAQS67Q3wSiY40fHhEoEzczZn4dSJTbGBWOZK3t3qODFhACN2vI2yv6yFAG2Fv8WAnt8bDQhGEIU8FgahcUou-Ah1E1lqGXF~WLJ8uBt95sO2hUrrH1brwz5xVLvGwyRsfyh-6XSUudkDGadUIzy7Md6EvVBqjafDxWXE6L6UsVzwUuPtrGYzVSpTLhJLiZYzR29Wvn-VEXO5A2jIFgxcxcMaAvTzjxVzwtYdm1vL2C4C5NTTggiDY3tEBW-7WMkKoynUdITufOw__&Key-Pair-Id=K3SC68ZVJZY7ZI\n",
            "Resolving d1nklfio7vscoe.cloudfront.net (d1nklfio7vscoe.cloudfront.net)... 18.66.255.81, 18.66.255.64, 18.66.255.37, ...\n",
            "Connecting to d1nklfio7vscoe.cloudfront.net (d1nklfio7vscoe.cloudfront.net)|18.66.255.81|:443... connected.\n",
            "        EMIT_L2A_RF   0%[                    ]   2.34M  5.51MB/s               301 Moved Permanently\n",
            "Location: /lp-prod-protected/EMITL2ARFL.001/EMIT_L2A_RFL_001_20230417T100407_2310707_039/EMIT_L2A_RFL_001_20230417T100407_2310707_039.nc [following]\n",
            "--2023-09-01 19:30:09--  https://data.lpdaac.earthdatacloud.nasa.gov/lp-prod-protected/EMITL2ARFL.001/EMIT_L2A_RFL_001_20230417T100407_2310707_039/EMIT_L2A_RFL_001_20230417T100407_2310707_039.nc\n",
            "Reusing existing connection to data.lpdaac.earthdatacloud.nasa.gov:443.\n",
            "       EMIT_L2A_RFL   0%[                    ]  12.04M  19.2MB/s               303 See Other\n",
            "Location: https://d1nklfio7vscoe.cloudfront.net/s3-2d2df3a34830d5223d1e9547cd713408/lp-prod-protected.s3.us-west-2.amazonaws.com/EMITL2ARFL.001/EMIT_L2A_RFL_001_20230417T100356_2310707_038/EMIT_L2A_RFL_001_20230417T100356_2310707_038.nc?A-userid=kroy0001&Expires=1693600210&Signature=2RsN2hCLZ09Z~TTSQrlUnfgOpcZWQvEXQH~jBu7-rOPOOuQeP9MmO~DXQYOwg-qiddkSn3kPJH11a9QUCQfAAP0BdxQljpfQsoBCblthYLHMJkvjqk2WiXtnCcRye9UM3Me1EAjr7ivOBraXLEklbMdkZ8sN0QJ4kP9XBiYfV~zEu~NL1n61HuqSbpVmGSNijlrlmy1ve2TPbWzgk-MhdnjvM086Zxv0SBIxBlEPBk6pDmz1bN2yTyWaIUk2yaAPg7ZrAAaocwRcYQiKNDBDB8YZaz~o2nq-o8uGUPhhHAlYot8tzUqCdtAmNSwVa1-KXteKCvflm925NDmVVMNcLw__&Key-Pair-Id=K3SC68ZVJZY7ZI [following]\n",
            "--2023-09-01 19:30:10--  https://d1nklfio7vscoe.cloudfront.net/s3-2d2df3a34830d5223d1e9547cd713408/lp-prod-protected.s3.us-west-2.amazonaws.com/EMITL2ARFL.001/EMIT_L2A_RFL_001_20230417T100356_2310707_038/EMIT_L2A_RFL_001_20230417T100356_2310707_038.nc?A-userid=kroy0001&Expires=1693600210&Signature=2RsN2hCLZ09Z~TTSQrlUnfgOpcZWQvEXQH~jBu7-rOPOOuQeP9MmO~DXQYOwg-qiddkSn3kPJH11a9QUCQfAAP0BdxQljpfQsoBCblthYLHMJkvjqk2WiXtnCcRye9UM3Me1EAjr7ivOBraXLEklbMdkZ8sN0QJ4kP9XBiYfV~zEu~NL1n61HuqSbpVmGSNijlrlmy1ve2TPbWzgk-MhdnjvM086Zxv0SBIxBlEPBk6pDmz1bN2yTyWaIUk2yaAPg7ZrAAaocwRcYQiKNDBDB8YZaz~o2nq-o8uGUPhhHAlYot8tzUqCdtAmNSwVa1-KXteKCvflm925NDmVVMNcLw__&Key-Pair-Id=K3SC68ZVJZY7ZI\n",
            "Resolving d1nklfio7vscoe.cloudfront.net (d1nklfio7vscoe.cloudfront.net)... 18.66.255.81, 18.66.255.64, 18.66.255.37, ...\n",
            "Connecting to d1nklfio7vscoe.cloudfront.net (d1nklfio7vscoe.cloudfront.net)|18.66.255.81|:443... connected.\n",
            "301 Moved Permanently\n",
            "Location: /lp-prod-protected/EMITL2ARFL.001/EMIT_L2A_RFL_001_20230417T100443_2310707_042/EMIT_L2A_RFL_001_20230417T100443_2310707_042.nc [following]\n",
            "--2023-09-01 19:30:10--  https://data.lpdaac.earthdatacloud.nasa.gov/lp-prod-protected/EMITL2ARFL.001/EMIT_L2A_RFL_001_20230417T100443_2310707_042/EMIT_L2A_RFL_001_20230417T100443_2310707_042.nc\n",
            "Reusing existing connection to data.lpdaac.earthdatacloud.nasa.gov:443.\n",
            "HTTP request sent, awaiting response... HTTP request sent, awaiting response... 301 Moved Permanently\n",
            "Location: /lp-prod-protected/EMITL2ARFL.001/EMIT_L2A_RFL_001_20230417T100419_2310707_040/EMIT_L2A_RFL_001_20230417T100419_2310707_040.nc [following]\n",
            "--2023-09-01 19:30:10--  https://data.lpdaac.earthdatacloud.nasa.gov/lp-prod-protected/EMITL2ARFL.001/EMIT_L2A_RFL_001_20230417T100419_2310707_040/EMIT_L2A_RFL_001_20230417T100419_2310707_040.nc\n",
            "Reusing existing connection to data.lpdaac.earthdatacloud.nasa.gov:443.\n",
            "HTTP request sent, awaiting response... 303 See Other\n",
            "Location: https://d1nklfio7vscoe.cloudfront.net/s3-2d2df3a34830d5223d1e9547cd713408/lp-prod-protected.s3.us-west-2.amazonaws.com/EMITL2ARFL.001/EMIT_L2A_RFL_001_20230417T100344_2310707_037/EMIT_L2A_RFL_001_20230417T100344_2310707_037.nc?A-userid=kroy0001&Expires=1693600210&Signature=SiJQAOeN2oyTzKyurRAfDSj9wNoSCy7aQZk~~4-cmuRmYRXTXsasPrJqsyBOr33QSoPPZAlUI69~vtJXmwa7w1dxw4j2BBgmxUhVb6qTvOZnnJlnScQ5ZQ2CyJ8mf74zueIsCI-ha3Q2EwFZHwN8fFEvCRkEwcxeCvrCM4KbkQdXJvth1nq2DC6Ylfvkk38M8x40efU1LFMW-ZZ9o~4f-GJKoOaZVIszNAKGEOFjk1hpe1r~xZpFwuu-EN-ESJMVlYBayKgsmTAQdqkKrDBQMwJmPSmzAkmFeNvhaVssZH7f3-i7EbGnjHUIkV0Ycm~CKP0w53RCcDfCScSm2yyTdQ__&Key-Pair-Id=K3SC68ZVJZY7ZI [following]\n",
            "--2023-09-01 19:30:10--  https://d1nklfio7vscoe.cloudfront.net/s3-2d2df3a34830d5223d1e9547cd713408/lp-prod-protected.s3.us-west-2.amazonaws.com/EMITL2ARFL.001/EMIT_L2A_RFL_001_20230417T100344_2310707_037/EMIT_L2A_RFL_001_20230417T100344_2310707_037.nc?A-userid=kroy0001&Expires=1693600210&Signature=SiJQAOeN2oyTzKyurRAfDSj9wNoSCy7aQZk~~4-cmuRmYRXTXsasPrJqsyBOr33QSoPPZAlUI69~vtJXmwa7w1dxw4j2BBgmxUhVb6qTvOZnnJlnScQ5ZQ2CyJ8mf74zueIsCI-ha3Q2EwFZHwN8fFEvCRkEwcxeCvrCM4KbkQdXJvth1nq2DC6Ylfvkk38M8x40efU1LFMW-ZZ9o~4f-GJKoOaZVIszNAKGEOFjk1hpe1r~xZpFwuu-EN-ESJMVlYBayKgsmTAQdqkKrDBQMwJmPSmzAkmFeNvhaVssZH7f3-i7EbGnjHUIkV0Ycm~CKP0w53RCcDfCScSm2yyTdQ__&Key-Pair-Id=K3SC68ZVJZY7ZI\n",
            "Resolving d1nklfio7vscoe.cloudfront.net (d1nklfio7vscoe.cloudfront.net)... 18.66.255.81, 18.66.255.64, 18.66.255.37, ...\n",
            "Connecting to d1nklfio7vscoe.cloudfront.net (d1nklfio7vscoe.cloudfront.net)|18.66.255.81|:443... connected.\n",
            "303 See Other\n",
            "Location: https://d1nklfio7vscoe.cloudfront.net/s3-2d2df3a34830d5223d1e9547cd713408/lp-prod-protected.s3.us-west-2.amazonaws.com/EMITL2ARFL.001/EMIT_L2A_RFL_001_20230417T100407_2310707_039/EMIT_L2A_RFL_001_20230417T100407_2310707_039.nc?A-userid=kroy0001&Expires=1693600210&Signature=Gj5No4X0pczUQCjhNmrcUV1lVlqF67rTIoSb-fKePSC3OgDVmKEByUe9WtiNHPdmEs0LAdBs~SWLUC6Bu1Ru~ItiXEYGqh41XY9Q6rMCyGakaKstdQ1y15gRcDH5DM29cRvE2ikU7MRJLBponLe5TUSqlU2VtbXfpX5QjlfhGKcAy1eYhGqOfRJtoIRft2LM5D3u~yNgVaSYM~14RJ8bG903rV4tUXbYJs60J8JBD7OvF9mR4osJdkodhwuWeGZ9dYHvkHwOjvJNzm2Odzs3N8Ry0A43WTUsBVraw0UecAuk~fK2NSMc2dvASwcmQuJjPWeV48v6LAnHjEAGtew6hQ__&Key-Pair-Id=K3SC68ZVJZY7ZI [following]\n",
            "--2023-09-01 19:30:10--  https://d1nklfio7vscoe.cloudfront.net/s3-2d2df3a34830d5223d1e9547cd713408/lp-prod-protected.s3.us-west-2.amazonaws.com/EMITL2ARFL.001/EMIT_L2A_RFL_001_20230417T100407_2310707_039/EMIT_L2A_RFL_001_20230417T100407_2310707_039.nc?A-userid=kroy0001&Expires=1693600210&Signature=Gj5No4X0pczUQCjhNmrcUV1lVlqF67rTIoSb-fKePSC3OgDVmKEByUe9WtiNHPdmEs0LAdBs~SWLUC6Bu1Ru~ItiXEYGqh41XY9Q6rMCyGakaKstdQ1y15gRcDH5DM29cRvE2ikU7MRJLBponLe5TUSqlU2VtbXfpX5QjlfhGKcAy1eYhGqOfRJtoIRft2LM5D3u~yNgVaSYM~14RJ8bG903rV4tUXbYJs60J8JBD7OvF9mR4osJdkodhwuWeGZ9dYHvkHwOjvJNzm2Odzs3N8Ry0A43WTUsBVraw0UecAuk~fK2NSMc2dvASwcmQuJjPWeV48v6LAnHjEAGtew6hQ__&Key-Pair-Id=K3SC68ZVJZY7ZI\n",
            "Resolving d1nklfio7vscoe.cloudfront.net (d1nklfio7vscoe.cloudfront.net)... 18.66.255.81, 18.66.255.64, 18.66.255.37, ...\n",
            "      EMIT_L2A_RFL_   1%[                    ]  23.92M  28.3MB/s               HTTP request sent, awaiting response... connected.\n",
            "HTTP request sent, awaiting response... 200 OK\n",
            "Length: 1850936811 (1.7G) [application/x-netcdf]\n",
            "Saving to: ‘EMIT_L2A_RFL_001_20230417T100332_2310707_036.nc’\n",
            "\n",
            "          EMIT_L2A_   0%[                    ]       0  --.-KB/s               301 Moved Permanently\n",
            "Location: /lp-prod-protected/EMITL2ARFL.001/EMIT_L2A_RFL_001_20230417T100320_2310707_035/EMIT_L2A_RFL_001_20230417T100320_2310707_035.nc [following]\n",
            "--2023-09-01 19:30:10--  https://data.lpdaac.earthdatacloud.nasa.gov/lp-prod-protected/EMITL2ARFL.001/EMIT_L2A_RFL_001_20230417T100320_2310707_035/EMIT_L2A_RFL_001_20230417T100320_2310707_035.nc\n",
            "Reusing existing connection to data.lpdaac.earthdatacloud.nasa.gov:443.\n",
            "     EMIT_L2A_RFL_0   1%[                    ]  31.57M  30.2MB/s               303 See Other\n",
            "Location: https://d1nklfio7vscoe.cloudfront.net/s3-2d2df3a34830d5223d1e9547cd713408/lp-prod-protected.s3.us-west-2.amazonaws.com/EMITL2ARFL.001/EMIT_L2A_RFL_001_20230417T100455_2310707_043/EMIT_L2A_RFL_001_20230417T100455_2310707_043.nc?A-userid=kroy0001&Expires=1693600210&Signature=wP15Cn8r1zM4LiGZiCtMRcKnq53pJQk3FT~~y-0L6ENL99B3gseXlmFsCSbeE1iivRq8Iy~aVgh5dATTekvmbMiN8I1bdDXKdkE2iYsvkzKPgXz-d8BYbsbf~KBE7wLbbzIdCjp70KVbG2F5jSML64HSpBGDh1dCtxvcNFh21BUPzR~GIGY0k1P0yFKbo4QWQQ0r1WI23aWUJdoM4G9NglQ9nEfLKcYENLhwVNeNkuFB~DAGj0Ms~-b1Ftj0mPC9kGhFrueV7eVKQZgrQBPiBtGOR67YOPYEz3q0UMKQSJZrG7e4h0LuHWwsfL~e8HvkWMm5c9WkZTvK3Eu17eFDOg__&Key-Pair-Id=K3SC68ZVJZY7ZI [following]\n",
            "--2023-09-01 19:30:10--  https://d1nklfio7vscoe.cloudfront.net/s3-2d2df3a34830d5223d1e9547cd713408/lp-prod-protected.s3.us-west-2.amazonaws.com/EMITL2ARFL.001/EMIT_L2A_RFL_001_20230417T100455_2310707_043/EMIT_L2A_RFL_001_20230417T100455_2310707_043.nc?A-userid=kroy0001&Expires=1693600210&Signature=wP15Cn8r1zM4LiGZiCtMRcKnq53pJQk3FT~~y-0L6ENL99B3gseXlmFsCSbeE1iivRq8Iy~aVgh5dATTekvmbMiN8I1bdDXKdkE2iYsvkzKPgXz-d8BYbsbf~KBE7wLbbzIdCjp70KVbG2F5jSML64HSpBGDh1dCtxvcNFh21BUPzR~GIGY0k1P0yFKbo4QWQQ0r1WI23aWUJdoM4G9NglQ9nEfLKcYENLhwVNeNkuFB~DAGj0Ms~-b1Ftj0mPC9kGhFrueV7eVKQZgrQBPiBtGOR67YOPYEz3q0UMKQSJZrG7e4h0LuHWwsfL~e8HvkWMm5c9WkZTvK3Eu17eFDOg__&Key-Pair-Id=K3SC68ZVJZY7ZI\n",
            "Resolving d1nklfio7vscoe.cloudfront.net (d1nklfio7vscoe.cloudfront.net)... 18.66.255.81, 18.66.255.64, 18.66.255.37, ...\n",
            "Connecting to d1nklfio7vscoe.cloudfront.net (d1nklfio7vscoe.cloudfront.net)|18.66.255.81|:443... connected.\n",
            "         EMIT_L2A_R   0%[                    ] 226.49K  1.10MB/s               303 See Other\n",
            "Location: https://d1nklfio7vscoe.cloudfront.net/s3-2d2df3a34830d5223d1e9547cd713408/lp-prod-protected.s3.us-west-2.amazonaws.com/EMITL2ARFL.001/EMIT_L2A_RFL_001_20230417T100443_2310707_042/EMIT_L2A_RFL_001_20230417T100443_2310707_042.nc?A-userid=kroy0001&Expires=1693600210&Signature=vFMycbfVxeH-a4Iukd7TvEqXqzfjKYKeMBPmXFQJgO-MGgvxxSLct1uO0BDKJ-vEh~RCmpjMyLTu5c4PgSwR7qDmw9jnI6KC3-gnIXrKmMvsl2tKfzaonCKAA0I7M4MFrRX3R0uItnCQ2B5z1KGwtXwFIjLs3yF6vIAv6GtM~dt-yGpEAe0yATiumzxhzQx9EDA5jUhWKcj2a1OZeOzXwxnFjLp6mgfGSkWJBANDdG2CPyUE2oVYjD14VQCw-w8T97v5DhnuVLNZFO5cumGy99-ILl8tp6wvzbiivTo2EhxtPyjH5TPJcqQvRtJYe0gxpO4s~0r1SqVwY-lLF-ojfg__&Key-Pair-Id=K3SC68ZVJZY7ZI [following]\n",
            "--2023-09-01 19:30:10--  https://d1nklfio7vscoe.cloudfront.net/s3-2d2df3a34830d5223d1e9547cd713408/lp-prod-protected.s3.us-west-2.amazonaws.com/EMITL2ARFL.001/EMIT_L2A_RFL_001_20230417T100443_2310707_042/EMIT_L2A_RFL_001_20230417T100443_2310707_042.nc?A-userid=kroy0001&Expires=1693600210&Signature=vFMycbfVxeH-a4Iukd7TvEqXqzfjKYKeMBPmXFQJgO-MGgvxxSLct1uO0BDKJ-vEh~RCmpjMyLTu5c4PgSwR7qDmw9jnI6KC3-gnIXrKmMvsl2tKfzaonCKAA0I7M4MFrRX3R0uItnCQ2B5z1KGwtXwFIjLs3yF6vIAv6GtM~dt-yGpEAe0yATiumzxhzQx9EDA5jUhWKcj2a1OZeOzXwxnFjLp6mgfGSkWJBANDdG2CPyUE2oVYjD14VQCw-w8T97v5DhnuVLNZFO5cumGy99-ILl8tp6wvzbiivTo2EhxtPyjH5TPJcqQvRtJYe0gxpO4s~0r1SqVwY-lLF-ojfg__&Key-Pair-Id=K3SC68ZVJZY7ZI\n",
            "Resolving d1nklfio7vscoe.cloudfront.net (d1nklfio7vscoe.cloudfront.net)... 18.66.255.81, 18.66.255.64, 18.66.255.37, ...\n",
            "Connecting to d1nklfio7vscoe.cloudfront.net (d1nklfio7vscoe.cloudfront.net)|18.66.255.81|:443... connected.\n",
            "    EMIT_L2A_RFL_00   2%[                    ]  42.39M  33.9MB/s               200 OK\n",
            "Length: 1850988997 (1.7G) [application/x-netcdf]\n",
            "Saving to: ‘EMIT_L2A_RFL_001_20230417T100356_2310707_038.nc’\n",
            "\n",
            "          EMIT_L2A_   0%[                    ]       0  --.-KB/s               200 OK\n",
            "Length: 1850981827 (1.7G) [application/x-netcdf]\n",
            "Saving to: ‘EMIT_L2A_RFL_001_20230417T100344_2310707_037.nc’\n",
            "\n",
            "          EMIT_L2A_   0%[                    ]       0  --.-KB/s               200 OK\n",
            "Length: 1851001250 (1.7G) [application/x-netcdf]\n",
            "Saving to: ‘EMIT_L2A_RFL_001_20230417T100407_2310707_039.nc’\n",
            "\n",
            "       EMIT_L2A_RFL   0%[                    ]  12.21M  19.6MB/s               303 See Other\n",
            "Location: https://d1nklfio7vscoe.cloudfront.net/s3-2d2df3a34830d5223d1e9547cd713408/lp-prod-protected.s3.us-west-2.amazonaws.com/EMITL2ARFL.001/EMIT_L2A_RFL_001_20230417T100320_2310707_035/EMIT_L2A_RFL_001_20230417T100320_2310707_035.nc?A-userid=kroy0001&Expires=1693600210&Signature=O-nBlfcJfKQzVrj5q8sjMK57yrpOCf63iLGl4-YC7guHbRUbl5H-acuxKjNlKgF7jk~0GMg-LaHkt0VfTzrGFwPk2FUqQffIgKfjXODCa0Rf2b~pqbapWnyoDKKzkiVV2KtpsTpQ0AhwfrnqTP1MuvJaDAA8~jQAdnxOH3wcbHVnfFv7panplH33OTDms-yD6YeHTeTrlCfrb~KvtFt27ULwn5IwlhleQ5UXgmqFfwz-Utd6qyvgIi2xPrIYzDgAx5OYGA1iwWOGOMWfQ81DZmkXLy7cLXAZpKpfuR0Z4m764IbBNTTolsx36jByHztEFyFHfMAVsacKOwTa3PpygQ__&Key-Pair-Id=K3SC68ZVJZY7ZI [following]\n",
            "--2023-09-01 19:30:10--  https://d1nklfio7vscoe.cloudfront.net/s3-2d2df3a34830d5223d1e9547cd713408/lp-prod-protected.s3.us-west-2.amazonaws.com/EMITL2ARFL.001/EMIT_L2A_RFL_001_20230417T100320_2310707_035/EMIT_L2A_RFL_001_20230417T100320_2310707_035.nc?A-userid=kroy0001&Expires=1693600210&Signature=O-nBlfcJfKQzVrj5q8sjMK57yrpOCf63iLGl4-YC7guHbRUbl5H-acuxKjNlKgF7jk~0GMg-LaHkt0VfTzrGFwPk2FUqQffIgKfjXODCa0Rf2b~pqbapWnyoDKKzkiVV2KtpsTpQ0AhwfrnqTP1MuvJaDAA8~jQAdnxOH3wcbHVnfFv7panplH33OTDms-yD6YeHTeTrlCfrb~KvtFt27ULwn5IwlhleQ5UXgmqFfwz-Utd6qyvgIi2xPrIYzDgAx5OYGA1iwWOGOMWfQ81DZmkXLy7cLXAZpKpfuR0Z4m764IbBNTTolsx36jByHztEFyFHfMAVsacKOwTa3PpygQ__&Key-Pair-Id=K3SC68ZVJZY7ZI\n",
            "Resolving d1nklfio7vscoe.cloudfront.net (d1nklfio7vscoe.cloudfront.net)... 18.66.255.81, 18.66.255.64, 18.66.255.37, ...\n",
            "Connecting to d1nklfio7vscoe.cloudfront.net (d1nklfio7vscoe.cloudfront.net)|18.66.255.81|:443... connected.\n",
            "         EMIT_L2A_R   0%[                    ] 159.49K   791KB/s               303 See Other\n",
            "Location: https://d1nklfio7vscoe.cloudfront.net/s3-2d2df3a34830d5223d1e9547cd713408/lp-prod-protected.s3.us-west-2.amazonaws.com/EMITL2ARFL.001/EMIT_L2A_RFL_001_20230417T100419_2310707_040/EMIT_L2A_RFL_001_20230417T100419_2310707_040.nc?A-userid=kroy0001&Expires=1693600210&Signature=pX1xhjiMJB-2azHyaTcmogUvhbKzomcAQ~YWI~6W2ydF-WP-Z~7f9FfCy4fuzp-HWWAL3vhgLr0i9sDfgLE9vvSZ5UqJBPdKCkMwek9uiXpgTKZ5j91QodL3PKJHORI6VUYc0KBN2ev5cDQbPR3BOU~9TmvxyA0dVuT3RMDGQfRGDJzVST9hsLhh3LeKZi3ZzNRkPjulIiKP7igHXBFEkPWwHv3jmvmhBDNUyQIdC5reOG9bMjCPlpJTQjHwv8vD~Ht7Xgzog~VlyZdlHD00FtywpJTsquayu~jUK-mp4~7FisMUCOeML17G-UGnlknNp3IBJxTlTZc2mMrKMQfZ3Q__&Key-Pair-Id=K3SC68ZVJZY7ZI [following]\n",
            "--2023-09-01 19:30:11--  https://d1nklfio7vscoe.cloudfront.net/s3-2d2df3a34830d5223d1e9547cd713408/lp-prod-protected.s3.us-west-2.amazonaws.com/EMITL2ARFL.001/EMIT_L2A_RFL_001_20230417T100419_2310707_040/EMIT_L2A_RFL_001_20230417T100419_2310707_040.nc?A-userid=kroy0001&Expires=1693600210&Signature=pX1xhjiMJB-2azHyaTcmogUvhbKzomcAQ~YWI~6W2ydF-WP-Z~7f9FfCy4fuzp-HWWAL3vhgLr0i9sDfgLE9vvSZ5UqJBPdKCkMwek9uiXpgTKZ5j91QodL3PKJHORI6VUYc0KBN2ev5cDQbPR3BOU~9TmvxyA0dVuT3RMDGQfRGDJzVST9hsLhh3LeKZi3ZzNRkPjulIiKP7igHXBFEkPWwHv3jmvmhBDNUyQIdC5reOG9bMjCPlpJTQjHwv8vD~Ht7Xgzog~VlyZdlHD00FtywpJTsquayu~jUK-mp4~7FisMUCOeML17G-UGnlknNp3IBJxTlTZc2mMrKMQfZ3Q__&Key-Pair-Id=K3SC68ZVJZY7ZI\n",
            "Resolving d1nklfio7vscoe.cloudfront.net (d1nklfio7vscoe.cloudfront.net)... 18.66.255.81, 18.66.255.64, 18.66.255.37, ...\n",
            "Connecting to d1nklfio7vscoe.cloudfront.net (d1nklfio7vscoe.cloudfront.net)|18.66.255.81|:443... connected.\n",
            "         EMIT_L2A_R   0%[                    ] 296.49K  1.33MB/s               200 OK\n",
            "Length: 1850955691 (1.7G) [application/x-netcdf]\n",
            "Saving to: ‘EMIT_L2A_RFL_001_20230417T100455_2310707_043.nc’\n",
            "\n",
            "        EMIT_L2A_RF   0%[                    ]   3.65M  8.72MB/s               200 OK\n",
            "Length: 1850993872 (1.7G) [application/x-netcdf]\n",
            "Saving to: ‘EMIT_L2A_RFL_001_20230417T100443_2310707_042.nc’\n",
            "\n",
            "     EMIT_L2A_RFL_0   1%[                    ]  31.80M  28.7MB/s               200 OK\n",
            "Length: 1850946798 (1.7G) [application/x-netcdf]\n",
            "Saving to: ‘EMIT_L2A_RFL_001_20230417T100320_2310707_035.nc’\n",
            "\n",
            "          EMIT_L2A_   0%[                    ]       0  --.-KB/s               200 OK\n",
            "Length: 1850964268 (1.7G) [application/x-netcdf]\n",
            "Saving to: ‘EMIT_L2A_RFL_001_20230417T100419_2310707_040.nc’\n",
            "\n",
            "c                    48%[========>           ] 847.99M  11.1MB/s    eta 71s    "
          ]
        }
      ],
      "source": [
        "import time\n",
        "from multiprocessing import cpu_count\n",
        "from multiprocessing.pool import ThreadPool\n",
        "from google.colab import output\n",
        "\n",
        "def download_url(url):\n",
        "    !wget {url}\n",
        "\n",
        "def download_parallel(args):\n",
        "    cpus = 10\n",
        "    results = ThreadPool(cpus - 1).imap_unordered(download_url, args)\n",
        "    for result in results:\n",
        "        t0 = time.time()\n",
        "        print('time (s):', time.time() - t0)\n",
        "        output.clear()\n",
        "\n",
        "# Read URLs from the file\n",
        "file1 = open(\"/content/url.txt\", 'r')\n",
        "url_list = file1.readlines()\n",
        "file1.close()\n",
        "\n",
        "# Remove newlines and whitespace from URLs\n",
        "url_list = [url.strip() for url in url_list]\n",
        "\n",
        "download_parallel(url_list)\n"
      ]
    }
  ]
}