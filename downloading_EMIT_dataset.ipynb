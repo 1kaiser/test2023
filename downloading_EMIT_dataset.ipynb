{
  "nbformat": 4,
  "nbformat_minor": 0,
  "metadata": {
    "colab": {
      "provenance": [],
      "include_colab_link": true
    },
    "kernelspec": {
      "name": "python3",
      "display_name": "Python 3"
    },
    "language_info": {
      "name": "python"
    }
  },
  "cells": [
    {
      "cell_type": "markdown",
      "metadata": {
        "id": "view-in-github",
        "colab_type": "text"
      },
      "source": [
        "<a href=\"https://colab.research.google.com/github/1kaiser/test2023/blob/main/downloading_EMIT_dataset.ipynb\" target=\"_parent\"><img src=\"https://colab.research.google.com/assets/colab-badge.svg\" alt=\"Open In Colab\"/></a>"
      ]
    },
    {
      "cell_type": "code",
      "source": [
        "!pip install wget\n"
      ],
      "metadata": {
        "id": "qaAJ3NKbpdpN",
        "colab": {
          "base_uri": "https://localhost:8080/"
        },
        "outputId": "0f0edf2b-00eb-43e3-bdb8-f0cd3ab675e2"
      },
      "execution_count": 1,
      "outputs": [
        {
          "output_type": "stream",
          "name": "stdout",
          "text": [
            "Collecting wget\n",
            "  Downloading wget-3.2.zip (10 kB)\n",
            "  Preparing metadata (setup.py) ... \u001b[?25l\u001b[?25hdone\n",
            "Building wheels for collected packages: wget\n",
            "  Building wheel for wget (setup.py) ... \u001b[?25l\u001b[?25hdone\n",
            "  Created wheel for wget: filename=wget-3.2-py3-none-any.whl size=9655 sha256=1b65a625936f9704233070f68ce993049302d0574929f929909dc03d6b367e61\n",
            "  Stored in directory: /root/.cache/pip/wheels/8b/f1/7f/5c94f0a7a505ca1c81cd1d9208ae2064675d97582078e6c769\n",
            "Successfully built wget\n",
            "Installing collected packages: wget\n",
            "Successfully installed wget-3.2\n"
          ]
        }
      ]
    },
    {
      "cell_type": "markdown",
      "source": [
        "### creating credentials and saving the credentials as .netrc file"
      ],
      "metadata": {
        "id": "cmBafrI5BYfW"
      }
    },
    {
      "cell_type": "code",
      "source": [
        "!echo $HOME"
      ],
      "metadata": {
        "colab": {
          "base_uri": "https://localhost:8080/"
        },
        "id": "wTfjrQlO9CuQ",
        "outputId": "7c9e881e-2e56-4431-cd1e-9b1f75cf86fa"
      },
      "execution_count": 2,
      "outputs": [
        {
          "output_type": "stream",
          "name": "stdout",
          "text": [
            "/root\n"
          ]
        }
      ]
    },
    {
      "cell_type": "code",
      "source": [
        "%%writefile ~/.netrc\n",
        "machine urs.earthdata.nasa.gov\n",
        "    login kroy0001\n",
        "    password /#j%kWrPA,8.HRe"
      ],
      "metadata": {
        "colab": {
          "base_uri": "https://localhost:8080/"
        },
        "id": "HYzQRkiv9Te4",
        "outputId": "b544daf2-8f21-4d48-cb9b-ec63203b0317"
      },
      "execution_count": 3,
      "outputs": [
        {
          "output_type": "stream",
          "name": "stdout",
          "text": [
            "Writing /root/.netrc\n"
          ]
        }
      ]
    },
    {
      "cell_type": "code",
      "source": [
        "!chmod 600 ~/.netrc\n"
      ],
      "metadata": {
        "id": "tf_eDDN8-UiK"
      },
      "execution_count": 4,
      "outputs": []
    },
    {
      "cell_type": "markdown",
      "source": [
        "### **start downloading urls**"
      ],
      "metadata": {
        "id": "8PPPgQVdqfG9"
      }
    },
    {
      "cell_type": "code",
      "source": [
        "%%writefile url.txt\n",
        "https://data.lpdaac.earthdatacloud.nasa.gov/lp-prod-protected/EMITL2ARFL.001/EMIT_L2A_RFL_001_20230417T100455_2310707_043/EMIT_L2A_RFL_001_20230417T100455_2310707_043.nc\n",
        "https://data.lpdaac.earthdatacloud.nasa.gov/lp-prod-protected/EMITL2ARFL.001/EMIT_L2A_RFL_001_20230417T100443_2310707_042/EMIT_L2A_RFL_001_20230417T100443_2310707_042.nc\n",
        "https://data.lpdaac.earthdatacloud.nasa.gov/lp-prod-protected/EMITL2ARFL.001/EMIT_L2A_RFL_001_20230417T100431_2310707_041/EMIT_L2A_RFL_001_20230417T100431_2310707_041.nc\n",
        "https://data.lpdaac.earthdatacloud.nasa.gov/lp-prod-protected/EMITL2ARFL.001/EMIT_L2A_RFL_001_20230417T100419_2310707_040/EMIT_L2A_RFL_001_20230417T100419_2310707_040.nc\n",
        "https://data.lpdaac.earthdatacloud.nasa.gov/lp-prod-protected/EMITL2ARFL.001/EMIT_L2A_RFL_001_20230417T100407_2310707_039/EMIT_L2A_RFL_001_20230417T100407_2310707_039.nc\n",
        "https://data.lpdaac.earthdatacloud.nasa.gov/lp-prod-protected/EMITL2ARFL.001/EMIT_L2A_RFL_001_20230417T100356_2310707_038/EMIT_L2A_RFL_001_20230417T100356_2310707_038.nc\n",
        "https://data.lpdaac.earthdatacloud.nasa.gov/lp-prod-protected/EMITL2ARFL.001/EMIT_L2A_RFL_001_20230417T100344_2310707_037/EMIT_L2A_RFL_001_20230417T100344_2310707_037.nc\n",
        "https://data.lpdaac.earthdatacloud.nasa.gov/lp-prod-protected/EMITL2ARFL.001/EMIT_L2A_RFL_001_20230417T100332_2310707_036/EMIT_L2A_RFL_001_20230417T100332_2310707_036.nc\n",
        "https://data.lpdaac.earthdatacloud.nasa.gov/lp-prod-protected/EMITL2ARFL.001/EMIT_L2A_RFL_001_20230417T100320_2310707_035/EMIT_L2A_RFL_001_20230417T100320_2310707_035.nc\n",
        "https://data.lpdaac.earthdatacloud.nasa.gov/lp-prod-protected/EMITL2ARFL.001/EMIT_L2A_RFL_001_20230417T100308_2310707_034/EMIT_L2A_RFL_001_20230417T100308_2310707_034.nc\n",
        "https://data.lpdaac.earthdatacloud.nasa.gov/lp-prod-protected/EMITL2ARFL.001/EMIT_L2A_RFL_001_20230417T100256_2310707_033/EMIT_L2A_RFL_001_20230417T100256_2310707_033.nc\n",
        "https://data.lpdaac.earthdatacloud.nasa.gov/lp-prod-protected/EMITL2ARFL.001/EMIT_L2A_RFL_001_20230417T100245_2310707_032/EMIT_L2A_RFL_001_20230417T100245_2310707_032.nc"
      ],
      "metadata": {
        "colab": {
          "base_uri": "https://localhost:8080/"
        },
        "id": "2z6KfZgdORTU",
        "outputId": "0d2f65d9-e191-40da-8bbc-23191b9d5f83"
      },
      "execution_count": 5,
      "outputs": [
        {
          "output_type": "stream",
          "name": "stdout",
          "text": [
            "Writing url.txt\n"
          ]
        }
      ]
    },
    {
      "cell_type": "code",
      "execution_count": 6,
      "metadata": {
        "id": "oLVx3jWCcNV9"
      },
      "outputs": [],
      "source": [
        "import time\n",
        "from multiprocessing import cpu_count\n",
        "from multiprocessing.pool import ThreadPool\n",
        "from google.colab import output\n",
        "\n",
        "def download_url(url):\n",
        "    !wget {url}\n",
        "\n",
        "def download_parallel(args):\n",
        "    cpus = 10\n",
        "    results = ThreadPool(cpus - 1).imap_unordered(download_url, args)\n",
        "    for result in results:\n",
        "        t0 = time.time()\n",
        "        print('time (s):', time.time() - t0)\n",
        "        output.clear()\n",
        "\n",
        "# Read URLs from the file\n",
        "file1 = open(\"/content/url.txt\", 'r')\n",
        "url_list = file1.readlines()\n",
        "file1.close()\n",
        "\n",
        "# Remove newlines and whitespace from URLs\n",
        "url_list = [url.strip() for url in url_list]\n",
        "\n",
        "download_parallel(url_list)\n"
      ]
    },
    {
      "cell_type": "code",
      "source": [
        "from google.colab import drive\n",
        "drive.mount('/content/drive')"
      ],
      "metadata": {
        "id": "kof300qDPwuw",
        "outputId": "43d3346a-cba1-437c-f21b-ceefd04b1052",
        "colab": {
          "base_uri": "https://localhost:8080/"
        }
      },
      "execution_count": 7,
      "outputs": [
        {
          "output_type": "stream",
          "name": "stdout",
          "text": [
            "Mounted at /content/drive\n"
          ]
        }
      ]
    },
    {
      "cell_type": "code",
      "source": [
        "!mkdir -p /content/drive/MyDrive/OUT/exportc\n",
        "!cp -r /content/*.nc /content/drive/MyDrive/OUT/exportc"
      ],
      "metadata": {
        "id": "UFmIdiEGQIrT"
      },
      "execution_count": 8,
      "outputs": []
    }
  ]
}